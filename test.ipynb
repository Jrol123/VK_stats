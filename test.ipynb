{
 "cells": [
  {
   "cell_type": "code",
   "outputs": [],
   "source": [
    "import vk_api\n",
    "import csv\n",
    "from datetime import datetime\n",
    "\n",
    "from dotenv import dotenv_values\n",
    "\n",
    "secrets = dotenv_values(\".env\")\n",
    "\n",
    "vk = vk_api.VkApi(\n",
    "    token=secrets['VK_TOKEN'])\n",
    "\n",
    "id_chat = int(secrets['CHAT_ID'])"
   ],
   "metadata": {
    "collapsed": false,
    "ExecuteTime": {
     "end_time": "2024-02-24T07:16:59.478229300Z",
     "start_time": "2024-02-24T07:16:59.462703300Z"
    }
   },
   "id": "e4b2ceff358d476b",
   "execution_count": 7
  },
  {
   "cell_type": "code",
   "outputs": [],
   "source": [],
   "metadata": {
    "collapsed": false,
    "ExecuteTime": {
     "end_time": "2024-02-24T07:50:45.775423300Z",
     "start_time": "2024-02-24T07:50:45.760828200Z"
    }
   },
   "id": "cb528040a2510b78",
   "execution_count": 27
  }
 ],
 "metadata": {
  "kernelspec": {
   "display_name": "Python 3",
   "language": "python",
   "name": "python3"
  },
  "language_info": {
   "codemirror_mode": {
    "name": "ipython",
    "version": 2
   },
   "file_extension": ".py",
   "mimetype": "text/x-python",
   "name": "python",
   "nbconvert_exporter": "python",
   "pygments_lexer": "ipython2",
   "version": "2.7.6"
  }
 },
 "nbformat": 4,
 "nbformat_minor": 5
}
