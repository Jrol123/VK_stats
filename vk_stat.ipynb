{
 "cells": [
  {
   "cell_type": "markdown",
   "source": [
    "# Подготовительный этап"
   ],
   "metadata": {
    "collapsed": false
   },
   "id": "41f36efef10fa7fa"
  },
  {
   "cell_type": "markdown",
   "source": [
    "## Получение чата"
   ],
   "metadata": {
    "collapsed": false
   },
   "id": "23cb80cec045b708"
  },
  {
   "cell_type": "markdown",
   "source": [
    "### Подготовительный этап\n",
    "\n",
    "#### Цели:\n",
    "1. Получить ***vk token***\n",
    "2. Получить ***id чата***, состоящий из двух цифр\n",
    "3. Определиться, должна ли будет проводиться загрузка фото и стикеров\n",
    "\n",
    "#### Решение:\n",
    "1. Гугл в помощь + ***.env*** для хранения\n",
    "2. Адресная строка в помощь\n",
    "3. Введена дополнительная переменная для определения того, следует ли пытаться загрузить изображения и стикеры, или нет"
   ],
   "metadata": {
    "collapsed": false
   },
   "id": "f7b172afe522750"
  },
  {
   "cell_type": "code",
   "outputs": [
    {
     "ename": "KeyError",
     "evalue": "'VK_TOKEN'",
     "output_type": "error",
     "traceback": [
      "\u001B[1;31m---------------------------------------------------------------------------\u001B[0m",
      "\u001B[1;31mKeyError\u001B[0m                                  Traceback (most recent call last)",
      "Cell \u001B[1;32mIn[3], line 14\u001B[0m\n\u001B[0;32m     10\u001B[0m secrets \u001B[38;5;241m=\u001B[39m dotenv_values(\u001B[38;5;124m\"\u001B[39m\u001B[38;5;124m.env\u001B[39m\u001B[38;5;124m\"\u001B[39m)\n\u001B[0;32m     11\u001B[0m \u001B[38;5;124;03m\"\"\"Секреты\"\"\"\u001B[39;00m\n\u001B[0;32m     13\u001B[0m vk \u001B[38;5;241m=\u001B[39m vk_api\u001B[38;5;241m.\u001B[39mVkApi(\n\u001B[1;32m---> 14\u001B[0m     token\u001B[38;5;241m=\u001B[39m\u001B[43msecrets\u001B[49m\u001B[43m[\u001B[49m\u001B[38;5;124;43m'\u001B[39;49m\u001B[38;5;124;43mVK_TOKEN\u001B[39;49m\u001B[38;5;124;43m'\u001B[39;49m\u001B[43m]\u001B[49m)\n\u001B[0;32m     15\u001B[0m \u001B[38;5;124;03m\"\"\"Модуль ВК\"\"\"\u001B[39;00m\n\u001B[0;32m     17\u001B[0m id_chat \u001B[38;5;241m=\u001B[39m \u001B[38;5;28mint\u001B[39m(secrets[\u001B[38;5;124m'\u001B[39m\u001B[38;5;124mCHAT_ID\u001B[39m\u001B[38;5;124m'\u001B[39m])\n",
      "\u001B[1;31mKeyError\u001B[0m: 'VK_TOKEN'"
     ]
    }
   ],
   "source": [
    "import vk_api\n",
    "import urllib3\n",
    "import pandas as pd\n",
    "from math import ceil\n",
    "from datetime import datetime\n",
    "\n",
    "from dotenv import dotenv_values\n",
    "\n",
    "\n",
    "secrets = dotenv_values(\".env\")\n",
    "\"\"\"Секреты\"\"\"\n",
    "\n",
    "vk = vk_api.VkApi(\n",
    "    token=secrets['VK_TOKEN'])\n",
    "\"\"\"Модуль ВК\"\"\"\n",
    "\n",
    "id_chat = int(secrets['CHAT_ID'])\n",
    "\"\"\"id чата\"\"\"\n",
    "\n",
    "SHOULD_DOWNLOAD = False\n",
    "\"\"\"Должна ли проводиться загрузка фото/стикеров\"\"\"\n"
   ],
   "metadata": {
    "collapsed": false,
    "ExecuteTime": {
     "end_time": "2024-02-29T04:30:18.347456Z",
     "start_time": "2024-02-29T04:30:18.305484Z"
    }
   },
   "id": "e4b2ceff358d476b",
   "execution_count": 3
  },
  {
   "cell_type": "markdown",
   "source": [
    "### Определение функций\n",
    "\n",
    "Необходимо определиться с тем, как будет получаться необходимая информация с vk.\n",
    "Поскольку используется ***vk_api***, то можно использовать официальную документацию по работе с api.\n",
    "\n",
    "**get_chat** — работает с ***vk.method***, поэтому все параметры приходится прописывать в роли dictionary.\n",
    "**download_&** — работает с помощью ***urllib3***. Получается изображение с сайта, затем оно сохраняется и готово.\n",
    "\n",
    "Дополнительную информацию можно прочесть в документации в коде."
   ],
   "metadata": {
    "collapsed": false
   },
   "id": "6aa48d8f5fc5156c"
  },
  {
   "cell_type": "code",
   "outputs": [],
   "source": [
    "def download_image(url: str) -> None:\n",
    "    \"\"\"\n",
    "\n",
    "    Функция загрузки изображения\n",
    "\n",
    "    :param url: URL адрес картинки\n",
    "    :type url: str\n",
    "\n",
    "    :return: Сохраняет картинку в папку\n",
    "        Каждая картинка появляется лишь 1 раз\n",
    "    :rtype: None\n",
    "\n",
    "    \"\"\"\n",
    "    file_name = (url.split(\"/\")[-1]).split(\"?\")[0]\n",
    "    \"\"\"Имя картинки\"\"\"\n",
    "\n",
    "    result_image = urllib3.request('GET', url)\n",
    "    \"\"\"Полученное изображение\"\"\"\n",
    "    with open(f'content/visual/images/{file_name}', 'wb') as image:\n",
    "        image.write(result_image.data)\n",
    "\n",
    "\n",
    "def download_sticker(id_sticker: int) -> None:\n",
    "    \"\"\"\n",
    "\n",
    "    Функция загрузки стикера\n",
    "\n",
    "    :param id_sticker: Номер стикера\n",
    "    :type id_sticker: int\n",
    "\n",
    "    :return: Сохраняет стикер в папку\n",
    "        Каждый стикер появляется лишь 1 раз\n",
    "        Стикеры сохраняются в формате .png в разрешении 512x512\n",
    "    :rtype: None\n",
    "\n",
    "    \"\"\"\n",
    "    result_sticker = urllib3.request('GET', f\"https://vk.com/sticker/1-{id_sticker}-512b\")\n",
    "    \"\"\"Полученный стикер\"\"\"\n",
    "    with open(f'content/visual/stickers/{id_sticker}.png', 'wb') as f:\n",
    "        f.write(result_sticker.data)\n",
    "\n",
    "\n",
    "def get_chat(peer_id: int = id_chat, count: int = 200, offset: int = 0) -> dict:\n",
    "    \"\"\"\n",
    "\n",
    "    Позволяет получить сообщения из чата.\n",
    "\n",
    "    :param peer_id: id чата.\n",
    "        Работает через peer\n",
    "    :type peer_id: int\n",
    "    :param count: Количество получаемых сообщений <= 200\n",
    "    :type count: int\n",
    "    :param offset: Сдвиг от начального сообщения\n",
    "    :type offset: int\n",
    "\n",
    "    :return: Словарь с сообщениями и их параметрами\n",
    "    :rtype: dict\n",
    "\n",
    "    \"\"\"\n",
    "    # Требуется добавлять 2e9 по документации vk api\n",
    "    peer_id += 2e9\n",
    "\n",
    "    return vk.method('messages.getHistory',\n",
    "                     {'peer_id': peer_id,\n",
    "                      'count': count,\n",
    "                      'offset': offset,\n",
    "                      'rev': 1,\n",
    "                      'extended': True}\n",
    "                     )\n",
    "\n",
    "\n",
    "def get_fullname(user_id: int, full_response: dict) -> str:\n",
    "    \"\"\"\n",
    "\n",
    "    Получение полного имени пользователя\n",
    "\n",
    "    API ВКонтакте выдаёт набор профилей пользователей, писавших сообщения\n",
    "    Производится перебор id профилей и подбор под user_id\n",
    "\n",
    "    :param user_id: ID пользователя\n",
    "    :param full_response: Расширенный набор сообщений\n",
    "\n",
    "    :return: ФИО в формате: Имя + \" \" + Фамилия\n",
    "    :rtype: str\n",
    "\n",
    "    \"\"\"\n",
    "    for profile in full_response['profiles']:\n",
    "        if profile['id'] == user_id:\n",
    "            # Если аккаунт пользователя удалён\n",
    "            if profile['first_name'] == 'DELETED':\n",
    "                return 'EMPTY_USER' + ' ' + str(user_id)\n",
    "            return profile['first_name'] + ' ' + profile['last_name']\n",
    "\n",
    "\n",
    "def get_date(utc_date: int) -> str:\n",
    "    \"\"\"\n",
    "\n",
    "    Перевод даты из UTC формата в нормальный формат\n",
    "\n",
    "    :param utc_date: Дата в формате utc\n",
    "    :type utc_date: int\n",
    "\n",
    "    :return: Дата в формате YYYY-MM-DD HH:MM:SS\n",
    "    :rtype: str\n",
    "\n",
    "    \"\"\"\n",
    "    return datetime.utcfromtimestamp(utc_date).strftime('%Y-%m-%d %H:%M:%S')"
   ],
   "metadata": {
    "collapsed": false,
    "ExecuteTime": {
     "start_time": "2024-02-29T03:21:47.091374Z"
    }
   },
   "id": "713deab9cba6f905",
   "execution_count": null
  },
  {
   "cell_type": "markdown",
   "source": [
    "### Получение чата\n",
    "\n",
    "Теперь необходимо получить сам чат.\n",
    "\n",
    "Делается это в два этапа:\n",
    "\n",
    "#### Этап 1:\n",
    "##### Получение длины чата.\n",
    "\n",
    "Берётся одно сообщение из чата.\n",
    "В каждый ***response*** закладывается количество сообщений в чате.\n",
    "С его помощью можно завести цикл по количеству сообщений.\n",
    "\n",
    "#### Этап 2:\n",
    "##### Сам цикл.\n",
    "\n",
    "За раз я могу получить лишь 200 сообщений из чата.\n",
    "***delta*** делает отступ от первого сообщения в чате, а также является счётчиком того, сколько сообщений было прочитано.\n",
    "\n",
    "#### Этап 3:\n",
    "##### Разбор сообщений.\n",
    "\n",
    "Сообщения имеют следующие характеристики:\n",
    "**Является ли действием**\n",
    "**Текст**\n",
    "**Приложенный файл**\n",
    "**Реакции на сообщение**\n",
    "\n",
    "На данный момент идёт базовая фильтрация по разнообразным параметрам.\n",
    "\n",
    "Есть проблема с получением реакций.\n",
    "Это можно исправить сделав единый стандарт сообщения.\n",
    "Можно просто завести *dict*."
   ],
   "metadata": {
    "collapsed": false
   },
   "id": "e7c838f9fbfc8694"
  },
  {
   "cell_type": "code",
   "outputs": [
    {
     "ename": "NameError",
     "evalue": "name 'get_chat' is not defined",
     "output_type": "error",
     "traceback": [
      "\u001B[1;31m---------------------------------------------------------------------------\u001B[0m",
      "\u001B[1;31mNameError\u001B[0m                                 Traceback (most recent call last)",
      "Cell \u001B[1;32mIn[2], line 1\u001B[0m\n\u001B[1;32m----> 1\u001B[0m length_chat \u001B[38;5;241m=\u001B[39m \u001B[43mget_chat\u001B[49m(count\u001B[38;5;241m=\u001B[39m\u001B[38;5;241m1\u001B[39m)[\u001B[38;5;124m'\u001B[39m\u001B[38;5;124mcount\u001B[39m\u001B[38;5;124m'\u001B[39m]\n\u001B[0;32m      2\u001B[0m \u001B[38;5;124;03m\"\"\"Количество сообщений в чате\"\"\"\u001B[39;00m\n\u001B[0;32m      3\u001B[0m \u001B[38;5;66;03m# print(int(ceil(length_chat / 200)))\u001B[39;00m\n",
      "\u001B[1;31mNameError\u001B[0m: name 'get_chat' is not defined"
     ]
    }
   ],
   "source": [
    "length_chat = get_chat(count=1)['count']\n",
    "\"\"\"Количество сообщений в чате\"\"\"\n",
    "# print(int(ceil(length_chat / 200)))\n",
    "\n",
    "msg_mass = []\n",
    "\"\"\"Массив сообщений\"\"\"\n",
    "\n",
    "count_dead_msg = 0\n",
    "\"\"\"Количество удалённых сообщений, на которые был дан ответ\"\"\"\n",
    "\n",
    "print(\"id — date — isAction — username — text — attachments — reactions — response\")\n",
    "\n",
    "start_time = datetime.now()\n",
    "\"\"\"Время начала получения статистики\"\"\"\n",
    "for times_add in range(870, int(ceil(length_chat / 200))):\n",
    "\n",
    "    print(times_add)\n",
    "    delta = 200 * times_add\n",
    "    \"\"\"Отступ от первого сообщения\"\"\"\n",
    "    messages = get_chat(count=min(200, length_chat - delta), offset=delta)\n",
    "    \"\"\"count сообщений после delta\"\"\"\n",
    "\n",
    "    for item_data in messages['items']:\n",
    "        attachments_type = None\n",
    "        attachments = []\n",
    "        \"\"\"Прикреплённые доп. материалы\"\"\"\n",
    "        if item_data.get('attachments'):\n",
    "\n",
    "            for attachment in item_data['attachments']:\n",
    "                if attachment['type'] == 'photo':\n",
    "                    attachments_type = 'photo'\n",
    "                    attachments.append(\n",
    "                        (((attachment['photo']['sizes'][-1]['url']).split(\"/\")[-1]).split(\"?\"))[0]\n",
    "                    )\n",
    "                elif attachment['type'] == 'sticker':\n",
    "                    attachments_type = 'sticker'\n",
    "                    attachments.append(str(attachment['sticker']['sticker_id']) + \".png\")\n",
    "\n",
    "        reactions = [0] * (16 + 1)\n",
    "        \"\"\"Реакции\"\"\"\n",
    "        if item_data.get('reactions'):\n",
    "            # Почему-то не всегда показывает тех, кто ставил реакции\n",
    "            # #1\n",
    "            for reaction in item_data['reactions']:\n",
    "                reactions[0] += reaction['count']\n",
    "                user_list = [reaction['count']]\n",
    "                for user in reaction['user_ids']:\n",
    "                    user_list.append(get_fullname(user, messages))\n",
    "                reactions[reaction['reaction_id']] = user_list\n",
    "\n",
    "        response = {'id': None,\n",
    "                    'date': None,\n",
    "                    'user': {'id': None,\n",
    "                             'username': None,\n",
    "                             },\n",
    "                    'text': None,\n",
    "                    'attachments': {'type': None,\n",
    "                                    'value': []\n",
    "                                    # Содержит в себе название файла\n",
    "                                    }\n",
    "                    }\n",
    "        \"\"\"Ответ на сообщение\"\"\"\n",
    "        if item_data.get('reply_message'):\n",
    "            reply = item_data['reply_message']\n",
    "            if reply.get('conversation_message_id'):\n",
    "                response['id'] = reply['conversation_message_id']\n",
    "            if not reply.get('conversation_message_id') or response['id'] == 0:\n",
    "                response['id'] = f'f{count_dead_msg}'\n",
    "                count_dead_msg += 1\n",
    "            response['date'] = get_date(reply['date'])\n",
    "            response['user']['id'] = reply['from_id']\n",
    "            response['user']['username'] = get_fullname(reply['from_id'], messages)\n",
    "            response['text'] = reply['text']\n",
    "\n",
    "            for attachment in reply['attachments']:\n",
    "                if attachment['type'] == 'photo':\n",
    "                    response['attachments']['type'] = 'photo'\n",
    "                    response['attachments']['value'].append(\n",
    "                        (((attachment['photo']['sizes'][-1]['url']).split(\"/\")[-1]).split(\"?\"))[0]\n",
    "                    )\n",
    "                elif attachment['type'] == 'sticker':\n",
    "                    response['attachments']['type'] = 'sticker'\n",
    "                    response['attachments']['value'].append(str(attachment['sticker']['sticker_id']) + \".png\")\n",
    "\n",
    "        item = {'id': item_data['id'],\n",
    "                'date': get_date(item_data['date']),\n",
    "                'isAction': item_data.get('action'),\n",
    "                'id_user': item_data['from_id'],\n",
    "                'username': get_fullname(item_data['from_id'], messages),\n",
    "                'text': item_data['text'],\n",
    "                'attachments_type': attachments_type,\n",
    "                'attachments': attachments,\n",
    "                'reactions': reactions,\n",
    "                'response_id': response['id'],\n",
    "                'response_date': response['date'],\n",
    "                'response_id_user': response['user']['id'],\n",
    "                'response_username': response['user']['username'],\n",
    "                'response_text': response['text'],\n",
    "                'response_attachments_type': response['attachments']['type'],\n",
    "                'response_attachments': response['attachments']['value']\n",
    "                }\n",
    "        \"\"\"Сообщение\"\"\"\n",
    "\n",
    "        msg_mass.append(item)\n",
    "\n",
    "        # Загрузка доп данных\n",
    "        if SHOULD_DOWNLOAD and item_data.get('attachments'):\n",
    "            for attachment in item_data['attachments']:\n",
    "                if attachment['type'] == 'photo':\n",
    "                    download_image(attachment['photo']['sizes'][-1]['url'])\n",
    "                elif attachment['type'] == 'sticker':\n",
    "                    download_sticker(attachment['sticker']['sticker_id'])\n",
    "\n",
    "end_time = datetime.now()\n",
    "\"\"\"Время завершения программы получения статистики\"\"\"\n",
    "print(end_time - start_time)\n",
    "\n",
    "# https://stackoverflow.com/questions/13575090/construct-pandas-dataframe-from-items-in-nested-dictionary\n",
    "\n",
    "chat_df = pd.DataFrame(msg_mass)\n",
    "\n",
    "chat_df"
   ],
   "metadata": {
    "collapsed": false,
    "ExecuteTime": {
     "end_time": "2024-02-29T04:30:07.965670Z",
     "start_time": "2024-02-29T04:30:07.776553Z"
    }
   },
   "id": "1bc58a275a7daaee",
   "execution_count": 2
  },
  {
   "cell_type": "code",
   "outputs": [],
   "source": [
    "chat_df.dtypes"
   ],
   "metadata": {
    "collapsed": false,
    "ExecuteTime": {
     "start_time": "2024-02-29T03:21:47.096865Z"
    }
   },
   "id": "792ca86fc3a3c4f6",
   "execution_count": null
  },
  {
   "cell_type": "code",
   "outputs": [],
   "source": [
    "# chat_df.isAction = chat_df.isAction.fillna(0).astype(bool)\n",
    "# chat_df.text = chat_df.text.fillna(0).astype(str)\n",
    "chat_df.dtypes"
   ],
   "metadata": {
    "collapsed": false,
    "ExecuteTime": {
     "start_time": "2024-02-29T03:21:47.082316Z"
    }
   },
   "id": "cacd3aba3fb6bae3",
   "execution_count": null
  }
 ],
 "metadata": {
  "kernelspec": {
   "display_name": "Python 3",
   "language": "python",
   "name": "python3"
  },
  "language_info": {
   "codemirror_mode": {
    "name": "ipython",
    "version": 2
   },
   "file_extension": ".py",
   "mimetype": "text/x-python",
   "name": "python",
   "nbconvert_exporter": "python",
   "pygments_lexer": "ipython2",
   "version": "2.7.6"
  }
 },
 "nbformat": 4,
 "nbformat_minor": 5
}
