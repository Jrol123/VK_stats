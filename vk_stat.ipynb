{
 "cells": [
  {
   "cell_type": "markdown",
   "source": [
    "***Подготовительный этап***\n",
    "\n",
    "Для начала необходимо сделать следующее:\n",
    "1. Получить vk token\n",
    "2. Получить id чата в двуциферном формате\n",
    "3. Определиться, должна ли будет проводиться загрузка фото и картинок"
   ],
   "metadata": {
    "collapsed": false
   },
   "id": "41f36efef10fa7fa"
  },
  {
   "cell_type": "code",
   "outputs": [
    {
     "data": {
      "text/plain": "'Должна ли проводиться загрузка фото/стикеров'"
     },
     "execution_count": 1,
     "metadata": {},
     "output_type": "execute_result"
    }
   ],
   "source": [
    "import vk_api\n",
    "import urllib3\n",
    "from math import ceil\n",
    "from datetime import datetime\n",
    "\n",
    "from dotenv import dotenv_values\n",
    "\n",
    "secrets = dotenv_values(\".env\")\n",
    "\"\"\"Секреты\"\"\"\n",
    "\n",
    "vk = vk_api.VkApi(\n",
    "    token=secrets['VK_TOKEN'])\n",
    "\"\"\"Модуль ВК\"\"\"\n",
    "\n",
    "id_chat = int(secrets['CHAT_ID'])\n",
    "\"\"\"id чата\"\"\"\n",
    "\n",
    "SHOULD_DOWNLOAD = False\n",
    "\"\"\"Должна ли проводиться загрузка фото/стикеров\"\"\"\n"
   ],
   "metadata": {
    "collapsed": false,
    "ExecuteTime": {
     "end_time": "2024-02-25T14:03:58.199913Z",
     "start_time": "2024-02-25T14:03:58.047667200Z"
    }
   },
   "id": "e4b2ceff358d476b",
   "execution_count": 1
  },
  {
   "cell_type": "markdown",
   "source": [
    "******"
   ],
   "metadata": {
    "collapsed": false
   },
   "id": "23cb80cec045b708"
  }
 ],
 "metadata": {
  "kernelspec": {
   "display_name": "Python 3",
   "language": "python",
   "name": "python3"
  },
  "language_info": {
   "codemirror_mode": {
    "name": "ipython",
    "version": 2
   },
   "file_extension": ".py",
   "mimetype": "text/x-python",
   "name": "python",
   "nbconvert_exporter": "python",
   "pygments_lexer": "ipython2",
   "version": "2.7.6"
  }
 },
 "nbformat": 4,
 "nbformat_minor": 5
}
