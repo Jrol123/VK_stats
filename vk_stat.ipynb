{
 "cells": [
  {
   "cell_type": "markdown",
   "source": [
    "# Подготовительный этап"
   ],
   "metadata": {
    "collapsed": false
   },
   "id": "41f36efef10fa7fa"
  },
  {
   "cell_type": "markdown",
   "source": [
    "## Получение чата"
   ],
   "metadata": {
    "collapsed": false
   },
   "id": "23cb80cec045b708"
  },
  {
   "cell_type": "markdown",
   "source": [
    "### Подготовительный этап\n",
    "\n",
    "#### Цели:\n",
    "1. Получить ***vk token***\n",
    "2. Получить ***id чата***, состоящий из двух цифр\n",
    "3. Определиться, должна ли будет проводиться загрузка фото и стикеров\n",
    "\n",
    "#### Решение:\n",
    "1. Гугл в помощь + ***.env*** для хранения\n",
    "2. Адресная строка в помощь\n",
    "3. Введена дополнительная переменная для определения того, следует ли пытаться загрузить изображения и стикеры, или нет"
   ],
   "metadata": {
    "collapsed": false
   },
   "id": "f7b172afe522750"
  },
  {
   "cell_type": "code",
   "outputs": [
    {
     "data": {
      "text/plain": "'Должна ли проводиться загрузка фото/стикеров'"
     },
     "execution_count": 9,
     "metadata": {},
     "output_type": "execute_result"
    }
   ],
   "source": [
    "import vk_api\n",
    "import urllib3\n",
    "import pandas as pd\n",
    "from math import ceil\n",
    "from datetime import datetime\n",
    "\n",
    "from dotenv import dotenv_values\n",
    "\n",
    "\n",
    "secrets = dotenv_values(\".env\")\n",
    "\"\"\"Секреты\"\"\"\n",
    "\n",
    "vk = vk_api.VkApi(\n",
    "    token=secrets['VK_TOKEN'])\n",
    "\"\"\"Модуль ВК\"\"\"\n",
    "\n",
    "id_chat = int(secrets['CHAT_ID'])\n",
    "\"\"\"id чата\"\"\"\n",
    "\n",
    "SHOULD_DOWNLOAD = False\n",
    "\"\"\"Должна ли проводиться загрузка фото/стикеров\"\"\"\n"
   ],
   "metadata": {
    "collapsed": false,
    "ExecuteTime": {
     "end_time": "2024-02-28T13:10:44.398969Z",
     "start_time": "2024-02-28T13:10:44.377916Z"
    }
   },
   "id": "e4b2ceff358d476b",
   "execution_count": 9
  },
  {
   "cell_type": "markdown",
   "source": [
    "### Определение функций\n",
    "\n",
    "Необходимо определиться с тем, как будет получаться необходимая информация с vk.\n",
    "Поскольку используется ***vk_api***, то можно использовать официальную документацию по работе с api.\n",
    "\n",
    "**get_chat** — работает с ***vk.method***, поэтому все параметры приходится прописывать в роли dictionary.\n",
    "**download_&** — работает с помощью ***urllib3***. Получается изображение с сайта, затем оно сохраняется и готово.\n",
    "\n",
    "Дополнительную информацию можно прочесть в документации в коде."
   ],
   "metadata": {
    "collapsed": false
   },
   "id": "6aa48d8f5fc5156c"
  },
  {
   "cell_type": "code",
   "outputs": [],
   "source": [
    "def download_image(url: str) -> None:\n",
    "    \"\"\"\n",
    "\n",
    "    Функция загрузки изображения\n",
    "\n",
    "    :param url: URL адрес картинки\n",
    "    :type url: str\n",
    "\n",
    "    :return: Сохраняет картинку в папку\n",
    "        Каждая картинка появляется лишь 1 раз\n",
    "    :rtype: None\n",
    "\n",
    "    \"\"\"\n",
    "    file_name = (url.split(\"/\")[-1]).split(\"?\")[0]\n",
    "    \"\"\"Имя картинки\"\"\"\n",
    "\n",
    "    result_image = urllib3.request('GET', url)\n",
    "    \"\"\"Полученное изображение\"\"\"\n",
    "    with open(f'content/visual/images/{file_name}', 'wb') as image:\n",
    "        image.write(result_image.data)\n",
    "\n",
    "\n",
    "def download_sticker(id_sticker: int) -> None:\n",
    "    \"\"\"\n",
    "\n",
    "    Функция загрузки стикера\n",
    "\n",
    "    :param id_sticker: Номер стикера\n",
    "    :type id_sticker: int\n",
    "\n",
    "    :return: Сохраняет стикер в папку\n",
    "        Каждый стикер появляется лишь 1 раз\n",
    "        Стикеры сохраняются в формате .png в разрешении 512x512\n",
    "    :rtype: None\n",
    "\n",
    "    \"\"\"\n",
    "    result_sticker = urllib3.request('GET', f\"https://vk.com/sticker/1-{id_sticker}-512b\")\n",
    "    \"\"\"Полученный стикер\"\"\"\n",
    "    with open(f'content/visual/stickers/{id_sticker}.png', 'wb') as f:\n",
    "        f.write(result_sticker.data)\n",
    "\n",
    "\n",
    "def get_chat(peer_id: int = id_chat, count: int = 200, offset: int = 0) -> dict:\n",
    "    \"\"\"\n",
    "\n",
    "    Позволяет получить сообщения из чата.\n",
    "\n",
    "    :param peer_id: id чата.\n",
    "        Работает через peer\n",
    "    :type peer_id: int\n",
    "    :param count: Количество получаемых сообщений <= 200\n",
    "    :type count: int\n",
    "    :param offset: Сдвиг от начального сообщения\n",
    "    :type offset: int\n",
    "\n",
    "    :return: Словарь с сообщениями и их параметрами\n",
    "    :rtype: dict\n",
    "\n",
    "    \"\"\"\n",
    "    # Требуется добавлять 2e9 по документации vk api\n",
    "    peer_id += 2e9\n",
    "\n",
    "    return vk.method('messages.getHistory',\n",
    "                     {'peer_id': peer_id,\n",
    "                      'count': count,\n",
    "                      'offset': offset,\n",
    "                      'rev': 1,\n",
    "                      'extended': True}\n",
    "                     )\n",
    "\n",
    "\n",
    "def get_fullname(user_id: int, full_response: dict) -> str:\n",
    "    \"\"\"\n",
    "\n",
    "    Получение полного имени пользователя\n",
    "\n",
    "    API ВКонтакте выдаёт набор профилей пользователей, писавших сообщения\n",
    "    Производится перебор id профилей и подбор под user_id\n",
    "\n",
    "    :param user_id: ID пользователя\n",
    "    :param full_response: Расширенный набор сообщений\n",
    "\n",
    "    :return: ФИО в формате: Имя + \" \" + Фамилия\n",
    "    :rtype: str\n",
    "\n",
    "    \"\"\"\n",
    "    for profile in full_response['profiles']:\n",
    "        if profile['id'] == user_id:\n",
    "            # Если аккаунт пользователя удалён\n",
    "            if profile['first_name'] == 'DELETED':\n",
    "                return 'EMPTY_USER' + ' ' + str(user_id)\n",
    "            return profile['first_name'] + ' ' + profile['last_name']\n",
    "\n",
    "\n",
    "def get_date(utc_date: int) -> str:\n",
    "    \"\"\"\n",
    "\n",
    "    Перевод даты из UTC формата в нормальный формат\n",
    "\n",
    "    :param utc_date: Дата в формате utc\n",
    "    :type utc_date: int\n",
    "\n",
    "    :return: Дата в формате YYYY-MM-DD HH:MM:SS\n",
    "    :rtype: str\n",
    "\n",
    "    \"\"\"\n",
    "    return datetime.utcfromtimestamp(utc_date).strftime('%Y-%m-%d %H:%M:%S')"
   ],
   "metadata": {
    "collapsed": false,
    "ExecuteTime": {
     "end_time": "2024-02-28T13:10:44.429515Z",
     "start_time": "2024-02-28T13:10:44.415492Z"
    }
   },
   "id": "713deab9cba6f905",
   "execution_count": 10
  },
  {
   "cell_type": "markdown",
   "source": [
    "### Получение чата\n",
    "\n",
    "Теперь необходимо получить сам чат.\n",
    "\n",
    "Делается это в два этапа:\n",
    "\n",
    "#### Этап 1:\n",
    "##### Получение длины чата.\n",
    "\n",
    "Берётся одно сообщение из чата.\n",
    "В каждый ***response*** закладывается количество сообщений в чате.\n",
    "С его помощью можно завести цикл по количеству сообщений.\n",
    "\n",
    "#### Этап 2:\n",
    "##### Сам цикл.\n",
    "\n",
    "За раз я могу получить лишь 200 сообщений из чата.\n",
    "***delta*** делает отступ от первого сообщения в чате, а также является счётчиком того, сколько сообщений было прочитано.\n",
    "\n",
    "#### Этап 3:\n",
    "##### Разбор сообщений.\n",
    "\n",
    "Сообщения имеют следующие характеристики:\n",
    "**Является ли действием**\n",
    "**Текст**\n",
    "**Приложенный файл**\n",
    "**Реакции на сообщение**\n",
    "\n",
    "На данный момент идёт базовая фильтрация по разнообразным параметрам.\n",
    "\n",
    "Есть проблема с получением реакций.\n",
    "Это можно исправить сделав единый стандарт сообщения.\n",
    "Можно просто завести *dict*."
   ],
   "metadata": {
    "collapsed": false
   },
   "id": "e7c838f9fbfc8694"
  },
  {
   "cell_type": "code",
   "outputs": [
    {
     "name": "stdout",
     "output_type": "stream",
     "text": [
      "id — date — isAction — username — text — attachments — reactions — response\n"
     ]
    },
    {
     "data": {
      "text/plain": "          id                 date  \\\n0     543843  2023-11-16 03:54:45   \n1     543844  2023-11-16 03:55:09   \n2     543845  2023-11-16 03:55:22   \n3     543846  2023-11-16 03:55:27   \n4     543847  2023-11-16 03:55:38   \n...      ...                  ...   \n1629  614379  2023-11-18 12:57:41   \n1630  614380  2023-11-30 13:58:17   \n1631  614381  2023-11-30 13:59:47   \n1632  614382  2023-11-30 13:59:58   \n1633  614383  2024-02-24 10:43:26   \n\n                                               isAction  \\\n0                                                  None   \n1                                                  None   \n2                                                  None   \n3                                                  None   \n4                                                  None   \n...                                                 ...   \n1629  {'type': 'chat_kick_user', 'member_id': 267228...   \n1630                                               None   \n1631                                               None   \n1632  {'type': 'chat_kick_user', 'member_id': 529577...   \n1633  {'type': 'chat_invite_user', 'member_id': 2265...   \n\n                                                   user  \\\n0      {'id': 713935255, 'username': 'Сергей Глущенко'}   \n1           {'id': 443123379, 'username': 'Аля Знаток'}   \n2           {'id': 443123379, 'username': 'Аля Знаток'}   \n3      {'id': 713935255, 'username': 'Сергей Глущенко'}   \n4        {'id': 410032691, 'username': 'Артем Громыко'}   \n...                                                 ...   \n1629  {'id': 267228976, 'username': 'Александр Пушка...   \n1630   {'id': 529577677, 'username': 'Максим Карманов'}   \n1631   {'id': 529577677, 'username': 'Максим Карманов'}   \n1632   {'id': 529577677, 'username': 'Максим Карманов'}   \n1633    {'id': 453792061, 'username': 'Дина Винницкая'}   \n\n                                   text                  attachments  \\\n0     а нельзя в css через id поменять?  {'type': None, 'value': []}   \n1                 блин как бы объяснить  {'type': None, 'value': []}   \n2                         это scrollspy  {'type': None, 'value': []}   \n3                                   пон  {'type': None, 'value': []}   \n4               это цвет при наведении?  {'type': None, 'value': []}   \n...                                 ...                          ...   \n1629                                     {'type': None, 'value': []}   \n1630                    Очень интересно  {'type': None, 'value': []}   \n1631                           Прощайте  {'type': None, 'value': []}   \n1632                                     {'type': None, 'value': []}   \n1633                                     {'type': None, 'value': []}   \n\n     reactions                                           response  \n0           {}  {'id': 175872, 'date': '2023-11-16 03:53:50', ...  \n1           {}  {'id': None, 'date': None, 'user': {'id': None...  \n2           {}  {'id': None, 'date': None, 'user': {'id': None...  \n3           {}  {'id': None, 'date': None, 'user': {'id': None...  \n4           {}  {'id': None, 'date': None, 'user': {'id': None...  \n...        ...                                                ...  \n1629        {}  {'id': None, 'date': None, 'user': {'id': None...  \n1630        {}  {'id': None, 'date': None, 'user': {'id': None...  \n1631        {}  {'id': None, 'date': None, 'user': {'id': None...  \n1632        {}  {'id': None, 'date': None, 'user': {'id': None...  \n1633        {}  {'id': None, 'date': None, 'user': {'id': None...  \n\n[1634 rows x 8 columns]",
      "text/html": "<div>\n<style scoped>\n    .dataframe tbody tr th:only-of-type {\n        vertical-align: middle;\n    }\n\n    .dataframe tbody tr th {\n        vertical-align: top;\n    }\n\n    .dataframe thead th {\n        text-align: right;\n    }\n</style>\n<table border=\"1\" class=\"dataframe\">\n  <thead>\n    <tr style=\"text-align: right;\">\n      <th></th>\n      <th>id</th>\n      <th>date</th>\n      <th>isAction</th>\n      <th>user</th>\n      <th>text</th>\n      <th>attachments</th>\n      <th>reactions</th>\n      <th>response</th>\n    </tr>\n  </thead>\n  <tbody>\n    <tr>\n      <th>0</th>\n      <td>543843</td>\n      <td>2023-11-16 03:54:45</td>\n      <td>None</td>\n      <td>{'id': 713935255, 'username': 'Сергей Глущенко'}</td>\n      <td>а нельзя в css через id поменять?</td>\n      <td>{'type': None, 'value': []}</td>\n      <td>{}</td>\n      <td>{'id': 175872, 'date': '2023-11-16 03:53:50', ...</td>\n    </tr>\n    <tr>\n      <th>1</th>\n      <td>543844</td>\n      <td>2023-11-16 03:55:09</td>\n      <td>None</td>\n      <td>{'id': 443123379, 'username': 'Аля Знаток'}</td>\n      <td>блин как бы объяснить</td>\n      <td>{'type': None, 'value': []}</td>\n      <td>{}</td>\n      <td>{'id': None, 'date': None, 'user': {'id': None...</td>\n    </tr>\n    <tr>\n      <th>2</th>\n      <td>543845</td>\n      <td>2023-11-16 03:55:22</td>\n      <td>None</td>\n      <td>{'id': 443123379, 'username': 'Аля Знаток'}</td>\n      <td>это scrollspy</td>\n      <td>{'type': None, 'value': []}</td>\n      <td>{}</td>\n      <td>{'id': None, 'date': None, 'user': {'id': None...</td>\n    </tr>\n    <tr>\n      <th>3</th>\n      <td>543846</td>\n      <td>2023-11-16 03:55:27</td>\n      <td>None</td>\n      <td>{'id': 713935255, 'username': 'Сергей Глущенко'}</td>\n      <td>пон</td>\n      <td>{'type': None, 'value': []}</td>\n      <td>{}</td>\n      <td>{'id': None, 'date': None, 'user': {'id': None...</td>\n    </tr>\n    <tr>\n      <th>4</th>\n      <td>543847</td>\n      <td>2023-11-16 03:55:38</td>\n      <td>None</td>\n      <td>{'id': 410032691, 'username': 'Артем Громыко'}</td>\n      <td>это цвет при наведении?</td>\n      <td>{'type': None, 'value': []}</td>\n      <td>{}</td>\n      <td>{'id': None, 'date': None, 'user': {'id': None...</td>\n    </tr>\n    <tr>\n      <th>...</th>\n      <td>...</td>\n      <td>...</td>\n      <td>...</td>\n      <td>...</td>\n      <td>...</td>\n      <td>...</td>\n      <td>...</td>\n      <td>...</td>\n    </tr>\n    <tr>\n      <th>1629</th>\n      <td>614379</td>\n      <td>2023-11-18 12:57:41</td>\n      <td>{'type': 'chat_kick_user', 'member_id': 267228...</td>\n      <td>{'id': 267228976, 'username': 'Александр Пушка...</td>\n      <td></td>\n      <td>{'type': None, 'value': []}</td>\n      <td>{}</td>\n      <td>{'id': None, 'date': None, 'user': {'id': None...</td>\n    </tr>\n    <tr>\n      <th>1630</th>\n      <td>614380</td>\n      <td>2023-11-30 13:58:17</td>\n      <td>None</td>\n      <td>{'id': 529577677, 'username': 'Максим Карманов'}</td>\n      <td>Очень интересно</td>\n      <td>{'type': None, 'value': []}</td>\n      <td>{}</td>\n      <td>{'id': None, 'date': None, 'user': {'id': None...</td>\n    </tr>\n    <tr>\n      <th>1631</th>\n      <td>614381</td>\n      <td>2023-11-30 13:59:47</td>\n      <td>None</td>\n      <td>{'id': 529577677, 'username': 'Максим Карманов'}</td>\n      <td>Прощайте</td>\n      <td>{'type': None, 'value': []}</td>\n      <td>{}</td>\n      <td>{'id': None, 'date': None, 'user': {'id': None...</td>\n    </tr>\n    <tr>\n      <th>1632</th>\n      <td>614382</td>\n      <td>2023-11-30 13:59:58</td>\n      <td>{'type': 'chat_kick_user', 'member_id': 529577...</td>\n      <td>{'id': 529577677, 'username': 'Максим Карманов'}</td>\n      <td></td>\n      <td>{'type': None, 'value': []}</td>\n      <td>{}</td>\n      <td>{'id': None, 'date': None, 'user': {'id': None...</td>\n    </tr>\n    <tr>\n      <th>1633</th>\n      <td>614383</td>\n      <td>2024-02-24 10:43:26</td>\n      <td>{'type': 'chat_invite_user', 'member_id': 2265...</td>\n      <td>{'id': 453792061, 'username': 'Дина Винницкая'}</td>\n      <td></td>\n      <td>{'type': None, 'value': []}</td>\n      <td>{}</td>\n      <td>{'id': None, 'date': None, 'user': {'id': None...</td>\n    </tr>\n  </tbody>\n</table>\n<p>1634 rows × 8 columns</p>\n</div>"
     },
     "execution_count": 11,
     "metadata": {},
     "output_type": "execute_result"
    }
   ],
   "source": [
    "length_chat = get_chat(count=1)['count']\n",
    "\"\"\"Количество сообщений в чате\"\"\"\n",
    "# print(int(ceil(length_chat / 200)))\n",
    "\n",
    "msg_mass = []\n",
    "\"\"\"Массив сообщений\"\"\"\n",
    "\n",
    "count_dead_msg = 0\n",
    "\"\"\"Количество удалённых сообщений, на которые был дан ответ\"\"\"\n",
    "\n",
    "print(\"id — date — isAction — username — text — attachments — reactions — response\")\n",
    "\n",
    "start_time = datetime.now()\n",
    "\"\"\"Время начала получения статистики\"\"\"\n",
    "for times_add in range(870, int(ceil(length_chat / 200))):\n",
    "\n",
    "    # print(times_add)\n",
    "    delta = 200 * times_add\n",
    "    \"\"\"Отступ от первого сообщения\"\"\"\n",
    "    messages = get_chat(count=min(200, length_chat - delta), offset=delta)\n",
    "    \"\"\"count сообщений после delta\"\"\"\n",
    "\n",
    "    for item_data in messages['items']:\n",
    "        attachments = {'type': None,\n",
    "                       'value': []\n",
    "                       # Содержит в себе название файла\n",
    "                       }\n",
    "        \"\"\"Прикреплённые доп. материалы\"\"\"\n",
    "        if item_data.get('attachments'):\n",
    "\n",
    "            for attachment in item_data['attachments']:\n",
    "                if attachment['type'] == 'photo':\n",
    "                    attachments['type'] = 'photo'\n",
    "                    attachments['value'].append(\n",
    "                        (((attachment['photo']['sizes'][-1]['url']).split(\"/\")[-1]).split(\"?\"))[0]\n",
    "                    )\n",
    "                elif attachment['type'] == 'sticker':\n",
    "                    attachments['type'] = 'sticker'\n",
    "                    attachments['value'].append(str(attachment['sticker']['sticker_id']) + \".png\")\n",
    "            # if attachments['type'] is None:\n",
    "            #     attachments = {}\n",
    "        # else:\n",
    "        #     attachments = {}\n",
    "\n",
    "        reactions = {}\n",
    "        \"\"\"Реакции\"\"\"\n",
    "        if item_data.get('reactions'):\n",
    "            # Почему-то не всегда показывает тех, кто ставил реакции\n",
    "            # #1\n",
    "            for reaction in item_data['reactions']:\n",
    "                user_list = [reaction['count']]\n",
    "                for user in reaction['user_ids']:\n",
    "                    user_list.append(get_fullname(user, messages))\n",
    "                reactions[reaction['reaction_id']] = user_list\n",
    "\n",
    "        response = {'id': None,\n",
    "                    'date': None,\n",
    "                    'user': {'id': None,\n",
    "                             'username': None,\n",
    "                             },\n",
    "                    'text': None,\n",
    "                    'attachments': {'type': None,\n",
    "                                    'value': []\n",
    "                                    # Содержит в себе название файла\n",
    "                                    }\n",
    "                    }\n",
    "        \"\"\"Ответ на сообщение\"\"\"\n",
    "        if item_data.get('reply_message'):\n",
    "            reply = item_data['reply_message']\n",
    "            if reply.get('conversation_message_id'):\n",
    "                response['id'] = reply['conversation_message_id']\n",
    "            if not reply.get('conversation_message_id') or response['id'] == 0:\n",
    "                response['id'] = f'f{count_dead_msg}'\n",
    "                count_dead_msg += 1\n",
    "            response['date'] = get_date(reply['date'])\n",
    "            response['user']['id'] = reply['from_id']\n",
    "            response['user']['username'] = get_fullname(reply['from_id'], messages)\n",
    "            response['text'] = reply['text']\n",
    "\n",
    "            for attachment in reply['attachments']:\n",
    "                if attachment['type'] == 'photo':\n",
    "                    response['attachments']['type'] = 'photo'\n",
    "                    response['attachments']['value'].append(\n",
    "                        (((attachment['photo']['sizes'][-1]['url']).split(\"/\")[-1]).split(\"?\"))[0]\n",
    "                    )\n",
    "                elif attachment['type'] == 'sticker':\n",
    "                    response['attachments']['type'] = 'sticker'\n",
    "                    response['attachments']['value'].append(str(attachment['sticker']['sticker_id']) + \".png\")\n",
    "            # if response['attachments']['type'] is None:\n",
    "            #     response['attachments'] = {}\n",
    "        # else:\n",
    "        #     response = {}\n",
    "\n",
    "        item = {'id': item_data['id'],\n",
    "                'date': get_date(item_data['date']),\n",
    "                'isAction': item_data.get('action'),\n",
    "                'user': {'id': item_data['from_id'],\n",
    "                         'username': get_fullname(item_data['from_id'], messages)\n",
    "                         },\n",
    "                'text': item_data['text'],\n",
    "                'attachments': attachments,\n",
    "                'reactions': reactions,\n",
    "                'response': response\n",
    "                }\n",
    "        \"\"\"Сообщение\"\"\"\n",
    "\n",
    "        msg_mass.append(item)\n",
    "\n",
    "        # Загрузка доп данных\n",
    "        if SHOULD_DOWNLOAD and item_data.get('attachments'):\n",
    "            for attachment in item_data['attachments']:\n",
    "                if attachment['type'] == 'photo':\n",
    "                    download_image(attachment['photo']['sizes'][-1]['url'])\n",
    "                elif attachment['type'] == 'sticker':\n",
    "                    download_sticker(attachment['sticker']['sticker_id'])\n",
    "\n",
    "end_time = datetime.now()\n",
    "\"\"\"Время завершения программы получения статистики\"\"\"\n",
    "# print(end_time - start_time)\n",
    "\n",
    "chat_df = pd.DataFrame(msg_mass)\n",
    "\n",
    "chat_df"
   ],
   "metadata": {
    "collapsed": false,
    "ExecuteTime": {
     "end_time": "2024-02-28T13:10:53.371104Z",
     "start_time": "2024-02-28T13:10:44.431521Z"
    }
   },
   "id": "1bc58a275a7daaee",
   "execution_count": 11
  },
  {
   "cell_type": "code",
   "outputs": [
    {
     "data": {
      "text/plain": "id              int64\ndate           object\nisAction       object\nuser           object\ntext           object\nattachments    object\nreactions      object\nresponse       object\ndtype: object"
     },
     "execution_count": 12,
     "metadata": {},
     "output_type": "execute_result"
    }
   ],
   "source": [
    "chat_df.dtypes"
   ],
   "metadata": {
    "collapsed": false,
    "ExecuteTime": {
     "end_time": "2024-02-28T13:10:53.386616Z",
     "start_time": "2024-02-28T13:10:53.372104Z"
    }
   },
   "id": "792ca86fc3a3c4f6",
   "execution_count": 12
  },
  {
   "cell_type": "code",
   "outputs": [
    {
     "data": {
      "text/plain": "id              int64\ndate           object\nisAction         bool\nuser           object\ntext           object\nattachments    object\nreactions      object\nresponse       object\ndtype: object"
     },
     "execution_count": 32,
     "metadata": {},
     "output_type": "execute_result"
    }
   ],
   "source": [
    "chat_df.isAction = chat_df.isAction.fillna(0).astype(bool)\n",
    "chat_df.text = chat_df.text.fillna(0).astype(str)\n",
    "chat_df.dtypes"
   ],
   "metadata": {
    "collapsed": false,
    "ExecuteTime": {
     "end_time": "2024-02-28T13:21:33.791445Z",
     "start_time": "2024-02-28T13:21:33.781930Z"
    }
   },
   "id": "cacd3aba3fb6bae3",
   "execution_count": 32
  },
  {
   "cell_type": "code",
   "outputs": [
    {
     "ename": "KeyError",
     "evalue": "'username'",
     "output_type": "error",
     "traceback": [
      "\u001B[1;31m---------------------------------------------------------------------------\u001B[0m",
      "\u001B[1;31mKeyError\u001B[0m                                  Traceback (most recent call last)",
      "Cell \u001B[1;32mIn[18], line 1\u001B[0m\n\u001B[1;32m----> 1\u001B[0m \u001B[43mchat_df\u001B[49m\u001B[43m[\u001B[49m\u001B[38;5;124;43m'\u001B[39;49m\u001B[38;5;124;43muser\u001B[39;49m\u001B[38;5;124;43m'\u001B[39;49m\u001B[43m]\u001B[49m\u001B[43m[\u001B[49m\u001B[38;5;124;43m'\u001B[39;49m\u001B[38;5;124;43musername\u001B[39;49m\u001B[38;5;124;43m'\u001B[39;49m\u001B[43m]\u001B[49m\n",
      "File \u001B[1;32mD:\\Utilities\\Python\\lib\\site-packages\\pandas\\core\\series.py:1112\u001B[0m, in \u001B[0;36mSeries.__getitem__\u001B[1;34m(self, key)\u001B[0m\n\u001B[0;32m   1109\u001B[0m     \u001B[38;5;28;01mreturn\u001B[39;00m \u001B[38;5;28mself\u001B[39m\u001B[38;5;241m.\u001B[39m_values[key]\n\u001B[0;32m   1111\u001B[0m \u001B[38;5;28;01melif\u001B[39;00m key_is_scalar:\n\u001B[1;32m-> 1112\u001B[0m     \u001B[38;5;28;01mreturn\u001B[39;00m \u001B[38;5;28;43mself\u001B[39;49m\u001B[38;5;241;43m.\u001B[39;49m\u001B[43m_get_value\u001B[49m\u001B[43m(\u001B[49m\u001B[43mkey\u001B[49m\u001B[43m)\u001B[49m\n\u001B[0;32m   1114\u001B[0m \u001B[38;5;66;03m# Convert generator to list before going through hashable part\u001B[39;00m\n\u001B[0;32m   1115\u001B[0m \u001B[38;5;66;03m# (We will iterate through the generator there to check for slices)\u001B[39;00m\n\u001B[0;32m   1116\u001B[0m \u001B[38;5;28;01mif\u001B[39;00m is_iterator(key):\n",
      "File \u001B[1;32mD:\\Utilities\\Python\\lib\\site-packages\\pandas\\core\\series.py:1228\u001B[0m, in \u001B[0;36mSeries._get_value\u001B[1;34m(self, label, takeable)\u001B[0m\n\u001B[0;32m   1225\u001B[0m     \u001B[38;5;28;01mreturn\u001B[39;00m \u001B[38;5;28mself\u001B[39m\u001B[38;5;241m.\u001B[39m_values[label]\n\u001B[0;32m   1227\u001B[0m \u001B[38;5;66;03m# Similar to Index.get_value, but we do not fall back to positional\u001B[39;00m\n\u001B[1;32m-> 1228\u001B[0m loc \u001B[38;5;241m=\u001B[39m \u001B[38;5;28;43mself\u001B[39;49m\u001B[38;5;241;43m.\u001B[39;49m\u001B[43mindex\u001B[49m\u001B[38;5;241;43m.\u001B[39;49m\u001B[43mget_loc\u001B[49m\u001B[43m(\u001B[49m\u001B[43mlabel\u001B[49m\u001B[43m)\u001B[49m\n\u001B[0;32m   1230\u001B[0m \u001B[38;5;28;01mif\u001B[39;00m is_integer(loc):\n\u001B[0;32m   1231\u001B[0m     \u001B[38;5;28;01mreturn\u001B[39;00m \u001B[38;5;28mself\u001B[39m\u001B[38;5;241m.\u001B[39m_values[loc]\n",
      "File \u001B[1;32mD:\\Utilities\\Python\\lib\\site-packages\\pandas\\core\\indexes\\range.py:417\u001B[0m, in \u001B[0;36mRangeIndex.get_loc\u001B[1;34m(self, key)\u001B[0m\n\u001B[0;32m    415\u001B[0m         \u001B[38;5;28;01mraise\u001B[39;00m \u001B[38;5;167;01mKeyError\u001B[39;00m(key) \u001B[38;5;28;01mfrom\u001B[39;00m \u001B[38;5;21;01merr\u001B[39;00m\n\u001B[0;32m    416\u001B[0m \u001B[38;5;28;01mif\u001B[39;00m \u001B[38;5;28misinstance\u001B[39m(key, Hashable):\n\u001B[1;32m--> 417\u001B[0m     \u001B[38;5;28;01mraise\u001B[39;00m \u001B[38;5;167;01mKeyError\u001B[39;00m(key)\n\u001B[0;32m    418\u001B[0m \u001B[38;5;28mself\u001B[39m\u001B[38;5;241m.\u001B[39m_check_indexing_error(key)\n\u001B[0;32m    419\u001B[0m \u001B[38;5;28;01mraise\u001B[39;00m \u001B[38;5;167;01mKeyError\u001B[39;00m(key)\n",
      "\u001B[1;31mKeyError\u001B[0m: 'username'"
     ]
    }
   ],
   "source": [
    "chat_df['user']['username']"
   ],
   "metadata": {
    "collapsed": false,
    "ExecuteTime": {
     "end_time": "2024-02-28T13:15:49.454631Z",
     "start_time": "2024-02-28T13:15:49.407047Z"
    }
   },
   "id": "9fea58a7111b8b82",
   "execution_count": 18
  }
 ],
 "metadata": {
  "kernelspec": {
   "display_name": "Python 3",
   "language": "python",
   "name": "python3"
  },
  "language_info": {
   "codemirror_mode": {
    "name": "ipython",
    "version": 2
   },
   "file_extension": ".py",
   "mimetype": "text/x-python",
   "name": "python",
   "nbconvert_exporter": "python",
   "pygments_lexer": "ipython2",
   "version": "2.7.6"
  }
 },
 "nbformat": 4,
 "nbformat_minor": 5
}
