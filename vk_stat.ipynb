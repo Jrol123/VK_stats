{
 "cells": [
  {
   "cell_type": "markdown",
   "source": [
    "# Подготовительный этап"
   ],
   "metadata": {
    "collapsed": false
   },
   "id": "41f36efef10fa7fa"
  },
  {
   "cell_type": "markdown",
   "source": [
    "## Получение чата"
   ],
   "metadata": {
    "collapsed": false
   },
   "id": "23cb80cec045b708"
  },
  {
   "cell_type": "markdown",
   "source": [
    "### Подготовительный этап\n",
    "\n",
    "#### Цели:\n",
    "1. Получить ***vk token***\n",
    "2. Получить ***id чата***, состоящий из двух цифр\n",
    "3. Определиться, должна ли будет проводиться загрузка фото и стикеров\n",
    "\n",
    "#### Решение:\n",
    "1. Гугл в помощь + ***.env*** для хранения\n",
    "2. Адресная строка в помощь\n",
    "3. Введена дополнительная переменная для определения того, следует ли пытаться загрузить изображения и стикеры, или нет"
   ],
   "metadata": {
    "collapsed": false
   },
   "id": "f7b172afe522750"
  },
  {
   "cell_type": "code",
   "outputs": [
    {
     "data": {
      "text/plain": "'Должна ли проводиться загрузка фото/стикеров'"
     },
     "execution_count": 180,
     "metadata": {},
     "output_type": "execute_result"
    }
   ],
   "source": [
    "import vk_api\n",
    "import urllib3\n",
    "import pandas as pd\n",
    "from math import ceil\n",
    "from datetime import datetime\n",
    "\n",
    "from dotenv import dotenv_values\n",
    "\n",
    "secrets = dotenv_values(\".env\")\n",
    "\"\"\"Секреты\"\"\"\n",
    "\n",
    "vk = vk_api.VkApi(\n",
    "    token=secrets['VK_TOKEN'])\n",
    "\"\"\"Модуль ВК\"\"\"\n",
    "\n",
    "id_chat = int(secrets['CHAT_ID'])\n",
    "\"\"\"id чата\"\"\"\n",
    "\n",
    "SHOULD_DOWNLOAD = False\n",
    "\"\"\"Должна ли проводиться загрузка фото/стикеров\"\"\"\n"
   ],
   "metadata": {
    "collapsed": false,
    "ExecuteTime": {
     "end_time": "2024-03-01T13:05:50.765521Z",
     "start_time": "2024-03-01T13:05:50.727921Z"
    }
   },
   "id": "e4b2ceff358d476b",
   "execution_count": 180
  },
  {
   "cell_type": "markdown",
   "source": [
    "### Определение функций\n",
    "\n",
    "Необходимо определиться с тем, как будет получаться необходимая информация с vk.\n",
    "Поскольку используется ***vk_api***, то можно использовать официальную документацию по работе с api.\n",
    "\n",
    "**get_chat** — работает с ***vk.method***, поэтому все параметры приходится прописывать в роли dictionary.\n",
    "**download_&** — работает с помощью ***urllib3***. Получается изображение с сайта, затем оно сохраняется и готово.\n",
    "\n",
    "Дополнительную информацию можно прочесть в документации в коде."
   ],
   "metadata": {
    "collapsed": false
   },
   "id": "6aa48d8f5fc5156c"
  },
  {
   "cell_type": "code",
   "outputs": [],
   "source": [
    "def download_image(url: str) -> None:\n",
    "    \"\"\"\n",
    "\n",
    "    Функция загрузки изображения\n",
    "\n",
    "    :param url: URL адрес картинки\n",
    "    :type url: str\n",
    "\n",
    "    :return: Сохраняет картинку в папку\n",
    "        Каждая картинка появляется лишь 1 раз\n",
    "    :rtype: None\n",
    "\n",
    "    \"\"\"\n",
    "    file_name = (url.split(\"/\")[-1]).split(\"?\")[0]\n",
    "    \"\"\"Имя картинки\"\"\"\n",
    "\n",
    "    result_image = urllib3.request('GET', url)\n",
    "    \"\"\"Полученное изображение\"\"\"\n",
    "    with open(f'content/visual/images/{file_name}', 'wb') as image:\n",
    "        image.write(result_image.data)\n",
    "\n",
    "\n",
    "def download_sticker(id_sticker: int) -> None:\n",
    "    \"\"\"\n",
    "\n",
    "    Функция загрузки стикера\n",
    "\n",
    "    :param id_sticker: Номер стикера\n",
    "    :type id_sticker: int\n",
    "\n",
    "    :return: Сохраняет стикер в папку\n",
    "        Каждый стикер появляется лишь 1 раз\n",
    "        Стикеры сохраняются в формате .png в разрешении 512x512\n",
    "    :rtype: None\n",
    "\n",
    "    \"\"\"\n",
    "    result_sticker = urllib3.request('GET', f\"https://vk.com/sticker/1-{id_sticker}-512b\")\n",
    "    \"\"\"Полученный стикер\"\"\"\n",
    "    with open(f'content/visual/stickers/{id_sticker}.png', 'wb') as f:\n",
    "        f.write(result_sticker.data)\n",
    "\n",
    "\n",
    "def get_chat(peer_id: int = id_chat, count: int = 200, offset: int = 0) -> dict:\n",
    "    \"\"\"\n",
    "\n",
    "    Позволяет получить сообщения из чата.\n",
    "\n",
    "    :param peer_id: id чата.\n",
    "        Работает через peer\n",
    "    :type peer_id: int\n",
    "    :param count: Количество получаемых сообщений <= 200\n",
    "    :type count: int\n",
    "    :param offset: Сдвиг от начального сообщения\n",
    "    :type offset: int\n",
    "\n",
    "    :return: Словарь с сообщениями и их параметрами\n",
    "    :rtype: dict\n",
    "\n",
    "    \"\"\"\n",
    "    # Требуется добавлять 2e9 по документации vk api\n",
    "    peer_id += 2e9\n",
    "\n",
    "    return vk.method('messages.getHistory',\n",
    "                     {'peer_id': peer_id,\n",
    "                      'count': count,\n",
    "                      'offset': offset,\n",
    "                      'rev': 1,\n",
    "                      'extended': True}\n",
    "                     )\n"
   ],
   "metadata": {
    "collapsed": false,
    "ExecuteTime": {
     "end_time": "2024-03-01T13:05:50.882586Z",
     "start_time": "2024-03-01T13:05:50.875242Z"
    }
   },
   "id": "713deab9cba6f905",
   "execution_count": 181
  },
  {
   "cell_type": "markdown",
   "source": [
    "### Получение чата\n",
    "\n",
    "Теперь необходимо получить сам чат.\n",
    "\n",
    "Делается это в два этапа:\n",
    "\n",
    "#### Этап 1:\n",
    "##### Получение длины чата.\n",
    "\n",
    "Берётся одно сообщение из чата.\n",
    "В каждый ***response*** закладывается количество сообщений в чате.\n",
    "С его помощью можно завести цикл по количеству сообщений.\n",
    "\n",
    "#### Этап 2:\n",
    "##### Сам цикл.\n",
    "\n",
    "За раз я могу получить лишь 200 сообщений из чата.\n",
    "***delta*** делает отступ от первого сообщения в чате, а также является счётчиком того, сколько сообщений было прочитано.\n",
    "\n",
    "#### Этап 3:\n",
    "##### Получение пользователей.\n",
    "\n",
    "Каждый раз при запуске нового большого цикла производится добавление пользователей, что так или иначе были задействованы в этих сообщениях (пересланные сообщения и реакции тоже считаются), добавляются в **users_mass**, содержащий **id** пользователей и их **Имя** и **Фамилию**.\n",
    "\n",
    "Пользователи с удалённым профилем тоже обрабатываются. В качестве **Имени** ***vk*** даёт им *DELETED*, а в качестве **Фамилии** берётся их **id**.\n",
    "\n",
    "#### Этап 4:\n",
    "##### Разбор сообщений.\n",
    "\n",
    "Сообщения имеют следующие характеристики:\n",
    "**id**\n",
    "**id пользователя**\n",
    "**Является ли действием** *(добавление/исключение пользователей)*\n",
    "**Пересылается ли сообщение в сообщении**\n",
    "**Текст сообщения**\n",
    "**Приложенный файл**\n",
    "**Реакции на сообщение**\n",
    "**Информация о сообщении, на которое даётся ответ**. Необходимо брать эту информацию, поскольку может быть ситуация, когда сообщение, на которое был дан ответ, было позже удалено.\n",
    "\n",
    "Более подробно о том, как разбираются сообщения будет лучше посмотреть в коде, но если вкратце — берётся разнообразная информация из оригинального сообщения (**message_data**) и добавляется в финальное сообщение (**message**), которое затем добавляется в **msg_mass**.\n",
    "\n",
    "Удалённые сообщения. Но вместо их **id** берётся константа *404404* и приписывается текущее количество удалённых сообщений.\n"
   ],
   "metadata": {
    "collapsed": false
   },
   "id": "e7c838f9fbfc8694"
  },
  {
   "cell_type": "code",
   "outputs": [
    {
     "name": "stdout",
     "output_type": "stream",
     "text": [
      "0:13:14.707766\n"
     ]
    },
    {
     "data": {
      "text/plain": "            id             username\n0    205170325      Дарья Белоусова\n1    228579277         Яна Шевелёва\n2    267228976   Александр Пушкарёв\n3    305187037  Максим Завязочников\n4    352169415    Денис Севостьянов\n..         ...                  ...\n334  288927172          Вадим Зотов\n335  284711423       Артём Цеппелев\n336  412777661         Maria Oguzok\n337  690543725         Анишит Йокоп\n338  733644604   Екатерина Каменева\n\n[339 rows x 2 columns]",
      "text/html": "<div>\n<style scoped>\n    .dataframe tbody tr th:only-of-type {\n        vertical-align: middle;\n    }\n\n    .dataframe tbody tr th {\n        vertical-align: top;\n    }\n\n    .dataframe thead th {\n        text-align: right;\n    }\n</style>\n<table border=\"1\" class=\"dataframe\">\n  <thead>\n    <tr style=\"text-align: right;\">\n      <th></th>\n      <th>id</th>\n      <th>username</th>\n    </tr>\n  </thead>\n  <tbody>\n    <tr>\n      <th>0</th>\n      <td>205170325</td>\n      <td>Дарья Белоусова</td>\n    </tr>\n    <tr>\n      <th>1</th>\n      <td>228579277</td>\n      <td>Яна Шевелёва</td>\n    </tr>\n    <tr>\n      <th>2</th>\n      <td>267228976</td>\n      <td>Александр Пушкарёв</td>\n    </tr>\n    <tr>\n      <th>3</th>\n      <td>305187037</td>\n      <td>Максим Завязочников</td>\n    </tr>\n    <tr>\n      <th>4</th>\n      <td>352169415</td>\n      <td>Денис Севостьянов</td>\n    </tr>\n    <tr>\n      <th>...</th>\n      <td>...</td>\n      <td>...</td>\n    </tr>\n    <tr>\n      <th>334</th>\n      <td>288927172</td>\n      <td>Вадим Зотов</td>\n    </tr>\n    <tr>\n      <th>335</th>\n      <td>284711423</td>\n      <td>Артём Цеппелев</td>\n    </tr>\n    <tr>\n      <th>336</th>\n      <td>412777661</td>\n      <td>Maria Oguzok</td>\n    </tr>\n    <tr>\n      <th>337</th>\n      <td>690543725</td>\n      <td>Анишит Йокоп</td>\n    </tr>\n    <tr>\n      <th>338</th>\n      <td>733644604</td>\n      <td>Екатерина Каменева</td>\n    </tr>\n  </tbody>\n</table>\n<p>339 rows × 2 columns</p>\n</div>"
     },
     "execution_count": 182,
     "metadata": {},
     "output_type": "execute_result"
    }
   ],
   "source": [
    "length_chat = get_chat(count=1)['count']\n",
    "\"\"\"Количество сообщений в чате\"\"\"\n",
    "\n",
    "msg_mass = []\n",
    "\"\"\"Массив сообщений\"\"\"\n",
    "\n",
    "users_mass = {}\n",
    "\"\"\"Список пользователей\"\"\"\n",
    "\n",
    "count_dead_msg = 0\n",
    "\"\"\"Количество удалённых сообщений, на которые был дан ответ\"\"\"\n",
    "\n",
    "start_time = datetime.now()\n",
    "\"\"\"Время начала получения статистики\"\"\"\n",
    "for times_add in range(int(ceil(length_chat / 200))):\n",
    "\n",
    "    delta = 200 * times_add\n",
    "    \"\"\"Отступ от первого сообщения\"\"\"\n",
    "    messages = get_chat(count=min(200, length_chat - delta), offset=delta)\n",
    "    \"\"\"count сообщений после delta\"\"\"\n",
    "\n",
    "    for profile in messages['profiles']:\n",
    "        if users_mass.get(profile['id']):\n",
    "            continue\n",
    "        users_mass[profile['id']] = profile['first_name'] + \" \"\n",
    "        if profile['last_name'] == '':\n",
    "            users_mass[profile['id']] += str(profile['id'])\n",
    "        else:\n",
    "            users_mass[profile['id']] += profile['last_name']\n",
    "\n",
    "    for message_data in messages['items']:\n",
    "        isForwarding = True if message_data.get(\"fwd_messages\") else False\n",
    "        \"\"\"Пересылается ли сообщение\"\"\"\n",
    "\n",
    "        isAction = True if message_data.get('action') else False\n",
    "        \"\"\"Является ли сообщение действием\"\"\"\n",
    "\n",
    "        attachments_type = \"None\"\n",
    "        \"\"\"Тип прикреплённого сообщения\"\"\"\n",
    "        attachments = []\n",
    "        \"\"\"Прикреплённые доп. материалы\"\"\"\n",
    "        if message_data.get('attachments'):\n",
    "\n",
    "            for attachment in message_data['attachments']:\n",
    "                if attachment['type'] == 'photo':\n",
    "                    attachments_type = 'photo'\n",
    "                    attachments.append(\n",
    "                        (((attachment['photo']['sizes'][-1]['url']).split(\"/\")[-1]).split(\"?\"))[0]\n",
    "                    )\n",
    "                elif attachment['type'] == 'sticker':\n",
    "                    attachments_type = 'sticker'\n",
    "                    attachments.append(str(attachment['sticker']['sticker_id']) + \".png\")\n",
    "\n",
    "        reactions = [0] * (16 + 1)\n",
    "        \"\"\"Реакции\"\"\"\n",
    "        if message_data.get('reactions'):\n",
    "            # Почему-то не всегда показывает тех, кто ставил реакции\n",
    "            # #1\n",
    "            for reaction in message_data['reactions']:\n",
    "                reactions[0] += reaction['count']\n",
    "                user_list = [reaction['count']]\n",
    "                for user in reaction['user_ids']:\n",
    "                    user_list.append(user)\n",
    "                reactions[reaction['reaction_id']] = user_list\n",
    "\n",
    "        response = {'id': -1,\n",
    "                    'date': -1,\n",
    "                    'user_id': -1,\n",
    "                    'text': \"None\",\n",
    "                    'attachments': {'type': \"None\",\n",
    "                                    'value': []\n",
    "                                    # Содержит в себе название файла\n",
    "                                    }\n",
    "                    }\n",
    "        \"\"\"Ответ на сообщение\"\"\"\n",
    "        if message_data.get('reply_message'):\n",
    "            reply = message_data['reply_message']\n",
    "            if reply.get('conversation_message_id'):\n",
    "                response['id'] = reply['conversation_message_id']\n",
    "            if not reply.get('conversation_message_id') or response['id'] is None:\n",
    "                response['id'] = int(f'404404{count_dead_msg}')\n",
    "                count_dead_msg += 1\n",
    "            response['date'] = reply['date']\n",
    "            response['user_id'] = reply['from_id']\n",
    "            response['text'] = reply['text']\n",
    "\n",
    "            for attachment in reply['attachments']:\n",
    "                if attachment['type'] == 'photo':\n",
    "                    response['attachments']['type'] = 'photo'\n",
    "                    response['attachments']['value'].append(\n",
    "                        (((attachment['photo']['sizes'][-1]['url']).split(\"/\")[-1]).split(\"?\"))[0]\n",
    "                    )\n",
    "                elif attachment['type'] == 'sticker':\n",
    "                    response['attachments']['type'] = 'sticker'\n",
    "                    response['attachments']['value'].append(str(attachment['sticker']['sticker_id']) + \".png\")\n",
    "\n",
    "        message = {'id': message_data['id'],\n",
    "                   'date': message_data['date'],\n",
    "                   'isAction': isAction,\n",
    "                   'isForwarding': isForwarding,\n",
    "                   'id_user': message_data['from_id'],\n",
    "                   'text': message_data['text'],\n",
    "                   'attachments_type': attachments_type,\n",
    "                   'attachments': attachments,\n",
    "                   'reactions': reactions,\n",
    "                   'response_id': response['id'],\n",
    "                   'response_date': response['date'],\n",
    "                   'response_id_user': response['user_id'],\n",
    "                   'response_text': response['text'],\n",
    "                   'response_attachments_type': response['attachments']['type'],\n",
    "                   'response_attachments': response['attachments']['value']\n",
    "                   }\n",
    "        \"\"\"Сообщение\"\"\"\n",
    "\n",
    "        msg_mass.append(message)\n",
    "\n",
    "        # Загрузка доп данных\n",
    "        if SHOULD_DOWNLOAD and message_data.get('attachments'):\n",
    "            for attachment in message_data['attachments']:\n",
    "                if attachment['type'] == 'photo':\n",
    "                    download_image(attachment['photo']['sizes'][-1]['url'])\n",
    "                elif attachment['type'] == 'sticker':\n",
    "                    download_sticker(attachment['sticker']['sticker_id'])\n",
    "\n",
    "end_time = datetime.now()\n",
    "\"\"\"Время завершения программы получения статистики\"\"\"\n",
    "print(end_time - start_time)\n",
    "\n",
    "users_df = pd.DataFrame(users_mass.items(), columns=['id', 'username'])\n",
    "chat_df = pd.DataFrame(msg_mass)\n",
    "\n",
    "users_df"
   ],
   "metadata": {
    "collapsed": false,
    "ExecuteTime": {
     "end_time": "2024-03-01T13:19:06.911715Z",
     "start_time": "2024-03-01T13:05:50.883663Z"
    }
   },
   "id": "ebe3d3ba3a1c4624",
   "execution_count": 182
  },
  {
   "cell_type": "code",
   "outputs": [
    {
     "data": {
      "text/plain": "            id        date  isAction  isForwarding    id_user  \\\n0       243689  1660100832     False         False  352169415   \n1       243690  1660100835     False         False  657900781   \n2       243691  1660100838     False         False  352169415   \n3       243692  1660100842     False         False  657900781   \n4       243693  1660100850     False         False  267228976   \n...        ...         ...       ...           ...        ...   \n175629  614379  1700312261      True         False  267228976   \n175630  614380  1701352697     False         False  529577677   \n175631  614381  1701352787     False         False  529577677   \n175632  614382  1701352798      True         False  529577677   \n175633  614383  1708771406      True         False  453792061   \n\n                                                     text attachments_type  \\\n0                                  Ну, теперь на егэ поху             None   \n1       у меня потом такой тильт из-за резов был ахвхв...             None   \n2                                      Поступил и отлично             None   \n3                      сейчас главное что поступила и все             None   \n4                                       это самое главное             None   \n...                                                   ...              ...   \n175629                                                                None   \n175630                                    Очень интересно             None   \n175631                                           Прощайте             None   \n175632                                                                None   \n175633                                                                None   \n\n       attachments                                          reactions  \\\n0               []  [0, 0, 0, 0, 0, 0, 0, 0, 0, 0, 0, 0, 0, 0, 0, ...   \n1               []  [0, 0, 0, 0, 0, 0, 0, 0, 0, 0, 0, 0, 0, 0, 0, ...   \n2               []  [0, 0, 0, 0, 0, 0, 0, 0, 0, 0, 0, 0, 0, 0, 0, ...   \n3               []  [0, 0, 0, 0, 0, 0, 0, 0, 0, 0, 0, 0, 0, 0, 0, ...   \n4               []  [0, 0, 0, 0, 0, 0, 0, 0, 0, 0, 0, 0, 0, 0, 0, ...   \n...            ...                                                ...   \n175629          []  [0, 0, 0, 0, 0, 0, 0, 0, 0, 0, 0, 0, 0, 0, 0, ...   \n175630          []  [0, 0, 0, 0, 0, 0, 0, 0, 0, 0, 0, 0, 0, 0, 0, ...   \n175631          []  [0, 0, 0, 0, 0, 0, 0, 0, 0, 0, 0, 0, 0, 0, 0, ...   \n175632          []  [0, 0, 0, 0, 0, 0, 0, 0, 0, 0, 0, 0, 0, 0, 0, ...   \n175633          []  [0, 0, 0, 0, 0, 0, 0, 0, 0, 0, 0, 0, 0, 0, 0, ...   \n\n        response_id  response_date  response_id_user  \\\n0                -1             -1                -1   \n1                -1             -1                -1   \n2                -1             -1                -1   \n3               848     1660100835         657900781   \n4               849     1660100838         352169415   \n...             ...            ...               ...   \n175629           -1             -1                -1   \n175630           -1             -1                -1   \n175631           -1             -1                -1   \n175632           -1             -1                -1   \n175633           -1             -1                -1   \n\n                                            response_text  \\\n0                                                    None   \n1                                                    None   \n2                                                    None   \n3       у меня потом такой тильт из-за резов был ахвхв...   \n4                                      Поступил и отлично   \n...                                                   ...   \n175629                                               None   \n175630                                               None   \n175631                                               None   \n175632                                               None   \n175633                                               None   \n\n       response_attachments_type response_attachments  \n0                           None                   []  \n1                           None                   []  \n2                           None                   []  \n3                           None                   []  \n4                           None                   []  \n...                          ...                  ...  \n175629                      None                   []  \n175630                      None                   []  \n175631                      None                   []  \n175632                      None                   []  \n175633                      None                   []  \n\n[175634 rows x 15 columns]",
      "text/html": "<div>\n<style scoped>\n    .dataframe tbody tr th:only-of-type {\n        vertical-align: middle;\n    }\n\n    .dataframe tbody tr th {\n        vertical-align: top;\n    }\n\n    .dataframe thead th {\n        text-align: right;\n    }\n</style>\n<table border=\"1\" class=\"dataframe\">\n  <thead>\n    <tr style=\"text-align: right;\">\n      <th></th>\n      <th>id</th>\n      <th>date</th>\n      <th>isAction</th>\n      <th>isForwarding</th>\n      <th>id_user</th>\n      <th>text</th>\n      <th>attachments_type</th>\n      <th>attachments</th>\n      <th>reactions</th>\n      <th>response_id</th>\n      <th>response_date</th>\n      <th>response_id_user</th>\n      <th>response_text</th>\n      <th>response_attachments_type</th>\n      <th>response_attachments</th>\n    </tr>\n  </thead>\n  <tbody>\n    <tr>\n      <th>0</th>\n      <td>243689</td>\n      <td>1660100832</td>\n      <td>False</td>\n      <td>False</td>\n      <td>352169415</td>\n      <td>Ну, теперь на егэ поху</td>\n      <td>None</td>\n      <td>[]</td>\n      <td>[0, 0, 0, 0, 0, 0, 0, 0, 0, 0, 0, 0, 0, 0, 0, ...</td>\n      <td>-1</td>\n      <td>-1</td>\n      <td>-1</td>\n      <td>None</td>\n      <td>None</td>\n      <td>[]</td>\n    </tr>\n    <tr>\n      <th>1</th>\n      <td>243690</td>\n      <td>1660100835</td>\n      <td>False</td>\n      <td>False</td>\n      <td>657900781</td>\n      <td>у меня потом такой тильт из-за резов был ахвхв...</td>\n      <td>None</td>\n      <td>[]</td>\n      <td>[0, 0, 0, 0, 0, 0, 0, 0, 0, 0, 0, 0, 0, 0, 0, ...</td>\n      <td>-1</td>\n      <td>-1</td>\n      <td>-1</td>\n      <td>None</td>\n      <td>None</td>\n      <td>[]</td>\n    </tr>\n    <tr>\n      <th>2</th>\n      <td>243691</td>\n      <td>1660100838</td>\n      <td>False</td>\n      <td>False</td>\n      <td>352169415</td>\n      <td>Поступил и отлично</td>\n      <td>None</td>\n      <td>[]</td>\n      <td>[0, 0, 0, 0, 0, 0, 0, 0, 0, 0, 0, 0, 0, 0, 0, ...</td>\n      <td>-1</td>\n      <td>-1</td>\n      <td>-1</td>\n      <td>None</td>\n      <td>None</td>\n      <td>[]</td>\n    </tr>\n    <tr>\n      <th>3</th>\n      <td>243692</td>\n      <td>1660100842</td>\n      <td>False</td>\n      <td>False</td>\n      <td>657900781</td>\n      <td>сейчас главное что поступила и все</td>\n      <td>None</td>\n      <td>[]</td>\n      <td>[0, 0, 0, 0, 0, 0, 0, 0, 0, 0, 0, 0, 0, 0, 0, ...</td>\n      <td>848</td>\n      <td>1660100835</td>\n      <td>657900781</td>\n      <td>у меня потом такой тильт из-за резов был ахвхв...</td>\n      <td>None</td>\n      <td>[]</td>\n    </tr>\n    <tr>\n      <th>4</th>\n      <td>243693</td>\n      <td>1660100850</td>\n      <td>False</td>\n      <td>False</td>\n      <td>267228976</td>\n      <td>это самое главное</td>\n      <td>None</td>\n      <td>[]</td>\n      <td>[0, 0, 0, 0, 0, 0, 0, 0, 0, 0, 0, 0, 0, 0, 0, ...</td>\n      <td>849</td>\n      <td>1660100838</td>\n      <td>352169415</td>\n      <td>Поступил и отлично</td>\n      <td>None</td>\n      <td>[]</td>\n    </tr>\n    <tr>\n      <th>...</th>\n      <td>...</td>\n      <td>...</td>\n      <td>...</td>\n      <td>...</td>\n      <td>...</td>\n      <td>...</td>\n      <td>...</td>\n      <td>...</td>\n      <td>...</td>\n      <td>...</td>\n      <td>...</td>\n      <td>...</td>\n      <td>...</td>\n      <td>...</td>\n      <td>...</td>\n    </tr>\n    <tr>\n      <th>175629</th>\n      <td>614379</td>\n      <td>1700312261</td>\n      <td>True</td>\n      <td>False</td>\n      <td>267228976</td>\n      <td></td>\n      <td>None</td>\n      <td>[]</td>\n      <td>[0, 0, 0, 0, 0, 0, 0, 0, 0, 0, 0, 0, 0, 0, 0, ...</td>\n      <td>-1</td>\n      <td>-1</td>\n      <td>-1</td>\n      <td>None</td>\n      <td>None</td>\n      <td>[]</td>\n    </tr>\n    <tr>\n      <th>175630</th>\n      <td>614380</td>\n      <td>1701352697</td>\n      <td>False</td>\n      <td>False</td>\n      <td>529577677</td>\n      <td>Очень интересно</td>\n      <td>None</td>\n      <td>[]</td>\n      <td>[0, 0, 0, 0, 0, 0, 0, 0, 0, 0, 0, 0, 0, 0, 0, ...</td>\n      <td>-1</td>\n      <td>-1</td>\n      <td>-1</td>\n      <td>None</td>\n      <td>None</td>\n      <td>[]</td>\n    </tr>\n    <tr>\n      <th>175631</th>\n      <td>614381</td>\n      <td>1701352787</td>\n      <td>False</td>\n      <td>False</td>\n      <td>529577677</td>\n      <td>Прощайте</td>\n      <td>None</td>\n      <td>[]</td>\n      <td>[0, 0, 0, 0, 0, 0, 0, 0, 0, 0, 0, 0, 0, 0, 0, ...</td>\n      <td>-1</td>\n      <td>-1</td>\n      <td>-1</td>\n      <td>None</td>\n      <td>None</td>\n      <td>[]</td>\n    </tr>\n    <tr>\n      <th>175632</th>\n      <td>614382</td>\n      <td>1701352798</td>\n      <td>True</td>\n      <td>False</td>\n      <td>529577677</td>\n      <td></td>\n      <td>None</td>\n      <td>[]</td>\n      <td>[0, 0, 0, 0, 0, 0, 0, 0, 0, 0, 0, 0, 0, 0, 0, ...</td>\n      <td>-1</td>\n      <td>-1</td>\n      <td>-1</td>\n      <td>None</td>\n      <td>None</td>\n      <td>[]</td>\n    </tr>\n    <tr>\n      <th>175633</th>\n      <td>614383</td>\n      <td>1708771406</td>\n      <td>True</td>\n      <td>False</td>\n      <td>453792061</td>\n      <td></td>\n      <td>None</td>\n      <td>[]</td>\n      <td>[0, 0, 0, 0, 0, 0, 0, 0, 0, 0, 0, 0, 0, 0, 0, ...</td>\n      <td>-1</td>\n      <td>-1</td>\n      <td>-1</td>\n      <td>None</td>\n      <td>None</td>\n      <td>[]</td>\n    </tr>\n  </tbody>\n</table>\n<p>175634 rows × 15 columns</p>\n</div>"
     },
     "execution_count": 183,
     "metadata": {},
     "output_type": "execute_result"
    }
   ],
   "source": [
    "chat_df"
   ],
   "metadata": {
    "collapsed": false,
    "ExecuteTime": {
     "end_time": "2024-03-01T13:19:06.942922Z",
     "start_time": "2024-03-01T13:19:06.912855Z"
    }
   },
   "id": "21a0be51692d44d2",
   "execution_count": 183
  },
  {
   "cell_type": "markdown",
   "source": [
    "Проверка на правильность вводимых типов данных.\n",
    "\n",
    "Некоторые из них помечены как *object*. Это *str*, *dict*, *list* и им подобные структуры данных."
   ],
   "metadata": {
    "collapsed": false
   },
   "id": "748cd799183a7ce3"
  },
  {
   "cell_type": "code",
   "outputs": [
    {
     "data": {
      "text/plain": "isAction                       bool\nisForwarding                   bool\nid                            int64\ndate                          int64\nid_user                       int64\nresponse_id                   int64\nresponse_date                 int64\nresponse_id_user              int64\ntext                         object\nattachments_type             object\nattachments                  object\nreactions                    object\nresponse_text                object\nresponse_attachments_type    object\nresponse_attachments         object\ndtype: object"
     },
     "execution_count": 184,
     "metadata": {},
     "output_type": "execute_result"
    }
   ],
   "source": [
    "chat_df.dtypes.sort_values()"
   ],
   "metadata": {
    "collapsed": false,
    "ExecuteTime": {
     "end_time": "2024-03-01T13:19:06.958554Z",
     "start_time": "2024-03-01T13:19:06.943970Z"
    }
   },
   "id": "792ca86fc3a3c4f6",
   "execution_count": 184
  },
  {
   "cell_type": "markdown",
   "source": [
    "## Сохранение"
   ],
   "metadata": {
    "collapsed": false
   },
   "id": "3f644b6b7b0d1118"
  },
  {
   "cell_type": "code",
   "outputs": [],
   "source": [
    "chat_df.to_csv(\"content/History.csv\")\n",
    "users_df.to_csv(\"content/Users.csv\")"
   ],
   "metadata": {
    "collapsed": false,
    "ExecuteTime": {
     "end_time": "2024-03-01T13:19:08.405445Z",
     "start_time": "2024-03-01T13:19:06.960663Z"
    }
   },
   "id": "23ecd93120e54491",
   "execution_count": 185
  },
  {
   "cell_type": "markdown",
   "source": [
    "# Статистика"
   ],
   "metadata": {
    "collapsed": false
   },
   "id": "61a0716ae48bf756"
  },
  {
   "cell_type": "code",
   "outputs": [],
   "source": [
    "chat_df = pd.read_csv(\"content/History.csv\")\n",
    "users_df = pd.read_csv(\"content/Users.csv\")"
   ],
   "metadata": {
    "collapsed": false,
    "ExecuteTime": {
     "end_time": "2024-03-01T13:19:09.068937Z",
     "start_time": "2024-03-01T13:19:08.406479Z"
    }
   },
   "id": "7044758dfdd16e65",
   "execution_count": 186
  },
  {
   "cell_type": "markdown",
   "source": [
    "Введём дополнительную функцию, позволяющую перевести время из *UTC* в *YYYY-MM-DD HH:MM:SS*"
   ],
   "metadata": {
    "collapsed": false
   },
   "id": "923c0abe3e8495c7"
  },
  {
   "cell_type": "code",
   "outputs": [
    {
     "ename": "KeyboardInterrupt",
     "evalue": "",
     "output_type": "error",
     "traceback": [
      "\u001B[1;31m---------------------------------------------------------------------------\u001B[0m",
      "\u001B[1;31mKeyboardInterrupt\u001B[0m                         Traceback (most recent call last)",
      "Cell \u001B[1;32mIn[192], line 34\u001B[0m\n\u001B[0;32m     31\u001B[0m     \u001B[38;5;28;01melse\u001B[39;00m:\n\u001B[0;32m     32\u001B[0m         \u001B[38;5;28;01mraise\u001B[39;00m \u001B[38;5;167;01mException\u001B[39;00m(\u001B[38;5;124m\"\u001B[39m\u001B[38;5;124mНеправильный запрос!\u001B[39m\u001B[38;5;124m\"\u001B[39m)\n\u001B[1;32m---> 34\u001B[0m \u001B[43mget_date\u001B[49m\u001B[43m(\u001B[49m\u001B[38;5;241;43m0\u001B[39;49m\u001B[43m)\u001B[49m\n",
      "Cell \u001B[1;32mIn[192], line 25\u001B[0m, in \u001B[0;36mget_date\u001B[1;34m(utc_date, ymd, h)\u001B[0m\n\u001B[0;32m     23\u001B[0m date \u001B[38;5;241m=\u001B[39m datetime\u001B[38;5;241m.\u001B[39mfromtimestamp(utc_date, tz\u001B[38;5;241m=\u001B[39mtimezone)\n\u001B[0;32m     24\u001B[0m \u001B[38;5;250m\u001B[39m\u001B[38;5;124;03m\"\"\"Дата без форматирования\"\"\"\u001B[39;00m\n\u001B[1;32m---> 25\u001B[0m \u001B[38;5;28;01mif\u001B[39;00m \u001B[43mymd\u001B[49m \u001B[38;5;129;01mand\u001B[39;00m h:\n\u001B[0;32m     26\u001B[0m     \u001B[38;5;28;01mreturn\u001B[39;00m date\u001B[38;5;241m.\u001B[39mstrftime(\u001B[38;5;124m'\u001B[39m\u001B[38;5;124m%\u001B[39m\u001B[38;5;124mY-\u001B[39m\u001B[38;5;124m%\u001B[39m\u001B[38;5;124mm-\u001B[39m\u001B[38;5;132;01m%d\u001B[39;00m\u001B[38;5;124m \u001B[39m\u001B[38;5;124m%\u001B[39m\u001B[38;5;124mH:\u001B[39m\u001B[38;5;124m%\u001B[39m\u001B[38;5;124mM:\u001B[39m\u001B[38;5;124m%\u001B[39m\u001B[38;5;124mS\u001B[39m\u001B[38;5;124m'\u001B[39m)\n\u001B[0;32m     27\u001B[0m \u001B[38;5;28;01melif\u001B[39;00m ymd:\n",
      "Cell \u001B[1;32mIn[192], line 25\u001B[0m, in \u001B[0;36mget_date\u001B[1;34m(utc_date, ymd, h)\u001B[0m\n\u001B[0;32m     23\u001B[0m date \u001B[38;5;241m=\u001B[39m datetime\u001B[38;5;241m.\u001B[39mfromtimestamp(utc_date, tz\u001B[38;5;241m=\u001B[39mtimezone)\n\u001B[0;32m     24\u001B[0m \u001B[38;5;250m\u001B[39m\u001B[38;5;124;03m\"\"\"Дата без форматирования\"\"\"\u001B[39;00m\n\u001B[1;32m---> 25\u001B[0m \u001B[38;5;28;01mif\u001B[39;00m \u001B[43mymd\u001B[49m \u001B[38;5;129;01mand\u001B[39;00m h:\n\u001B[0;32m     26\u001B[0m     \u001B[38;5;28;01mreturn\u001B[39;00m date\u001B[38;5;241m.\u001B[39mstrftime(\u001B[38;5;124m'\u001B[39m\u001B[38;5;124m%\u001B[39m\u001B[38;5;124mY-\u001B[39m\u001B[38;5;124m%\u001B[39m\u001B[38;5;124mm-\u001B[39m\u001B[38;5;132;01m%d\u001B[39;00m\u001B[38;5;124m \u001B[39m\u001B[38;5;124m%\u001B[39m\u001B[38;5;124mH:\u001B[39m\u001B[38;5;124m%\u001B[39m\u001B[38;5;124mM:\u001B[39m\u001B[38;5;124m%\u001B[39m\u001B[38;5;124mS\u001B[39m\u001B[38;5;124m'\u001B[39m)\n\u001B[0;32m     27\u001B[0m \u001B[38;5;28;01melif\u001B[39;00m ymd:\n",
      "File \u001B[1;32m_pydevd_bundle\\pydevd_cython_win32_310_64.pyx:1187\u001B[0m, in \u001B[0;36m_pydevd_bundle.pydevd_cython_win32_310_64.SafeCallWrapper.__call__\u001B[1;34m()\u001B[0m\n",
      "File \u001B[1;32m_pydevd_bundle\\pydevd_cython_win32_310_64.pyx:627\u001B[0m, in \u001B[0;36m_pydevd_bundle.pydevd_cython_win32_310_64.PyDBFrame.trace_dispatch\u001B[1;34m()\u001B[0m\n",
      "File \u001B[1;32m_pydevd_bundle\\pydevd_cython_win32_310_64.pyx:937\u001B[0m, in \u001B[0;36m_pydevd_bundle.pydevd_cython_win32_310_64.PyDBFrame.trace_dispatch\u001B[1;34m()\u001B[0m\n",
      "File \u001B[1;32m_pydevd_bundle\\pydevd_cython_win32_310_64.pyx:928\u001B[0m, in \u001B[0;36m_pydevd_bundle.pydevd_cython_win32_310_64.PyDBFrame.trace_dispatch\u001B[1;34m()\u001B[0m\n",
      "File \u001B[1;32m_pydevd_bundle\\pydevd_cython_win32_310_64.pyx:585\u001B[0m, in \u001B[0;36m_pydevd_bundle.pydevd_cython_win32_310_64.PyDBFrame.do_wait_suspend\u001B[1;34m()\u001B[0m\n",
      "File \u001B[1;32mD:\\Utilities\\Toolbox\\DataSpell\\plugins\\python-ce\\helpers\\pydev\\pydevd.py:1184\u001B[0m, in \u001B[0;36mPyDB.do_wait_suspend\u001B[1;34m(self, thread, frame, event, arg, send_suspend_message, is_unhandled_exception)\u001B[0m\n\u001B[0;32m   1181\u001B[0m         from_this_thread\u001B[38;5;241m.\u001B[39mappend(frame_id)\n\u001B[0;32m   1183\u001B[0m \u001B[38;5;28;01mwith\u001B[39;00m \u001B[38;5;28mself\u001B[39m\u001B[38;5;241m.\u001B[39m_threads_suspended_single_notification\u001B[38;5;241m.\u001B[39mnotify_thread_suspended(thread_id, stop_reason):\n\u001B[1;32m-> 1184\u001B[0m     \u001B[38;5;28;43mself\u001B[39;49m\u001B[38;5;241;43m.\u001B[39;49m\u001B[43m_do_wait_suspend\u001B[49m\u001B[43m(\u001B[49m\u001B[43mthread\u001B[49m\u001B[43m,\u001B[49m\u001B[43m \u001B[49m\u001B[43mframe\u001B[49m\u001B[43m,\u001B[49m\u001B[43m \u001B[49m\u001B[43mevent\u001B[49m\u001B[43m,\u001B[49m\u001B[43m \u001B[49m\u001B[43marg\u001B[49m\u001B[43m,\u001B[49m\u001B[43m \u001B[49m\u001B[43msuspend_type\u001B[49m\u001B[43m,\u001B[49m\u001B[43m \u001B[49m\u001B[43mfrom_this_thread\u001B[49m\u001B[43m)\u001B[49m\n",
      "File \u001B[1;32mD:\\Utilities\\Toolbox\\DataSpell\\plugins\\python-ce\\helpers\\pydev\\pydevd.py:1199\u001B[0m, in \u001B[0;36mPyDB._do_wait_suspend\u001B[1;34m(self, thread, frame, event, arg, suspend_type, from_this_thread)\u001B[0m\n\u001B[0;32m   1196\u001B[0m             \u001B[38;5;28mself\u001B[39m\u001B[38;5;241m.\u001B[39m_call_mpl_hook()\n\u001B[0;32m   1198\u001B[0m         \u001B[38;5;28mself\u001B[39m\u001B[38;5;241m.\u001B[39mprocess_internal_commands()\n\u001B[1;32m-> 1199\u001B[0m         \u001B[43mtime\u001B[49m\u001B[38;5;241;43m.\u001B[39;49m\u001B[43msleep\u001B[49m\u001B[43m(\u001B[49m\u001B[38;5;241;43m0.01\u001B[39;49m\u001B[43m)\u001B[49m\n\u001B[0;32m   1201\u001B[0m \u001B[38;5;28mself\u001B[39m\u001B[38;5;241m.\u001B[39mcancel_async_evaluation(get_current_thread_id(thread), \u001B[38;5;28mstr\u001B[39m(\u001B[38;5;28mid\u001B[39m(frame)))\n\u001B[0;32m   1203\u001B[0m \u001B[38;5;66;03m# process any stepping instructions\u001B[39;00m\n",
      "\u001B[1;31mKeyboardInterrupt\u001B[0m: "
     ]
    }
   ],
   "source": [
    "import pytz\n",
    "def get_date(utc_date: int, ymd: bool = True, h: bool = True) -> str:\n",
    "    \"\"\"\n",
    "\n",
    "    Перевод даты из UTC формата в нормальный формат\n",
    "\n",
    "    :param h: Должны ли быть выведены Часы?\n",
    "    :type h: bool\n",
    "    :param ymd: Должны ли быть выведены Год Месяц День?\n",
    "    :type ymd: bool\n",
    "    :param utc_date: Дата в формате utc\n",
    "    :type utc_date: int\n",
    "    \n",
    "    :exception: Можно или запросить всё целиком, или только год-месяц-день, или только часы.\n",
    "        Нельзя запросить ничего!\n",
    "\n",
    "    :return: Дата в формате YYYY-MM-DD HH:MM:SS\n",
    "    :rtype: str\n",
    "\n",
    "    \"\"\"\n",
    "    timezone = pytz.timezone(\"Asia/Vladivostok\")\n",
    "    \"\"\"Ваша временная зона\"\"\"\n",
    "    date = datetime.fromtimestamp(utc_date, tz=timezone)\n",
    "    \"\"\"Дата без форматирования\"\"\"\n",
    "    if ymd and h:\n",
    "        return date.strftime('%Y-%m-%d %H:%M:%S')\n",
    "    elif ymd:\n",
    "        return date.strftime('%Y-%m-%d')\n",
    "    elif h:\n",
    "        return date.strftime('%H')\n",
    "    else:\n",
    "        raise Exception(\"Неправильный запрос!\")"
   ],
   "metadata": {
    "collapsed": false,
    "ExecuteTime": {
     "end_time": "2024-03-01T13:47:00.762654Z",
     "start_time": "2024-03-01T13:46:53.220167Z"
    }
   },
   "id": "b33b5e4532d352ff",
   "execution_count": 192
  },
  {
   "cell_type": "markdown",
   "source": [
    "\n",
    "### Получение информации из самих сообщений"
   ],
   "metadata": {
    "collapsed": false
   },
   "id": "dea61cc2c23df3f5"
  },
  {
   "cell_type": "markdown",
   "source": [
    "#### Количество сообщений"
   ],
   "metadata": {
    "collapsed": false
   },
   "id": "f4cb64451b92cc13"
  },
  {
   "cell_type": "code",
   "outputs": [
    {
     "data": {
      "text/plain": "                username  count\n0        Даниил Плешанов  24631\n1      Александр Каменев  24115\n2             Аля Знаток  15244\n3           Яна Шевелёва  13730\n4      Денис Севостьянов  11244\n5    Александра Корчевец  10372\n6   Владислав Слободской   9600\n7         Сергей Смирнов   6240\n8         Алеусандр Меок   6092\n9         Дина Винницкая   5585\n10      Артемий Поповкин   4975\n11      Елизавета Исаева   4809\n12        Алиса Матвеева   4220\n13    Александр Пушкарёв   3504\n14        Александр Ковш   3395\n15          Эрсан Егоров   3169\n16       Максим Карманов   2551\n17         Илья Щербаков   2245\n18   Максим Завязочников   2110\n19       Сергей Глущенко   1785\n20         Данил Крисько   1718\n21     Владислав Коняхин   1260\n22            Олег Либих   1149\n23          Лёша Шафиков   1148\n24         Егор Кузнецов   1137\n25         Артем Громыко   1039",
      "text/html": "<div>\n<style scoped>\n    .dataframe tbody tr th:only-of-type {\n        vertical-align: middle;\n    }\n\n    .dataframe tbody tr th {\n        vertical-align: top;\n    }\n\n    .dataframe thead th {\n        text-align: right;\n    }\n</style>\n<table border=\"1\" class=\"dataframe\">\n  <thead>\n    <tr style=\"text-align: right;\">\n      <th></th>\n      <th>username</th>\n      <th>count</th>\n    </tr>\n  </thead>\n  <tbody>\n    <tr>\n      <th>0</th>\n      <td>Даниил Плешанов</td>\n      <td>24631</td>\n    </tr>\n    <tr>\n      <th>1</th>\n      <td>Александр Каменев</td>\n      <td>24115</td>\n    </tr>\n    <tr>\n      <th>2</th>\n      <td>Аля Знаток</td>\n      <td>15244</td>\n    </tr>\n    <tr>\n      <th>3</th>\n      <td>Яна Шевелёва</td>\n      <td>13730</td>\n    </tr>\n    <tr>\n      <th>4</th>\n      <td>Денис Севостьянов</td>\n      <td>11244</td>\n    </tr>\n    <tr>\n      <th>5</th>\n      <td>Александра Корчевец</td>\n      <td>10372</td>\n    </tr>\n    <tr>\n      <th>6</th>\n      <td>Владислав Слободской</td>\n      <td>9600</td>\n    </tr>\n    <tr>\n      <th>7</th>\n      <td>Сергей Смирнов</td>\n      <td>6240</td>\n    </tr>\n    <tr>\n      <th>8</th>\n      <td>Алеусандр Меок</td>\n      <td>6092</td>\n    </tr>\n    <tr>\n      <th>9</th>\n      <td>Дина Винницкая</td>\n      <td>5585</td>\n    </tr>\n    <tr>\n      <th>10</th>\n      <td>Артемий Поповкин</td>\n      <td>4975</td>\n    </tr>\n    <tr>\n      <th>11</th>\n      <td>Елизавета Исаева</td>\n      <td>4809</td>\n    </tr>\n    <tr>\n      <th>12</th>\n      <td>Алиса Матвеева</td>\n      <td>4220</td>\n    </tr>\n    <tr>\n      <th>13</th>\n      <td>Александр Пушкарёв</td>\n      <td>3504</td>\n    </tr>\n    <tr>\n      <th>14</th>\n      <td>Александр Ковш</td>\n      <td>3395</td>\n    </tr>\n    <tr>\n      <th>15</th>\n      <td>Эрсан Егоров</td>\n      <td>3169</td>\n    </tr>\n    <tr>\n      <th>16</th>\n      <td>Максим Карманов</td>\n      <td>2551</td>\n    </tr>\n    <tr>\n      <th>17</th>\n      <td>Илья Щербаков</td>\n      <td>2245</td>\n    </tr>\n    <tr>\n      <th>18</th>\n      <td>Максим Завязочников</td>\n      <td>2110</td>\n    </tr>\n    <tr>\n      <th>19</th>\n      <td>Сергей Глущенко</td>\n      <td>1785</td>\n    </tr>\n    <tr>\n      <th>20</th>\n      <td>Данил Крисько</td>\n      <td>1718</td>\n    </tr>\n    <tr>\n      <th>21</th>\n      <td>Владислав Коняхин</td>\n      <td>1260</td>\n    </tr>\n    <tr>\n      <th>22</th>\n      <td>Олег Либих</td>\n      <td>1149</td>\n    </tr>\n    <tr>\n      <th>23</th>\n      <td>Лёша Шафиков</td>\n      <td>1148</td>\n    </tr>\n    <tr>\n      <th>24</th>\n      <td>Егор Кузнецов</td>\n      <td>1137</td>\n    </tr>\n    <tr>\n      <th>25</th>\n      <td>Артем Громыко</td>\n      <td>1039</td>\n    </tr>\n  </tbody>\n</table>\n</div>"
     },
     "execution_count": 188,
     "metadata": {},
     "output_type": "execute_result"
    }
   ],
   "source": [
    "messages_count = (chat_df.groupby(['id_user'])[['id']].count().merge(users_df, left_on='id_user', right_on='id')[['username', 'id_x']].rename({'id_x': 'count'}, axis='columns')\n",
    "                  .sort_values(by='count',ascending=False).reset_index(drop=True))\n",
    "\n",
    "messages_count.head(26)"
   ],
   "metadata": {
    "collapsed": false,
    "ExecuteTime": {
     "end_time": "2024-03-01T13:19:09.099490Z",
     "start_time": "2024-03-01T13:19:09.085829Z"
    }
   },
   "id": "ea3bad602651f811",
   "execution_count": 188
  },
  {
   "cell_type": "code",
   "outputs": [
    {
     "data": {
      "text/plain": "date\n2022-08-10     731\n2022-08-11    2791\n2022-08-12    2300\n2022-08-13     850\n2022-08-14     137\n              ... \n2023-11-16    2008\n2023-11-17     245\n2023-11-18       2\n2023-11-30       3\n2024-02-24       1\nName: count, Length: 463, dtype: int64"
     },
     "execution_count": 189,
     "metadata": {},
     "output_type": "execute_result"
    }
   ],
   "source": [
    "date_df = chat_df['date'].map(lambda x: get_date(x, h=False))\n",
    "date_df = date_df.groupby(date_df).count().rename('count')\n",
    "\n",
    "date_df"
   ],
   "metadata": {
    "collapsed": false,
    "ExecuteTime": {
     "end_time": "2024-03-01T13:19:10.547415Z",
     "start_time": "2024-03-01T13:19:09.100492Z"
    }
   },
   "id": "44b77a60c8fb0560",
   "execution_count": 189
  },
  {
   "cell_type": "code",
   "outputs": [
    {
     "data": {
      "text/plain": "date\n00    12269\n01     4258\n02     1227\n03      693\n04      904\n05      117\n06      147\n07      839\n08     2004\n09     2729\n10     3567\n11     4560\n12     4871\n13     5426\n14     7248\n15     6895\n16     9485\n17    10461\n18    12904\n19    14823\n20    13198\n21    18308\n22    19249\n23    19452\nName: count, dtype: int64"
     },
     "execution_count": 190,
     "metadata": {},
     "output_type": "execute_result"
    }
   ],
   "source": [
    "date_time_df = chat_df['date'].map(lambda x: get_date(x, ymd=False))\n",
    "date_time_df = date_time_df.groupby(date_time_df).count().rename('count')\n",
    "\n",
    "date_time_df"
   ],
   "metadata": {
    "collapsed": false,
    "ExecuteTime": {
     "end_time": "2024-03-01T13:19:11.838398Z",
     "start_time": "2024-03-01T13:19:10.548467Z"
    }
   },
   "id": "6736563c0fd1dd6b",
   "execution_count": 190
  },
  {
   "cell_type": "code",
   "outputs": [],
   "source": [],
   "metadata": {
    "collapsed": false,
    "ExecuteTime": {
     "end_time": "2024-03-01T04:51:35.538849Z",
     "start_time": "2024-03-01T04:51:35.527435Z"
    }
   },
   "id": "97a431eafa300468",
   "execution_count": 20
  },
  {
   "cell_type": "code",
   "outputs": [],
   "source": [],
   "metadata": {
    "collapsed": false,
    "ExecuteTime": {
     "end_time": "2024-03-01T04:51:35.554912Z",
     "start_time": "2024-03-01T04:51:35.542882Z"
    }
   },
   "id": "6d2c46f99313b629",
   "execution_count": 20
  }
 ],
 "metadata": {
  "kernelspec": {
   "display_name": "Python 3",
   "language": "python",
   "name": "python3"
  },
  "language_info": {
   "codemirror_mode": {
    "name": "ipython",
    "version": 2
   },
   "file_extension": ".py",
   "mimetype": "text/x-python",
   "name": "python",
   "nbconvert_exporter": "python",
   "pygments_lexer": "ipython2",
   "version": "2.7.6"
  }
 },
 "nbformat": 4,
 "nbformat_minor": 5
}
