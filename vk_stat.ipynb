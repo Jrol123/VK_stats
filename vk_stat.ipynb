{
 "cells": [
  {
   "cell_type": "markdown",
   "source": [
    "# Подготовительный этап"
   ],
   "metadata": {
    "collapsed": false
   },
   "id": "41f36efef10fa7fa"
  },
  {
   "cell_type": "markdown",
   "source": [
    "## Получение чата"
   ],
   "metadata": {
    "collapsed": false
   },
   "id": "23cb80cec045b708"
  },
  {
   "cell_type": "markdown",
   "source": [
    "### Подготовительный этап\n",
    "\n",
    "#### Цели:\n",
    "1. Получить ***vk token***\n",
    "2. Получить ***id чата***, состоящий из двух цифр\n",
    "3. Определиться, должна ли будет проводиться загрузка фото и стикеров\n",
    "\n",
    "#### Решение:\n",
    "1. Гугл в помощь + ***.env*** для хранения\n",
    "2. Адресная строка в помощь\n",
    "3. Введена дополнительная переменная для определения того, следует ли пытаться загрузить изображения и стикеры, или нет"
   ],
   "metadata": {
    "collapsed": false
   },
   "id": "f7b172afe522750"
  },
  {
   "cell_type": "code",
   "outputs": [
    {
     "data": {
      "text/plain": "'Должна ли проводиться загрузка фото/стикеров'"
     },
     "execution_count": 2,
     "metadata": {},
     "output_type": "execute_result"
    }
   ],
   "source": [
    "import vk_api\n",
    "import urllib3\n",
    "import pandas as pd\n",
    "from math import ceil\n",
    "from datetime import datetime\n",
    "\n",
    "from dotenv import dotenv_values\n",
    "\n",
    "secrets = dotenv_values(\".env\")\n",
    "\"\"\"Секреты\"\"\"\n",
    "\n",
    "vk = vk_api.VkApi(\n",
    "    token=secrets['VK_TOKEN'])\n",
    "\"\"\"Модуль ВК\"\"\"\n",
    "\n",
    "id_chat = int(secrets['CHAT_ID'])\n",
    "\"\"\"id чата\"\"\"\n",
    "\n",
    "SHOULD_DOWNLOAD = False\n",
    "\"\"\"Должна ли проводиться загрузка фото/стикеров\"\"\"\n"
   ],
   "metadata": {
    "collapsed": false,
    "ExecuteTime": {
     "end_time": "2024-03-01T21:43:04.491462Z",
     "start_time": "2024-03-01T21:42:59.821462Z"
    }
   },
   "id": "e4b2ceff358d476b",
   "execution_count": 2
  },
  {
   "cell_type": "markdown",
   "source": [
    "### Определение функций\n",
    "\n",
    "Необходимо определиться с тем, как будет получаться необходимая информация с vk.\n",
    "Поскольку используется ***vk_api***, то можно использовать официальную документацию по работе с api.\n",
    "\n",
    "**get_chat** — работает с ***vk.method***, поэтому все параметры приходится прописывать в роли dictionary.\n",
    "**download_&** — работает с помощью ***urllib3***. Получается изображение с сайта, затем оно сохраняется и готово.\n",
    "\n",
    "Дополнительную информацию можно прочесть в документации в коде."
   ],
   "metadata": {
    "collapsed": false
   },
   "id": "6aa48d8f5fc5156c"
  },
  {
   "cell_type": "code",
   "outputs": [],
   "source": [
    "def download_image(url: str) -> None:\n",
    "    \"\"\"\n",
    "\n",
    "    Функция загрузки изображения\n",
    "\n",
    "    :param url: URL адрес картинки\n",
    "    :type url: str\n",
    "\n",
    "    :return: Сохраняет картинку в папку\n",
    "        Каждая картинка появляется лишь 1 раз\n",
    "    :rtype: None\n",
    "\n",
    "    \"\"\"\n",
    "    file_name = (url.split(\"/\")[-1]).split(\"?\")[0]\n",
    "    \"\"\"Имя картинки\"\"\"\n",
    "\n",
    "    result_image = urllib3.request('GET', url)\n",
    "    \"\"\"Полученное изображение\"\"\"\n",
    "    with open(f'content/visual/images/{file_name}', 'wb') as image:\n",
    "        image.write(result_image.data)\n",
    "\n",
    "\n",
    "def download_sticker(id_sticker: int) -> None:\n",
    "    \"\"\"\n",
    "\n",
    "    Функция загрузки стикера\n",
    "\n",
    "    :param id_sticker: Номер стикера\n",
    "    :type id_sticker: int\n",
    "\n",
    "    :return: Сохраняет стикер в папку\n",
    "        Каждый стикер появляется лишь 1 раз\n",
    "        Стикеры сохраняются в формате .png в разрешении 512x512\n",
    "    :rtype: None\n",
    "\n",
    "    \"\"\"\n",
    "    result_sticker = urllib3.request('GET', f\"https://vk.com/sticker/1-{id_sticker}-512b\")\n",
    "    \"\"\"Полученный стикер\"\"\"\n",
    "    with open(f'content/visual/stickers/{id_sticker}.png', 'wb') as f:\n",
    "        f.write(result_sticker.data)\n",
    "\n",
    "\n",
    "def get_chat(peer_id: int = id_chat, count: int = 200, offset: int = 0) -> dict:\n",
    "    \"\"\"\n",
    "\n",
    "    Позволяет получить сообщения из чата.\n",
    "\n",
    "    :param peer_id: id чата.\n",
    "        Работает через peer\n",
    "    :type peer_id: int\n",
    "    :param count: Количество получаемых сообщений <= 200\n",
    "    :type count: int\n",
    "    :param offset: Сдвиг от начального сообщения\n",
    "    :type offset: int\n",
    "\n",
    "    :return: Словарь с сообщениями и их параметрами\n",
    "    :rtype: dict\n",
    "\n",
    "    \"\"\"\n",
    "    # Требуется добавлять 2e9 по документации vk api\n",
    "    peer_id += 2e9\n",
    "\n",
    "    return vk.method('messages.getHistory',\n",
    "                     {'peer_id': peer_id,\n",
    "                      'count': count,\n",
    "                      'offset': offset,\n",
    "                      'rev': 1,\n",
    "                      'extended': True}\n",
    "                     )\n"
   ],
   "metadata": {
    "collapsed": false,
    "ExecuteTime": {
     "end_time": "2024-03-01T21:43:04.507492Z",
     "start_time": "2024-03-01T21:43:04.492463Z"
    }
   },
   "id": "713deab9cba6f905",
   "execution_count": 3
  },
  {
   "cell_type": "markdown",
   "source": [
    "### Получение чата\n",
    "\n",
    "Теперь необходимо получить сам чат.\n",
    "\n",
    "Делается это в два этапа:\n",
    "\n",
    "#### Этап 1:\n",
    "##### Получение длины чата.\n",
    "\n",
    "Берётся одно сообщение из чата.\n",
    "В каждый ***response*** закладывается количество сообщений в чате.\n",
    "С его помощью можно завести цикл по количеству сообщений.\n",
    "\n",
    "#### Этап 2:\n",
    "##### Сам цикл.\n",
    "\n",
    "За раз я могу получить лишь 200 сообщений из чата.\n",
    "***delta*** делает отступ от первого сообщения в чате, а также является счётчиком того, сколько сообщений было прочитано.\n",
    "\n",
    "#### Этап 3:\n",
    "##### Получение пользователей.\n",
    "\n",
    "Каждый раз при запуске нового большого цикла производится добавление пользователей, что так или иначе были задействованы в этих сообщениях (пересланные сообщения и реакции тоже считаются), добавляются в **users_mass**, содержащий **id** пользователей и их **Имя** и **Фамилию**.\n",
    "\n",
    "Пользователи с удалённым профилем тоже обрабатываются. В качестве **Имени** ***vk*** даёт им *DELETED*, а в качестве **Фамилии** берётся их **id**.\n",
    "\n",
    "#### Этап 4:\n",
    "##### Разбор сообщений.\n",
    "\n",
    "Сообщения имеют следующие характеристики:\n",
    "**id**\n",
    "**id пользователя**\n",
    "**Является ли действием** *(добавление/исключение пользователей)*\n",
    "**Пересылается ли сообщение в сообщении**\n",
    "**Текст сообщения**\n",
    "**Приложенный файл**\n",
    "**Реакции на сообщение**\n",
    "**Информация о сообщении, на которое даётся ответ**. Необходимо брать эту информацию, поскольку может быть ситуация, когда сообщение, на которое был дан ответ, было позже удалено.\n",
    "\n",
    "Более подробно о том, как разбираются сообщения будет лучше посмотреть в коде, но если вкратце — берётся разнообразная информация из оригинального сообщения (**message_data**) и добавляется в финальное сообщение (**message**), которое затем добавляется в **msg_mass**.\n",
    "\n",
    "Удалённые сообщения. Но вместо их **id** берётся константа *404404* и приписывается текущее количество удалённых сообщений.\n"
   ],
   "metadata": {
    "collapsed": false
   },
   "id": "e7c838f9fbfc8694"
  },
  {
   "cell_type": "code",
   "outputs": [
    {
     "name": "stdout",
     "output_type": "stream",
     "text": [
      "0:13:14.707766\n"
     ]
    },
    {
     "data": {
      "text/plain": "            id             username\n0    205170325      Дарья Белоусова\n1    228579277         Яна Шевелёва\n2    267228976   Александр Пушкарёв\n3    305187037  Максим Завязочников\n4    352169415    Денис Севостьянов\n..         ...                  ...\n334  288927172          Вадим Зотов\n335  284711423       Артём Цеппелев\n336  412777661         Maria Oguzok\n337  690543725         Анишит Йокоп\n338  733644604   Екатерина Каменева\n\n[339 rows x 2 columns]",
      "text/html": "<div>\n<style scoped>\n    .dataframe tbody tr th:only-of-type {\n        vertical-align: middle;\n    }\n\n    .dataframe tbody tr th {\n        vertical-align: top;\n    }\n\n    .dataframe thead th {\n        text-align: right;\n    }\n</style>\n<table border=\"1\" class=\"dataframe\">\n  <thead>\n    <tr style=\"text-align: right;\">\n      <th></th>\n      <th>id</th>\n      <th>username</th>\n    </tr>\n  </thead>\n  <tbody>\n    <tr>\n      <th>0</th>\n      <td>205170325</td>\n      <td>Дарья Белоусова</td>\n    </tr>\n    <tr>\n      <th>1</th>\n      <td>228579277</td>\n      <td>Яна Шевелёва</td>\n    </tr>\n    <tr>\n      <th>2</th>\n      <td>267228976</td>\n      <td>Александр Пушкарёв</td>\n    </tr>\n    <tr>\n      <th>3</th>\n      <td>305187037</td>\n      <td>Максим Завязочников</td>\n    </tr>\n    <tr>\n      <th>4</th>\n      <td>352169415</td>\n      <td>Денис Севостьянов</td>\n    </tr>\n    <tr>\n      <th>...</th>\n      <td>...</td>\n      <td>...</td>\n    </tr>\n    <tr>\n      <th>334</th>\n      <td>288927172</td>\n      <td>Вадим Зотов</td>\n    </tr>\n    <tr>\n      <th>335</th>\n      <td>284711423</td>\n      <td>Артём Цеппелев</td>\n    </tr>\n    <tr>\n      <th>336</th>\n      <td>412777661</td>\n      <td>Maria Oguzok</td>\n    </tr>\n    <tr>\n      <th>337</th>\n      <td>690543725</td>\n      <td>Анишит Йокоп</td>\n    </tr>\n    <tr>\n      <th>338</th>\n      <td>733644604</td>\n      <td>Екатерина Каменева</td>\n    </tr>\n  </tbody>\n</table>\n<p>339 rows × 2 columns</p>\n</div>"
     },
     "execution_count": 182,
     "metadata": {},
     "output_type": "execute_result"
    }
   ],
   "source": [
    "length_chat = get_chat(count=1)['count']\n",
    "\"\"\"Количество сообщений в чате\"\"\"\n",
    "\n",
    "msg_mass = []\n",
    "\"\"\"Массив сообщений\"\"\"\n",
    "\n",
    "users_mass = {}\n",
    "\"\"\"Список пользователей\"\"\"\n",
    "\n",
    "count_dead_msg = 0\n",
    "\"\"\"Количество удалённых сообщений, на которые был дан ответ\"\"\"\n",
    "\n",
    "start_time = datetime.now()\n",
    "\"\"\"Время начала получения статистики\"\"\"\n",
    "for times_add in range(int(ceil(length_chat / 200))):\n",
    "\n",
    "    delta = 200 * times_add\n",
    "    \"\"\"Отступ от первого сообщения\"\"\"\n",
    "    messages = get_chat(count=min(200, length_chat - delta), offset=delta)\n",
    "    \"\"\"count сообщений после delta\"\"\"\n",
    "\n",
    "    for profile in messages['profiles']:\n",
    "        if users_mass.get(profile['id']):\n",
    "            continue\n",
    "        users_mass[profile['id']] = profile['first_name'] + \" \"\n",
    "        if profile['last_name'] == '':\n",
    "            users_mass[profile['id']] += str(profile['id'])\n",
    "        else:\n",
    "            users_mass[profile['id']] += profile['last_name']\n",
    "\n",
    "    for message_data in messages['items']:\n",
    "        isForwarding = True if message_data.get(\"fwd_messages\") else False\n",
    "        \"\"\"Пересылается ли сообщение\"\"\"\n",
    "\n",
    "        isAction = True if message_data.get('action') else False\n",
    "        \"\"\"Является ли сообщение действием\"\"\"\n",
    "\n",
    "        attachments_type = \"None\"\n",
    "        \"\"\"Тип прикреплённого сообщения\"\"\"\n",
    "        attachments = []\n",
    "        \"\"\"Прикреплённые доп. материалы\"\"\"\n",
    "        if message_data.get('attachments'):\n",
    "\n",
    "            for attachment in message_data['attachments']:\n",
    "                if attachment['type'] == 'photo':\n",
    "                    attachments_type = 'photo'\n",
    "                    attachments.append(\n",
    "                        (((attachment['photo']['sizes'][-1]['url']).split(\"/\")[-1]).split(\"?\"))[0]\n",
    "                    )\n",
    "                elif attachment['type'] == 'sticker':\n",
    "                    attachments_type = 'sticker'\n",
    "                    attachments.append(str(attachment['sticker']['sticker_id']) + \".png\")\n",
    "\n",
    "        reactions = [0] * (16 + 1)\n",
    "        \"\"\"Реакции\"\"\"\n",
    "        if message_data.get('reactions'):\n",
    "            # Почему-то не всегда показывает тех, кто ставил реакции\n",
    "            # #1\n",
    "            for reaction in message_data['reactions']:\n",
    "                reactions[0] += reaction['count']\n",
    "                user_list = [reaction['count']]\n",
    "                for user in reaction['user_ids']:\n",
    "                    user_list.append(user)\n",
    "                reactions[reaction['reaction_id']] = user_list\n",
    "\n",
    "        response = {'id': -1,\n",
    "                    'date': -1,\n",
    "                    'user_id': -1,\n",
    "                    'text': \"None\",\n",
    "                    'attachments': {'type': \"None\",\n",
    "                                    'value': []\n",
    "                                    # Содержит в себе название файла\n",
    "                                    }\n",
    "                    }\n",
    "        \"\"\"Ответ на сообщение\"\"\"\n",
    "        if message_data.get('reply_message'):\n",
    "            reply = message_data['reply_message']\n",
    "            if reply.get('conversation_message_id'):\n",
    "                response['id'] = reply['conversation_message_id']\n",
    "            if not reply.get('conversation_message_id') or response['id'] is None:\n",
    "                response['id'] = int(f'404404{count_dead_msg}')\n",
    "                count_dead_msg += 1\n",
    "            response['date'] = reply['date']\n",
    "            response['user_id'] = reply['from_id']\n",
    "            response['text'] = reply['text']\n",
    "\n",
    "            for attachment in reply['attachments']:\n",
    "                if attachment['type'] == 'photo':\n",
    "                    response['attachments']['type'] = 'photo'\n",
    "                    response['attachments']['value'].append(\n",
    "                        (((attachment['photo']['sizes'][-1]['url']).split(\"/\")[-1]).split(\"?\"))[0]\n",
    "                    )\n",
    "                elif attachment['type'] == 'sticker':\n",
    "                    response['attachments']['type'] = 'sticker'\n",
    "                    response['attachments']['value'].append(str(attachment['sticker']['sticker_id']) + \".png\")\n",
    "\n",
    "        message = {'id': message_data['id'],\n",
    "                   'date': message_data['date'],\n",
    "                   'isAction': isAction,\n",
    "                   'isForwarding': isForwarding,\n",
    "                   'id_user': message_data['from_id'],\n",
    "                   'text': message_data['text'],\n",
    "                   'attachments_type': attachments_type,\n",
    "                   'attachments': attachments,\n",
    "                   'reactions': reactions,\n",
    "                   'response_id': response['id'],\n",
    "                   'response_date': response['date'],\n",
    "                   'response_id_user': response['user_id'],\n",
    "                   'response_text': response['text'],\n",
    "                   'response_attachments_type': response['attachments']['type'],\n",
    "                   'response_attachments': response['attachments']['value']\n",
    "                   }\n",
    "        \"\"\"Сообщение\"\"\"\n",
    "\n",
    "        msg_mass.append(message)\n",
    "\n",
    "        # Загрузка доп данных\n",
    "        if SHOULD_DOWNLOAD and message_data.get('attachments'):\n",
    "            for attachment in message_data['attachments']:\n",
    "                if attachment['type'] == 'photo':\n",
    "                    download_image(attachment['photo']['sizes'][-1]['url'])\n",
    "                elif attachment['type'] == 'sticker':\n",
    "                    download_sticker(attachment['sticker']['sticker_id'])\n",
    "\n",
    "end_time = datetime.now()\n",
    "\"\"\"Время завершения программы получения статистики\"\"\"\n",
    "print(end_time - start_time)\n",
    "\n",
    "users_df = pd.DataFrame(users_mass.items(), columns=['id', 'username'])\n",
    "chat_df = pd.DataFrame(msg_mass)\n",
    "\n",
    "users_df"
   ],
   "metadata": {
    "collapsed": false,
    "ExecuteTime": {
     "end_time": "2024-03-01T13:19:06.911715Z",
     "start_time": "2024-03-01T13:05:50.883663Z"
    }
   },
   "id": "ebe3d3ba3a1c4624",
   "execution_count": 182
  },
  {
   "cell_type": "code",
   "outputs": [
    {
     "data": {
      "text/plain": "            id        date  isAction  isForwarding    id_user  \\\n0       243689  1660100832     False         False  352169415   \n1       243690  1660100835     False         False  657900781   \n2       243691  1660100838     False         False  352169415   \n3       243692  1660100842     False         False  657900781   \n4       243693  1660100850     False         False  267228976   \n...        ...         ...       ...           ...        ...   \n175629  614379  1700312261      True         False  267228976   \n175630  614380  1701352697     False         False  529577677   \n175631  614381  1701352787     False         False  529577677   \n175632  614382  1701352798      True         False  529577677   \n175633  614383  1708771406      True         False  453792061   \n\n                                                     text attachments_type  \\\n0                                  Ну, теперь на егэ поху             None   \n1       у меня потом такой тильт из-за резов был ахвхв...             None   \n2                                      Поступил и отлично             None   \n3                      сейчас главное что поступила и все             None   \n4                                       это самое главное             None   \n...                                                   ...              ...   \n175629                                                                None   \n175630                                    Очень интересно             None   \n175631                                           Прощайте             None   \n175632                                                                None   \n175633                                                                None   \n\n       attachments                                          reactions  \\\n0               []  [0, 0, 0, 0, 0, 0, 0, 0, 0, 0, 0, 0, 0, 0, 0, ...   \n1               []  [0, 0, 0, 0, 0, 0, 0, 0, 0, 0, 0, 0, 0, 0, 0, ...   \n2               []  [0, 0, 0, 0, 0, 0, 0, 0, 0, 0, 0, 0, 0, 0, 0, ...   \n3               []  [0, 0, 0, 0, 0, 0, 0, 0, 0, 0, 0, 0, 0, 0, 0, ...   \n4               []  [0, 0, 0, 0, 0, 0, 0, 0, 0, 0, 0, 0, 0, 0, 0, ...   \n...            ...                                                ...   \n175629          []  [0, 0, 0, 0, 0, 0, 0, 0, 0, 0, 0, 0, 0, 0, 0, ...   \n175630          []  [0, 0, 0, 0, 0, 0, 0, 0, 0, 0, 0, 0, 0, 0, 0, ...   \n175631          []  [0, 0, 0, 0, 0, 0, 0, 0, 0, 0, 0, 0, 0, 0, 0, ...   \n175632          []  [0, 0, 0, 0, 0, 0, 0, 0, 0, 0, 0, 0, 0, 0, 0, ...   \n175633          []  [0, 0, 0, 0, 0, 0, 0, 0, 0, 0, 0, 0, 0, 0, 0, ...   \n\n        response_id  response_date  response_id_user  \\\n0                -1             -1                -1   \n1                -1             -1                -1   \n2                -1             -1                -1   \n3               848     1660100835         657900781   \n4               849     1660100838         352169415   \n...             ...            ...               ...   \n175629           -1             -1                -1   \n175630           -1             -1                -1   \n175631           -1             -1                -1   \n175632           -1             -1                -1   \n175633           -1             -1                -1   \n\n                                            response_text  \\\n0                                                    None   \n1                                                    None   \n2                                                    None   \n3       у меня потом такой тильт из-за резов был ахвхв...   \n4                                      Поступил и отлично   \n...                                                   ...   \n175629                                               None   \n175630                                               None   \n175631                                               None   \n175632                                               None   \n175633                                               None   \n\n       response_attachments_type response_attachments  \n0                           None                   []  \n1                           None                   []  \n2                           None                   []  \n3                           None                   []  \n4                           None                   []  \n...                          ...                  ...  \n175629                      None                   []  \n175630                      None                   []  \n175631                      None                   []  \n175632                      None                   []  \n175633                      None                   []  \n\n[175634 rows x 15 columns]",
      "text/html": "<div>\n<style scoped>\n    .dataframe tbody tr th:only-of-type {\n        vertical-align: middle;\n    }\n\n    .dataframe tbody tr th {\n        vertical-align: top;\n    }\n\n    .dataframe thead th {\n        text-align: right;\n    }\n</style>\n<table border=\"1\" class=\"dataframe\">\n  <thead>\n    <tr style=\"text-align: right;\">\n      <th></th>\n      <th>id</th>\n      <th>date</th>\n      <th>isAction</th>\n      <th>isForwarding</th>\n      <th>id_user</th>\n      <th>text</th>\n      <th>attachments_type</th>\n      <th>attachments</th>\n      <th>reactions</th>\n      <th>response_id</th>\n      <th>response_date</th>\n      <th>response_id_user</th>\n      <th>response_text</th>\n      <th>response_attachments_type</th>\n      <th>response_attachments</th>\n    </tr>\n  </thead>\n  <tbody>\n    <tr>\n      <th>0</th>\n      <td>243689</td>\n      <td>1660100832</td>\n      <td>False</td>\n      <td>False</td>\n      <td>352169415</td>\n      <td>Ну, теперь на егэ поху</td>\n      <td>None</td>\n      <td>[]</td>\n      <td>[0, 0, 0, 0, 0, 0, 0, 0, 0, 0, 0, 0, 0, 0, 0, ...</td>\n      <td>-1</td>\n      <td>-1</td>\n      <td>-1</td>\n      <td>None</td>\n      <td>None</td>\n      <td>[]</td>\n    </tr>\n    <tr>\n      <th>1</th>\n      <td>243690</td>\n      <td>1660100835</td>\n      <td>False</td>\n      <td>False</td>\n      <td>657900781</td>\n      <td>у меня потом такой тильт из-за резов был ахвхв...</td>\n      <td>None</td>\n      <td>[]</td>\n      <td>[0, 0, 0, 0, 0, 0, 0, 0, 0, 0, 0, 0, 0, 0, 0, ...</td>\n      <td>-1</td>\n      <td>-1</td>\n      <td>-1</td>\n      <td>None</td>\n      <td>None</td>\n      <td>[]</td>\n    </tr>\n    <tr>\n      <th>2</th>\n      <td>243691</td>\n      <td>1660100838</td>\n      <td>False</td>\n      <td>False</td>\n      <td>352169415</td>\n      <td>Поступил и отлично</td>\n      <td>None</td>\n      <td>[]</td>\n      <td>[0, 0, 0, 0, 0, 0, 0, 0, 0, 0, 0, 0, 0, 0, 0, ...</td>\n      <td>-1</td>\n      <td>-1</td>\n      <td>-1</td>\n      <td>None</td>\n      <td>None</td>\n      <td>[]</td>\n    </tr>\n    <tr>\n      <th>3</th>\n      <td>243692</td>\n      <td>1660100842</td>\n      <td>False</td>\n      <td>False</td>\n      <td>657900781</td>\n      <td>сейчас главное что поступила и все</td>\n      <td>None</td>\n      <td>[]</td>\n      <td>[0, 0, 0, 0, 0, 0, 0, 0, 0, 0, 0, 0, 0, 0, 0, ...</td>\n      <td>848</td>\n      <td>1660100835</td>\n      <td>657900781</td>\n      <td>у меня потом такой тильт из-за резов был ахвхв...</td>\n      <td>None</td>\n      <td>[]</td>\n    </tr>\n    <tr>\n      <th>4</th>\n      <td>243693</td>\n      <td>1660100850</td>\n      <td>False</td>\n      <td>False</td>\n      <td>267228976</td>\n      <td>это самое главное</td>\n      <td>None</td>\n      <td>[]</td>\n      <td>[0, 0, 0, 0, 0, 0, 0, 0, 0, 0, 0, 0, 0, 0, 0, ...</td>\n      <td>849</td>\n      <td>1660100838</td>\n      <td>352169415</td>\n      <td>Поступил и отлично</td>\n      <td>None</td>\n      <td>[]</td>\n    </tr>\n    <tr>\n      <th>...</th>\n      <td>...</td>\n      <td>...</td>\n      <td>...</td>\n      <td>...</td>\n      <td>...</td>\n      <td>...</td>\n      <td>...</td>\n      <td>...</td>\n      <td>...</td>\n      <td>...</td>\n      <td>...</td>\n      <td>...</td>\n      <td>...</td>\n      <td>...</td>\n      <td>...</td>\n    </tr>\n    <tr>\n      <th>175629</th>\n      <td>614379</td>\n      <td>1700312261</td>\n      <td>True</td>\n      <td>False</td>\n      <td>267228976</td>\n      <td></td>\n      <td>None</td>\n      <td>[]</td>\n      <td>[0, 0, 0, 0, 0, 0, 0, 0, 0, 0, 0, 0, 0, 0, 0, ...</td>\n      <td>-1</td>\n      <td>-1</td>\n      <td>-1</td>\n      <td>None</td>\n      <td>None</td>\n      <td>[]</td>\n    </tr>\n    <tr>\n      <th>175630</th>\n      <td>614380</td>\n      <td>1701352697</td>\n      <td>False</td>\n      <td>False</td>\n      <td>529577677</td>\n      <td>Очень интересно</td>\n      <td>None</td>\n      <td>[]</td>\n      <td>[0, 0, 0, 0, 0, 0, 0, 0, 0, 0, 0, 0, 0, 0, 0, ...</td>\n      <td>-1</td>\n      <td>-1</td>\n      <td>-1</td>\n      <td>None</td>\n      <td>None</td>\n      <td>[]</td>\n    </tr>\n    <tr>\n      <th>175631</th>\n      <td>614381</td>\n      <td>1701352787</td>\n      <td>False</td>\n      <td>False</td>\n      <td>529577677</td>\n      <td>Прощайте</td>\n      <td>None</td>\n      <td>[]</td>\n      <td>[0, 0, 0, 0, 0, 0, 0, 0, 0, 0, 0, 0, 0, 0, 0, ...</td>\n      <td>-1</td>\n      <td>-1</td>\n      <td>-1</td>\n      <td>None</td>\n      <td>None</td>\n      <td>[]</td>\n    </tr>\n    <tr>\n      <th>175632</th>\n      <td>614382</td>\n      <td>1701352798</td>\n      <td>True</td>\n      <td>False</td>\n      <td>529577677</td>\n      <td></td>\n      <td>None</td>\n      <td>[]</td>\n      <td>[0, 0, 0, 0, 0, 0, 0, 0, 0, 0, 0, 0, 0, 0, 0, ...</td>\n      <td>-1</td>\n      <td>-1</td>\n      <td>-1</td>\n      <td>None</td>\n      <td>None</td>\n      <td>[]</td>\n    </tr>\n    <tr>\n      <th>175633</th>\n      <td>614383</td>\n      <td>1708771406</td>\n      <td>True</td>\n      <td>False</td>\n      <td>453792061</td>\n      <td></td>\n      <td>None</td>\n      <td>[]</td>\n      <td>[0, 0, 0, 0, 0, 0, 0, 0, 0, 0, 0, 0, 0, 0, 0, ...</td>\n      <td>-1</td>\n      <td>-1</td>\n      <td>-1</td>\n      <td>None</td>\n      <td>None</td>\n      <td>[]</td>\n    </tr>\n  </tbody>\n</table>\n<p>175634 rows × 15 columns</p>\n</div>"
     },
     "execution_count": 183,
     "metadata": {},
     "output_type": "execute_result"
    }
   ],
   "source": [
    "chat_df"
   ],
   "metadata": {
    "collapsed": false,
    "ExecuteTime": {
     "end_time": "2024-03-01T13:19:06.942922Z",
     "start_time": "2024-03-01T13:19:06.912855Z"
    }
   },
   "id": "21a0be51692d44d2",
   "execution_count": 183
  },
  {
   "cell_type": "markdown",
   "source": [
    "Проверка на правильность вводимых типов данных.\n",
    "\n",
    "Некоторые из них помечены как *object*. Это *str*, *dict*, *list* и им подобные структуры данных."
   ],
   "metadata": {
    "collapsed": false
   },
   "id": "748cd799183a7ce3"
  },
  {
   "cell_type": "code",
   "outputs": [
    {
     "data": {
      "text/plain": "isAction                       bool\nisForwarding                   bool\nid                            int64\ndate                          int64\nid_user                       int64\nresponse_id                   int64\nresponse_date                 int64\nresponse_id_user              int64\ntext                         object\nattachments_type             object\nattachments                  object\nreactions                    object\nresponse_text                object\nresponse_attachments_type    object\nresponse_attachments         object\ndtype: object"
     },
     "execution_count": 184,
     "metadata": {},
     "output_type": "execute_result"
    }
   ],
   "source": [
    "chat_df.dtypes.sort_values()"
   ],
   "metadata": {
    "collapsed": false,
    "ExecuteTime": {
     "end_time": "2024-03-01T13:19:06.958554Z",
     "start_time": "2024-03-01T13:19:06.943970Z"
    }
   },
   "id": "792ca86fc3a3c4f6",
   "execution_count": 184
  },
  {
   "cell_type": "markdown",
   "source": [
    "## Сохранение\n",
    "Сохраним данные, чтобы, при получении статистики в несколько этапов, не приходилось каждый раз её генерировать."
   ],
   "metadata": {
    "collapsed": false
   },
   "id": "3f644b6b7b0d1118"
  },
  {
   "cell_type": "code",
   "outputs": [
    {
     "ename": "NameError",
     "evalue": "name 'chat_df' is not defined",
     "output_type": "error",
     "traceback": [
      "\u001B[1;31m---------------------------------------------------------------------------\u001B[0m",
      "\u001B[1;31mNameError\u001B[0m                                 Traceback (most recent call last)",
      "Cell \u001B[1;32mIn[4], line 1\u001B[0m\n\u001B[1;32m----> 1\u001B[0m \u001B[43mchat_df\u001B[49m\u001B[38;5;241m.\u001B[39mto_csv(\u001B[38;5;124m\"\u001B[39m\u001B[38;5;124mcontent/History.csv\u001B[39m\u001B[38;5;124m\"\u001B[39m)\n\u001B[0;32m      2\u001B[0m users_df\u001B[38;5;241m.\u001B[39mto_csv(\u001B[38;5;124m\"\u001B[39m\u001B[38;5;124mcontent/Users.csv\u001B[39m\u001B[38;5;124m\"\u001B[39m)\n",
      "\u001B[1;31mNameError\u001B[0m: name 'chat_df' is not defined"
     ]
    }
   ],
   "source": [
    "chat_df.to_csv(\"content/History.csv\")\n",
    "users_df.to_csv(\"content/Users.csv\")"
   ],
   "metadata": {
    "collapsed": false,
    "ExecuteTime": {
     "end_time": "2024-03-01T21:43:52.594249Z",
     "start_time": "2024-03-01T21:43:52.179138Z"
    }
   },
   "id": "23ecd93120e54491",
   "execution_count": 4
  },
  {
   "cell_type": "markdown",
   "source": [
    "## Загрузка\n",
    "Процесс, обратный сохранению."
   ],
   "metadata": {
    "collapsed": false
   },
   "id": "7cc5b6be0295ea79"
  },
  {
   "cell_type": "code",
   "outputs": [],
   "source": [
    "chat_df = pd.read_csv(\"content/History.csv\")\n",
    "users_df = pd.read_csv(\"content/Users.csv\")"
   ],
   "metadata": {
    "collapsed": false,
    "ExecuteTime": {
     "end_time": "2024-03-01T21:44:02.439693Z",
     "start_time": "2024-03-01T21:43:59.283214Z"
    }
   },
   "id": "7044758dfdd16e65",
   "execution_count": 5
  },
  {
   "cell_type": "markdown",
   "source": [
    "# Статистика"
   ],
   "metadata": {
    "collapsed": false
   },
   "id": "61a0716ae48bf756"
  },
  {
   "cell_type": "markdown",
   "source": [
    "Введём дополнительную функцию, позволяющую перевести время из *UTC* в *YYYY-MM-DD HH:MM:SS*"
   ],
   "metadata": {
    "collapsed": false
   },
   "id": "923c0abe3e8495c7"
  },
  {
   "cell_type": "code",
   "outputs": [],
   "source": [
    "import pytz\n",
    "\n",
    "\n",
    "def get_date(utc_date: int, ymd: bool = True, h: bool = True) -> str:\n",
    "    \"\"\"\n",
    "\n",
    "    Перевод даты из UTC формата в нормальный формат\n",
    "\n",
    "    :param h: Должны ли быть выведены Часы?\n",
    "    :type h: bool\n",
    "    :param ymd: Должны ли быть выведены Год Месяц День?\n",
    "    :type ymd: bool\n",
    "    :param utc_date: Дата в формате utc\n",
    "    :type utc_date: int\n",
    "    \n",
    "    :exception: Можно или запросить всё целиком, или только год-месяц-день, или только часы.\n",
    "        Нельзя запросить ничего!\n",
    "\n",
    "    :return: Дата в формате YYYY-MM-DD HH:MM:SS\n",
    "    :rtype: str\n",
    "\n",
    "    \"\"\"\n",
    "    timezone = pytz.timezone(\"Asia/Vladivostok\")\n",
    "    \"\"\"Ваша временная зона\"\"\"\n",
    "    date = datetime.fromtimestamp(utc_date, tz=timezone)\n",
    "    \"\"\"Дата без форматирования\"\"\"\n",
    "    if ymd and h:\n",
    "        return date.strftime('%Y-%m-%d %H:%M:%S')\n",
    "    elif ymd:\n",
    "        return date.strftime('%Y-%m-%d')\n",
    "    elif h:\n",
    "        return date.strftime('%H')\n",
    "    else:\n",
    "        raise Exception(\"Неправильный запрос!\")"
   ],
   "metadata": {
    "collapsed": false,
    "ExecuteTime": {
     "end_time": "2024-03-01T21:42:19.453591Z",
     "start_time": "2024-03-01T21:42:19.385460Z"
    }
   },
   "id": "b33b5e4532d352ff",
   "execution_count": 1
  },
  {
   "cell_type": "markdown",
   "source": [
    "\n",
    "### Получение информации из самих сообщений"
   ],
   "metadata": {
    "collapsed": false
   },
   "id": "dea61cc2c23df3f5"
  },
  {
   "cell_type": "markdown",
   "source": [
    "#### Количество сообщений"
   ],
   "metadata": {
    "collapsed": false
   },
   "id": "f4cb64451b92cc13"
  },
  {
   "cell_type": "code",
   "outputs": [
    {
     "data": {
      "text/plain": "                username  count\n0        Даниил Плешанов  24631\n1      Александр Каменев  24115\n2             Аля Знаток  15244\n3           Яна Шевелёва  13730\n4      Денис Севостьянов  11244\n5    Александра Корчевец  10372\n6   Владислав Слободской   9600\n7         Сергей Смирнов   6240\n8         Алеусандр Меок   6092\n9         Дина Винницкая   5585\n10      Артемий Поповкин   4975\n11      Елизавета Исаева   4809\n12        Алиса Матвеева   4220\n13    Александр Пушкарёв   3504\n14        Александр Ковш   3395\n15          Эрсан Егоров   3169\n16       Максим Карманов   2551\n17         Илья Щербаков   2245\n18   Максим Завязочников   2110\n19       Сергей Глущенко   1785\n20         Данил Крисько   1718\n21     Владислав Коняхин   1260\n22            Олег Либих   1149\n23          Лёша Шафиков   1148\n24         Егор Кузнецов   1137\n25         Артем Громыко   1039",
      "text/html": "<div>\n<style scoped>\n    .dataframe tbody tr th:only-of-type {\n        vertical-align: middle;\n    }\n\n    .dataframe tbody tr th {\n        vertical-align: top;\n    }\n\n    .dataframe thead th {\n        text-align: right;\n    }\n</style>\n<table border=\"1\" class=\"dataframe\">\n  <thead>\n    <tr style=\"text-align: right;\">\n      <th></th>\n      <th>username</th>\n      <th>count</th>\n    </tr>\n  </thead>\n  <tbody>\n    <tr>\n      <th>0</th>\n      <td>Даниил Плешанов</td>\n      <td>24631</td>\n    </tr>\n    <tr>\n      <th>1</th>\n      <td>Александр Каменев</td>\n      <td>24115</td>\n    </tr>\n    <tr>\n      <th>2</th>\n      <td>Аля Знаток</td>\n      <td>15244</td>\n    </tr>\n    <tr>\n      <th>3</th>\n      <td>Яна Шевелёва</td>\n      <td>13730</td>\n    </tr>\n    <tr>\n      <th>4</th>\n      <td>Денис Севостьянов</td>\n      <td>11244</td>\n    </tr>\n    <tr>\n      <th>5</th>\n      <td>Александра Корчевец</td>\n      <td>10372</td>\n    </tr>\n    <tr>\n      <th>6</th>\n      <td>Владислав Слободской</td>\n      <td>9600</td>\n    </tr>\n    <tr>\n      <th>7</th>\n      <td>Сергей Смирнов</td>\n      <td>6240</td>\n    </tr>\n    <tr>\n      <th>8</th>\n      <td>Алеусандр Меок</td>\n      <td>6092</td>\n    </tr>\n    <tr>\n      <th>9</th>\n      <td>Дина Винницкая</td>\n      <td>5585</td>\n    </tr>\n    <tr>\n      <th>10</th>\n      <td>Артемий Поповкин</td>\n      <td>4975</td>\n    </tr>\n    <tr>\n      <th>11</th>\n      <td>Елизавета Исаева</td>\n      <td>4809</td>\n    </tr>\n    <tr>\n      <th>12</th>\n      <td>Алиса Матвеева</td>\n      <td>4220</td>\n    </tr>\n    <tr>\n      <th>13</th>\n      <td>Александр Пушкарёв</td>\n      <td>3504</td>\n    </tr>\n    <tr>\n      <th>14</th>\n      <td>Александр Ковш</td>\n      <td>3395</td>\n    </tr>\n    <tr>\n      <th>15</th>\n      <td>Эрсан Егоров</td>\n      <td>3169</td>\n    </tr>\n    <tr>\n      <th>16</th>\n      <td>Максим Карманов</td>\n      <td>2551</td>\n    </tr>\n    <tr>\n      <th>17</th>\n      <td>Илья Щербаков</td>\n      <td>2245</td>\n    </tr>\n    <tr>\n      <th>18</th>\n      <td>Максим Завязочников</td>\n      <td>2110</td>\n    </tr>\n    <tr>\n      <th>19</th>\n      <td>Сергей Глущенко</td>\n      <td>1785</td>\n    </tr>\n    <tr>\n      <th>20</th>\n      <td>Данил Крисько</td>\n      <td>1718</td>\n    </tr>\n    <tr>\n      <th>21</th>\n      <td>Владислав Коняхин</td>\n      <td>1260</td>\n    </tr>\n    <tr>\n      <th>22</th>\n      <td>Олег Либих</td>\n      <td>1149</td>\n    </tr>\n    <tr>\n      <th>23</th>\n      <td>Лёша Шафиков</td>\n      <td>1148</td>\n    </tr>\n    <tr>\n      <th>24</th>\n      <td>Егор Кузнецов</td>\n      <td>1137</td>\n    </tr>\n    <tr>\n      <th>25</th>\n      <td>Артем Громыко</td>\n      <td>1039</td>\n    </tr>\n  </tbody>\n</table>\n</div>"
     },
     "execution_count": 6,
     "metadata": {},
     "output_type": "execute_result"
    }
   ],
   "source": [
    "messages_count = (chat_df.groupby(['id_user'])[['id']].count().merge(users_df, left_on='id_user', right_on='id')[\n",
    "                      ['username', 'id_x']].rename({'id_x': 'count'}, axis='columns')\n",
    "                  .sort_values(by='count', ascending=False).reset_index(drop=True))\n",
    "\n",
    "messages_count.head(26)"
   ],
   "metadata": {
    "collapsed": false,
    "ExecuteTime": {
     "end_time": "2024-03-01T21:44:36.458069Z",
     "start_time": "2024-03-01T21:44:36.351383Z"
    }
   },
   "id": "ea3bad602651f811",
   "execution_count": 6
  },
  {
   "cell_type": "code",
   "outputs": [
    {
     "data": {
      "text/plain": "date\n2022-08-10     731\n2022-08-11    2791\n2022-08-12    2300\n2022-08-13     850\n2022-08-14     137\n              ... \n2023-11-16    2008\n2023-11-17     245\n2023-11-18       2\n2023-11-30       3\n2024-02-24       1\nName: count, Length: 463, dtype: int64"
     },
     "execution_count": 189,
     "metadata": {},
     "output_type": "execute_result"
    }
   ],
   "source": [
    "date_df = chat_df['date'].map(lambda x: get_date(x, h=False))\n",
    "date_df = date_df.groupby(date_df).count().rename('count')\n",
    "\n",
    "date_df"
   ],
   "metadata": {
    "collapsed": false,
    "ExecuteTime": {
     "end_time": "2024-03-01T13:19:10.547415Z",
     "start_time": "2024-03-01T13:19:09.100492Z"
    }
   },
   "id": "44b77a60c8fb0560",
   "execution_count": 189
  },
  {
   "cell_type": "code",
   "outputs": [
    {
     "data": {
      "text/plain": "date\n00    12269\n01     4258\n02     1227\n03      693\n04      904\n05      117\n06      147\n07      839\n08     2004\n09     2729\n10     3567\n11     4560\n12     4871\n13     5426\n14     7248\n15     6895\n16     9485\n17    10461\n18    12904\n19    14823\n20    13198\n21    18308\n22    19249\n23    19452\nName: count, dtype: int64"
     },
     "execution_count": 47,
     "metadata": {},
     "output_type": "execute_result"
    }
   ],
   "source": [
    "date_time_df = chat_df['date'].map(lambda x: get_date(x, ymd=False))\n",
    "date_time_df = date_time_df.groupby(date_time_df).count().rename('count')\n",
    "\n",
    "date_time_df"
   ],
   "metadata": {
    "collapsed": false,
    "ExecuteTime": {
     "end_time": "2024-03-01T22:38:02.293592Z",
     "start_time": "2024-03-01T22:37:59.300128Z"
    }
   },
   "id": "6736563c0fd1dd6b",
   "execution_count": 47
  },
  {
   "cell_type": "code",
   "outputs": [
    {
     "data": {
      "text/plain": "                                                                                                    count\nresponse_id response_id_user response_text                                      text                     \n137143      453792061        Ребят кто на 3d?                                   Я                       7\n124626      285341203        @all кто завтра будет 2 кр писать по линалу \"+\"... +                       7\n99882       453792061        @all У кого не стоит балл за коллоквиум №1 в bb    +                       3\n103486      352169415        как жк круто быть троечником...                    +                       3\n148920      328395011        Ну песок из вагины вытряхни говорю                 🫨🫨🫨                     2\n152075      603817821        Мне было лень ещё две буквы печатать               🚫🧠                      2\n95369       354517433        Лайкайте если любите маму                          💙                       2\n48209       228579277        Все, кто участвовали в отборочном испс, вы умни... ❤❤❤                     2\n95369       354517433        Лайкайте если любите маму                          ❤                       2\n119601      392886905        http://simpoll.ru/run/survey/74ec8a4e ?\\nможете... прошел                  2\n70840       394551912        просто следуйте плану                              пиздец                  2\n62775       228579277        Я дам тебе  конфету за это                         ого                     2\n174548      226582250        Deadline: 29 ноября 2023                           о, пасиба               2\n43612       394551912        Чо пора бриться?                                   нет                     2\n123671      443123379        а имеет значение порядок умножения                 нет                     2\n140507      536025091        стандартный определённый интеграл тоже можно за... красива                 2\n150241      536025091        Сережа, когда сгенеришь новую аву в нейросети      когда-нибудь            2\n33991       85283476         вы в Хабаровске все там сверхлюди да               да                      2\n103909      394551912        Александр кошевой и плександр мерк                 да                      2\n123658      443123379        как скобки типа¿                                   да                      2\n136764      536025091        я выбрал UE потомк что:\\n1) она вроде лучше шар... да                      2\n140598      410032691        Вы демонстративно на другие чаты забили?           да                      2\n147761      713935255        что?                                               да                      2\n163839      536025091        ребят, не держите зла на Олега, это его первый ... второй                  2\n38737       748572841        Я хочу выяснить, будет ли у нас первая пара в к... в тимс                  2\n146329      410032691        все мы знаем у кого альцгеймер                     альцгеймер заразен      2\n89920       285341203        в 8.2 кто-нибудь живëт?                            Я                       2\n19306       394551912        [id228579277|@kryandel], [id267228976|@idlalexa... Южные ворота            2\n113068      713935255        Залутал                                            Ходи оборачивайся       2\n118354      285341203        у кого в лабе быстрая сортировка?                  У меня                  2\n138911      410032691        осуждаю                                            Осуждаю осуждение       2\n165614      410924786        всем быть гады                                     Ок                      2\n7464        554777162        Если карта и так сбербанка значит ничего делать... Нет                     2\n12840       532037098        это какое приложение?                              Мой универ              2\n14914       529577677        Так интернет безлимитный?                          Да                      2\n17754       363974375        В день заселения сразу в корпус с вещами ехать?    Да                      2\n21512       352169415        у g корпуса собираемся?                            Да                      2\n93959       352169415        завтра нет суща                                    Да                      2\n146440      536025091        Артемий-биполярка                                  Да                      2\n143081      443123379        давайте убьем друг друга                           Го                      2\n173951      453792061        По чем                                             Бд                      2\n164877      603817821        *прижал тебя к стене*                              АХАХАХХАХА              2\n145693      352169415        :)                                                 :D                      2\n35524       551132500        у кого меньше 75 по инфе сколько степухи пришло?   1200                    2\n54530       369406825        https://bb.dvfu.ru/webapps/assessment/take/laun... .                       2\n124240      285341203        практикум эвм, контрольно-изм материалы, тесты     .                       2\n163605      453792061        @all ситуация с тестированием изменилась: завтр... .                       2\n5009        554777162        Если мне стоит простить Сашу К ставьте +           +                       2\n18034       85283476         кто завтра уже заселяется?                         +                       2\n27811       354517433        Чем дальше заходишь тем меньше информации в отк... +                       2\n45268       443123379        мне просто цвет помады не нравится                 +                       2\n80229       410924786        @all, ребята кому стипуха пришла?                  +                       2\n89926       378808075        Норм степендия 5к                                  +                       2\n101544      536025091        она просто уёбская                                 +                       2\n133145      328395011        Бля какой приятный сервис                          +                       2\n149684      453792061        Мне кажется вечером покомфортнее                   +                       2\n157208      536025091        иванов убил мотивацию заниматься его предметом     +                       2",
      "text/html": "<div>\n<style scoped>\n    .dataframe tbody tr th:only-of-type {\n        vertical-align: middle;\n    }\n\n    .dataframe tbody tr th {\n        vertical-align: top;\n    }\n\n    .dataframe thead th {\n        text-align: right;\n    }\n</style>\n<table border=\"1\" class=\"dataframe\">\n  <thead>\n    <tr style=\"text-align: right;\">\n      <th></th>\n      <th></th>\n      <th></th>\n      <th></th>\n      <th>count</th>\n    </tr>\n    <tr>\n      <th>response_id</th>\n      <th>response_id_user</th>\n      <th>response_text</th>\n      <th>text</th>\n      <th></th>\n    </tr>\n  </thead>\n  <tbody>\n    <tr>\n      <th>137143</th>\n      <th>453792061</th>\n      <th>Ребят кто на 3d?</th>\n      <th>Я</th>\n      <td>7</td>\n    </tr>\n    <tr>\n      <th>124626</th>\n      <th>285341203</th>\n      <th>@all кто завтра будет 2 кр писать по линалу \"+\" в чат</th>\n      <th>+</th>\n      <td>7</td>\n    </tr>\n    <tr>\n      <th>99882</th>\n      <th>453792061</th>\n      <th>@all У кого не стоит балл за коллоквиум №1 в bb</th>\n      <th>+</th>\n      <td>3</td>\n    </tr>\n    <tr>\n      <th>103486</th>\n      <th>352169415</th>\n      <th>как жк круто быть троечником...</th>\n      <th>+</th>\n      <td>3</td>\n    </tr>\n    <tr>\n      <th>148920</th>\n      <th>328395011</th>\n      <th>Ну песок из вагины вытряхни говорю</th>\n      <th>🫨🫨🫨</th>\n      <td>2</td>\n    </tr>\n    <tr>\n      <th>152075</th>\n      <th>603817821</th>\n      <th>Мне было лень ещё две буквы печатать</th>\n      <th>🚫🧠</th>\n      <td>2</td>\n    </tr>\n    <tr>\n      <th>95369</th>\n      <th>354517433</th>\n      <th>Лайкайте если любите маму</th>\n      <th>💙</th>\n      <td>2</td>\n    </tr>\n    <tr>\n      <th>48209</th>\n      <th>228579277</th>\n      <th>Все, кто участвовали в отборочном испс, вы умнички 💜</th>\n      <th>❤❤❤</th>\n      <td>2</td>\n    </tr>\n    <tr>\n      <th>95369</th>\n      <th>354517433</th>\n      <th>Лайкайте если любите маму</th>\n      <th>❤</th>\n      <td>2</td>\n    </tr>\n    <tr>\n      <th>119601</th>\n      <th>392886905</th>\n      <th>http://simpoll.ru/run/survey/74ec8a4e ?\\nможете пройти пожалуйста🥺\\nи написать, если прошли</th>\n      <th>прошел</th>\n      <td>2</td>\n    </tr>\n    <tr>\n      <th>70840</th>\n      <th>394551912</th>\n      <th>просто следуйте плану</th>\n      <th>пиздец</th>\n      <td>2</td>\n    </tr>\n    <tr>\n      <th>62775</th>\n      <th>228579277</th>\n      <th>Я дам тебе  конфету за это</th>\n      <th>ого</th>\n      <td>2</td>\n    </tr>\n    <tr>\n      <th>174548</th>\n      <th>226582250</th>\n      <th>Deadline: 29 ноября 2023</th>\n      <th>о, пасиба</th>\n      <td>2</td>\n    </tr>\n    <tr>\n      <th>43612</th>\n      <th>394551912</th>\n      <th>Чо пора бриться?</th>\n      <th>нет</th>\n      <td>2</td>\n    </tr>\n    <tr>\n      <th>123671</th>\n      <th>443123379</th>\n      <th>а имеет значение порядок умножения</th>\n      <th>нет</th>\n      <td>2</td>\n    </tr>\n    <tr>\n      <th>140507</th>\n      <th>536025091</th>\n      <th>стандартный определённый интеграл тоже можно записать как криволинейный</th>\n      <th>красива</th>\n      <td>2</td>\n    </tr>\n    <tr>\n      <th>150241</th>\n      <th>536025091</th>\n      <th>Сережа, когда сгенеришь новую аву в нейросети</th>\n      <th>когда-нибудь</th>\n      <td>2</td>\n    </tr>\n    <tr>\n      <th>33991</th>\n      <th>85283476</th>\n      <th>вы в Хабаровске все там сверхлюди да</th>\n      <th>да</th>\n      <td>2</td>\n    </tr>\n    <tr>\n      <th>103909</th>\n      <th>394551912</th>\n      <th>Александр кошевой и плександр мерк</th>\n      <th>да</th>\n      <td>2</td>\n    </tr>\n    <tr>\n      <th>123658</th>\n      <th>443123379</th>\n      <th>как скобки типа¿</th>\n      <th>да</th>\n      <td>2</td>\n    </tr>\n    <tr>\n      <th>136764</th>\n      <th>536025091</th>\n      <th>я выбрал UE потомк что:\\n1) она вроде лучше шарить в нём\\n2) юнити хуйню какую-то вытворили, потому у меня к ним плохое отношение</th>\n      <th>да</th>\n      <td>2</td>\n    </tr>\n    <tr>\n      <th>140598</th>\n      <th>410032691</th>\n      <th>Вы демонстративно на другие чаты забили?</th>\n      <th>да</th>\n      <td>2</td>\n    </tr>\n    <tr>\n      <th>147761</th>\n      <th>713935255</th>\n      <th>что?</th>\n      <th>да</th>\n      <td>2</td>\n    </tr>\n    <tr>\n      <th>163839</th>\n      <th>536025091</th>\n      <th>ребят, не держите зла на Олега, это его первый выпуск(</th>\n      <th>второй</th>\n      <td>2</td>\n    </tr>\n    <tr>\n      <th>38737</th>\n      <th>748572841</th>\n      <th>Я хочу выяснить, будет ли у нас первая пара в классе или она будет на тимс</th>\n      <th>в тимс</th>\n      <td>2</td>\n    </tr>\n    <tr>\n      <th>146329</th>\n      <th>410032691</th>\n      <th>все мы знаем у кого альцгеймер</th>\n      <th>альцгеймер заразен</th>\n      <td>2</td>\n    </tr>\n    <tr>\n      <th>89920</th>\n      <th>285341203</th>\n      <th>в 8.2 кто-нибудь живëт?</th>\n      <th>Я</th>\n      <td>2</td>\n    </tr>\n    <tr>\n      <th>19306</th>\n      <th>394551912</th>\n      <th>[id228579277|@kryandel], [id267228976|@idlalexandro] мне чтоб в 9ку попасть с какой остановки надо пердолить</th>\n      <th>Южные ворота</th>\n      <td>2</td>\n    </tr>\n    <tr>\n      <th>113068</th>\n      <th>713935255</th>\n      <th>Залутал</th>\n      <th>Ходи оборачивайся</th>\n      <td>2</td>\n    </tr>\n    <tr>\n      <th>118354</th>\n      <th>285341203</th>\n      <th>у кого в лабе быстрая сортировка?</th>\n      <th>У меня</th>\n      <td>2</td>\n    </tr>\n    <tr>\n      <th>138911</th>\n      <th>410032691</th>\n      <th>осуждаю</th>\n      <th>Осуждаю осуждение</th>\n      <td>2</td>\n    </tr>\n    <tr>\n      <th>165614</th>\n      <th>410924786</th>\n      <th>всем быть гады</th>\n      <th>Ок</th>\n      <td>2</td>\n    </tr>\n    <tr>\n      <th>7464</th>\n      <th>554777162</th>\n      <th>Если карта и так сбербанка значит ничего делать не нужно, можно эту привезать?</th>\n      <th>Нет</th>\n      <td>2</td>\n    </tr>\n    <tr>\n      <th>12840</th>\n      <th>532037098</th>\n      <th>это какое приложение?</th>\n      <th>Мой универ</th>\n      <td>2</td>\n    </tr>\n    <tr>\n      <th>14914</th>\n      <th>529577677</th>\n      <th>Так интернет безлимитный?</th>\n      <th>Да</th>\n      <td>2</td>\n    </tr>\n    <tr>\n      <th>17754</th>\n      <th>363974375</th>\n      <th>В день заселения сразу в корпус с вещами ехать?</th>\n      <th>Да</th>\n      <td>2</td>\n    </tr>\n    <tr>\n      <th>21512</th>\n      <th>352169415</th>\n      <th>у g корпуса собираемся?</th>\n      <th>Да</th>\n      <td>2</td>\n    </tr>\n    <tr>\n      <th>93959</th>\n      <th>352169415</th>\n      <th>завтра нет суща</th>\n      <th>Да</th>\n      <td>2</td>\n    </tr>\n    <tr>\n      <th>146440</th>\n      <th>536025091</th>\n      <th>Артемий-биполярка</th>\n      <th>Да</th>\n      <td>2</td>\n    </tr>\n    <tr>\n      <th>143081</th>\n      <th>443123379</th>\n      <th>давайте убьем друг друга</th>\n      <th>Го</th>\n      <td>2</td>\n    </tr>\n    <tr>\n      <th>173951</th>\n      <th>453792061</th>\n      <th>По чем</th>\n      <th>Бд</th>\n      <td>2</td>\n    </tr>\n    <tr>\n      <th>164877</th>\n      <th>603817821</th>\n      <th>*прижал тебя к стене*</th>\n      <th>АХАХАХХАХА</th>\n      <td>2</td>\n    </tr>\n    <tr>\n      <th>145693</th>\n      <th>352169415</th>\n      <th>:)</th>\n      <th>:D</th>\n      <td>2</td>\n    </tr>\n    <tr>\n      <th>35524</th>\n      <th>551132500</th>\n      <th>у кого меньше 75 по инфе сколько степухи пришло?</th>\n      <th>1200</th>\n      <td>2</td>\n    </tr>\n    <tr>\n      <th>54530</th>\n      <th>369406825</th>\n      <th>https://bb.dvfu.ru/webapps/assessment/take/launchAssessment.jsp?course_id=_2759_1&amp;content_id=_382454_1&amp;mode=view</th>\n      <th>.</th>\n      <td>2</td>\n    </tr>\n    <tr>\n      <th>124240</th>\n      <th>285341203</th>\n      <th>практикум эвм, контрольно-изм материалы, тесты</th>\n      <th>.</th>\n      <td>2</td>\n    </tr>\n    <tr>\n      <th>163605</th>\n      <th>453792061</th>\n      <th>@all ситуация с тестированием изменилась: завтра проходят его только те кто ЕСТЬ в данном списке, а так же имеет пароли. \\nПрилагаю инструкцию. НАЧАЛО В 11:50. На прохождение дается 40 минут, после этого тест закрывается \\n\\nДругие группы идут: в зависимости от ситуации с погодой очно/дистанционно:  \\nБ9122-02.03.01сцт(подгр.2) 14.11 13:30 D938.\\nБ9122-02.03.01сцт(подгр.3) 17.11 10:00 D546а.\\nОзнакомится с общим делением на группы: \\n\\nhttps://docs.google.com/spreadsheets/d/1nO0KhlhBpllbQqvdvgiJSeLoXA_kl9-d3Sviic-PxbU/edit?usp=sharing</th>\n      <th>.</th>\n      <td>2</td>\n    </tr>\n    <tr>\n      <th>5009</th>\n      <th>554777162</th>\n      <th>Если мне стоит простить Сашу К ставьте +</th>\n      <th>+</th>\n      <td>2</td>\n    </tr>\n    <tr>\n      <th>18034</th>\n      <th>85283476</th>\n      <th>кто завтра уже заселяется?</th>\n      <th>+</th>\n      <td>2</td>\n    </tr>\n    <tr>\n      <th>27811</th>\n      <th>354517433</th>\n      <th>Чем дальше заходишь тем меньше информации в открытом доступе</th>\n      <th>+</th>\n      <td>2</td>\n    </tr>\n    <tr>\n      <th>45268</th>\n      <th>443123379</th>\n      <th>мне просто цвет помады не нравится</th>\n      <th>+</th>\n      <td>2</td>\n    </tr>\n    <tr>\n      <th>80229</th>\n      <th>410924786</th>\n      <th>@all, ребята кому стипуха пришла?</th>\n      <th>+</th>\n      <td>2</td>\n    </tr>\n    <tr>\n      <th>89926</th>\n      <th>378808075</th>\n      <th>Норм степендия 5к</th>\n      <th>+</th>\n      <td>2</td>\n    </tr>\n    <tr>\n      <th>101544</th>\n      <th>536025091</th>\n      <th>она просто уёбская</th>\n      <th>+</th>\n      <td>2</td>\n    </tr>\n    <tr>\n      <th>133145</th>\n      <th>328395011</th>\n      <th>Бля какой приятный сервис</th>\n      <th>+</th>\n      <td>2</td>\n    </tr>\n    <tr>\n      <th>149684</th>\n      <th>453792061</th>\n      <th>Мне кажется вечером покомфортнее</th>\n      <th>+</th>\n      <td>2</td>\n    </tr>\n    <tr>\n      <th>157208</th>\n      <th>536025091</th>\n      <th>иванов убил мотивацию заниматься его предметом</th>\n      <th>+</th>\n      <td>2</td>\n    </tr>\n  </tbody>\n</table>\n</div>"
     },
     "execution_count": 260,
     "metadata": {},
     "output_type": "execute_result"
    }
   ],
   "source": [
    "pairs_msg = (chat_df.loc[0:,\n",
    "             ['id', 'id_user', 'text', 'response_id', 'response_id_user', 'response_text']])\n",
    "pairs_msg = pairs_msg[pairs_msg['response_id'] != -1]\n",
    "pairs_msg = ((pairs_msg.groupby(['response_id', 'response_id_user', 'response_text', 'text']).count()[['id']]).rename(\n",
    "    {'id': 'count'}, axis='columns'))\n",
    "\n",
    "# pairs_msg = pairs_msg.merge(users_df, left_on='response_id_user', right_on='id')\n",
    "pairs_msg = (pairs_msg.sort_values(by=['count', 'text'], ascending=[False, False]))\n",
    "\n",
    "pairs_msg = pairs_msg[pairs_msg['count'] > 1]\n",
    "\n",
    "pairs_msg"
   ],
   "metadata": {
    "collapsed": false,
    "ExecuteTime": {
     "end_time": "2024-03-02T01:31:11.688326Z",
     "start_time": "2024-03-02T01:31:11.514812Z"
    }
   },
   "id": "97a431eafa300468",
   "execution_count": 260
  },
  {
   "cell_type": "code",
   "outputs": [
    {
     "data": {
      "text/plain": "               replied_to           replied_by  count\n0       Александр Каменев       Алеусандр Меок    339\n1    Владислав Слободской    Денис Севостьянов    260\n2        Артемий Поповкин      Даниил Плешанов    236\n3          Алеусандр Меок         Яна Шевелёва    219\n4          Александр Ковш      Даниил Плешанов    201\n5          Алиса Матвеева    Денис Севостьянов    118\n6         Даниил Плешанов       Алеусандр Меок     98\n7              Аля Знаток       Сергей Смирнов     91\n8           Артем Громыко  Александра Корчевец     83\n9            Эрсан Егоров     Елизавета Исаева     80\n10      Денис Севостьянов   Александр Пушкарёв     76\n11         Дина Винницкая         Яна Шевелёва     70\n12           Яна Шевелёва    DELETED 657900781     57\n13          Илья Щербаков         Яна Шевелёва     53\n14      DELETED 303277718         Яна Шевелёва     49\n15          Егор Кузнецов  Александра Корчевец     38\n16    Александра Корчевец  Максим Завязочников     35\n17     Александр Пушкарёв  Максим Завязочников     34\n18          Данил Крисько         Яна Шевелёва     27\n19       Елизавета Исаева  Максим Завязочников     23\n20      DELETED 657900781    DELETED 657900781     23\n21           Лёша Шафиков       Александр Ковш     22\n22        Сергей Глущенко    Александр Каменев     21\n23        Максим Карманов       Алеусандр Меок     21\n24        Михаил Иванович         Яна Шевелёва     19\n25    Максим Завязочников    Денис Севостьянов     19\n26          Виталий Луков         Яна Шевелёва     19\n27             Ilya Ghost   Александр Пушкарёв     18\n28         Марк Иванников      Даниил Плешанов     16\n29      Владислав Коняхин      Максим Карманов     15\n30         Сергей Смирнов      Дарья Белоусова     11\n31             Олег Либих    Денис Севостьянов     11\n32     Вячеслав Григорьев  Александра Корчевец     10\n33          Мишель Манько     Елизавета Исаева      9\n34        Алексей Сидоров  Максим Завязочников      7\n35           Лия Удовенко   Александр Пушкарёв      6\n36         Дмитрий Вегера      Даниил Плешанов      6\n37       Ярослав Прилипко    Александр Каменев      5\n38      Настя Протопопова       Сергей Смирнов      4\n39  Анастасия Протопопова       Дина Винницкая      4\n40         Алиса Ильяхова   Александр Пушкарёв      4\n41              Стас Бысь        Данил Крисько      3\n42     Платон Иннокентьев         Яна Шевелёва      3\n43         Никита Токарев    Александр Каменев      3\n44       Настя Большакова       Сергей Смирнов      3\n45            Лёша Олегич    Александр Каменев      3\n46     Вероника Литвинова         Яна Шевелёва      3\n47        Николай Миневич         Яна Шевелёва      2\n48          Евгений Мороз       Алеусандр Меок      2\n49               Денис Эм    Александр Каменев      2\n50       Андрей Корепанов         Яна Шевелёва      2\n51            Polina Ling    Денис Севостьянов      2",
      "text/html": "<div>\n<style scoped>\n    .dataframe tbody tr th:only-of-type {\n        vertical-align: middle;\n    }\n\n    .dataframe tbody tr th {\n        vertical-align: top;\n    }\n\n    .dataframe thead th {\n        text-align: right;\n    }\n</style>\n<table border=\"1\" class=\"dataframe\">\n  <thead>\n    <tr style=\"text-align: right;\">\n      <th></th>\n      <th>replied_to</th>\n      <th>replied_by</th>\n      <th>count</th>\n    </tr>\n  </thead>\n  <tbody>\n    <tr>\n      <th>0</th>\n      <td>Александр Каменев</td>\n      <td>Алеусандр Меок</td>\n      <td>339</td>\n    </tr>\n    <tr>\n      <th>1</th>\n      <td>Владислав Слободской</td>\n      <td>Денис Севостьянов</td>\n      <td>260</td>\n    </tr>\n    <tr>\n      <th>2</th>\n      <td>Артемий Поповкин</td>\n      <td>Даниил Плешанов</td>\n      <td>236</td>\n    </tr>\n    <tr>\n      <th>3</th>\n      <td>Алеусандр Меок</td>\n      <td>Яна Шевелёва</td>\n      <td>219</td>\n    </tr>\n    <tr>\n      <th>4</th>\n      <td>Александр Ковш</td>\n      <td>Даниил Плешанов</td>\n      <td>201</td>\n    </tr>\n    <tr>\n      <th>5</th>\n      <td>Алиса Матвеева</td>\n      <td>Денис Севостьянов</td>\n      <td>118</td>\n    </tr>\n    <tr>\n      <th>6</th>\n      <td>Даниил Плешанов</td>\n      <td>Алеусандр Меок</td>\n      <td>98</td>\n    </tr>\n    <tr>\n      <th>7</th>\n      <td>Аля Знаток</td>\n      <td>Сергей Смирнов</td>\n      <td>91</td>\n    </tr>\n    <tr>\n      <th>8</th>\n      <td>Артем Громыко</td>\n      <td>Александра Корчевец</td>\n      <td>83</td>\n    </tr>\n    <tr>\n      <th>9</th>\n      <td>Эрсан Егоров</td>\n      <td>Елизавета Исаева</td>\n      <td>80</td>\n    </tr>\n    <tr>\n      <th>10</th>\n      <td>Денис Севостьянов</td>\n      <td>Александр Пушкарёв</td>\n      <td>76</td>\n    </tr>\n    <tr>\n      <th>11</th>\n      <td>Дина Винницкая</td>\n      <td>Яна Шевелёва</td>\n      <td>70</td>\n    </tr>\n    <tr>\n      <th>12</th>\n      <td>Яна Шевелёва</td>\n      <td>DELETED 657900781</td>\n      <td>57</td>\n    </tr>\n    <tr>\n      <th>13</th>\n      <td>Илья Щербаков</td>\n      <td>Яна Шевелёва</td>\n      <td>53</td>\n    </tr>\n    <tr>\n      <th>14</th>\n      <td>DELETED 303277718</td>\n      <td>Яна Шевелёва</td>\n      <td>49</td>\n    </tr>\n    <tr>\n      <th>15</th>\n      <td>Егор Кузнецов</td>\n      <td>Александра Корчевец</td>\n      <td>38</td>\n    </tr>\n    <tr>\n      <th>16</th>\n      <td>Александра Корчевец</td>\n      <td>Максим Завязочников</td>\n      <td>35</td>\n    </tr>\n    <tr>\n      <th>17</th>\n      <td>Александр Пушкарёв</td>\n      <td>Максим Завязочников</td>\n      <td>34</td>\n    </tr>\n    <tr>\n      <th>18</th>\n      <td>Данил Крисько</td>\n      <td>Яна Шевелёва</td>\n      <td>27</td>\n    </tr>\n    <tr>\n      <th>19</th>\n      <td>Елизавета Исаева</td>\n      <td>Максим Завязочников</td>\n      <td>23</td>\n    </tr>\n    <tr>\n      <th>20</th>\n      <td>DELETED 657900781</td>\n      <td>DELETED 657900781</td>\n      <td>23</td>\n    </tr>\n    <tr>\n      <th>21</th>\n      <td>Лёша Шафиков</td>\n      <td>Александр Ковш</td>\n      <td>22</td>\n    </tr>\n    <tr>\n      <th>22</th>\n      <td>Сергей Глущенко</td>\n      <td>Александр Каменев</td>\n      <td>21</td>\n    </tr>\n    <tr>\n      <th>23</th>\n      <td>Максим Карманов</td>\n      <td>Алеусандр Меок</td>\n      <td>21</td>\n    </tr>\n    <tr>\n      <th>24</th>\n      <td>Михаил Иванович</td>\n      <td>Яна Шевелёва</td>\n      <td>19</td>\n    </tr>\n    <tr>\n      <th>25</th>\n      <td>Максим Завязочников</td>\n      <td>Денис Севостьянов</td>\n      <td>19</td>\n    </tr>\n    <tr>\n      <th>26</th>\n      <td>Виталий Луков</td>\n      <td>Яна Шевелёва</td>\n      <td>19</td>\n    </tr>\n    <tr>\n      <th>27</th>\n      <td>Ilya Ghost</td>\n      <td>Александр Пушкарёв</td>\n      <td>18</td>\n    </tr>\n    <tr>\n      <th>28</th>\n      <td>Марк Иванников</td>\n      <td>Даниил Плешанов</td>\n      <td>16</td>\n    </tr>\n    <tr>\n      <th>29</th>\n      <td>Владислав Коняхин</td>\n      <td>Максим Карманов</td>\n      <td>15</td>\n    </tr>\n    <tr>\n      <th>30</th>\n      <td>Сергей Смирнов</td>\n      <td>Дарья Белоусова</td>\n      <td>11</td>\n    </tr>\n    <tr>\n      <th>31</th>\n      <td>Олег Либих</td>\n      <td>Денис Севостьянов</td>\n      <td>11</td>\n    </tr>\n    <tr>\n      <th>32</th>\n      <td>Вячеслав Григорьев</td>\n      <td>Александра Корчевец</td>\n      <td>10</td>\n    </tr>\n    <tr>\n      <th>33</th>\n      <td>Мишель Манько</td>\n      <td>Елизавета Исаева</td>\n      <td>9</td>\n    </tr>\n    <tr>\n      <th>34</th>\n      <td>Алексей Сидоров</td>\n      <td>Максим Завязочников</td>\n      <td>7</td>\n    </tr>\n    <tr>\n      <th>35</th>\n      <td>Лия Удовенко</td>\n      <td>Александр Пушкарёв</td>\n      <td>6</td>\n    </tr>\n    <tr>\n      <th>36</th>\n      <td>Дмитрий Вегера</td>\n      <td>Даниил Плешанов</td>\n      <td>6</td>\n    </tr>\n    <tr>\n      <th>37</th>\n      <td>Ярослав Прилипко</td>\n      <td>Александр Каменев</td>\n      <td>5</td>\n    </tr>\n    <tr>\n      <th>38</th>\n      <td>Настя Протопопова</td>\n      <td>Сергей Смирнов</td>\n      <td>4</td>\n    </tr>\n    <tr>\n      <th>39</th>\n      <td>Анастасия Протопопова</td>\n      <td>Дина Винницкая</td>\n      <td>4</td>\n    </tr>\n    <tr>\n      <th>40</th>\n      <td>Алиса Ильяхова</td>\n      <td>Александр Пушкарёв</td>\n      <td>4</td>\n    </tr>\n    <tr>\n      <th>41</th>\n      <td>Стас Бысь</td>\n      <td>Данил Крисько</td>\n      <td>3</td>\n    </tr>\n    <tr>\n      <th>42</th>\n      <td>Платон Иннокентьев</td>\n      <td>Яна Шевелёва</td>\n      <td>3</td>\n    </tr>\n    <tr>\n      <th>43</th>\n      <td>Никита Токарев</td>\n      <td>Александр Каменев</td>\n      <td>3</td>\n    </tr>\n    <tr>\n      <th>44</th>\n      <td>Настя Большакова</td>\n      <td>Сергей Смирнов</td>\n      <td>3</td>\n    </tr>\n    <tr>\n      <th>45</th>\n      <td>Лёша Олегич</td>\n      <td>Александр Каменев</td>\n      <td>3</td>\n    </tr>\n    <tr>\n      <th>46</th>\n      <td>Вероника Литвинова</td>\n      <td>Яна Шевелёва</td>\n      <td>3</td>\n    </tr>\n    <tr>\n      <th>47</th>\n      <td>Николай Миневич</td>\n      <td>Яна Шевелёва</td>\n      <td>2</td>\n    </tr>\n    <tr>\n      <th>48</th>\n      <td>Евгений Мороз</td>\n      <td>Алеусандр Меок</td>\n      <td>2</td>\n    </tr>\n    <tr>\n      <th>49</th>\n      <td>Денис Эм</td>\n      <td>Александр Каменев</td>\n      <td>2</td>\n    </tr>\n    <tr>\n      <th>50</th>\n      <td>Андрей Корепанов</td>\n      <td>Яна Шевелёва</td>\n      <td>2</td>\n    </tr>\n    <tr>\n      <th>51</th>\n      <td>Polina Ling</td>\n      <td>Денис Севостьянов</td>\n      <td>2</td>\n    </tr>\n  </tbody>\n</table>\n</div>"
     },
     "execution_count": 255,
     "metadata": {},
     "output_type": "execute_result"
    }
   ],
   "source": [
    "most_replied_msg = chat_df.loc[0:, ['id_user', 'response_id', 'response_id_user']]\n",
    "most_replied_msg = most_replied_msg[most_replied_msg['response_id'] != -1]\n",
    "\n",
    "most_replied_msg['count'] = most_replied_msg.groupby(['response_id_user', 'id_user'])[['response_id_user']].transform('count')\n",
    "most_replied_msg = most_replied_msg.groupby(['response_id_user']).head(1)\n",
    "most_replied_msg = most_replied_msg[most_replied_msg['count'] > 1]\n",
    "\n",
    "most_replied_msg = most_replied_msg.merge(users_df, left_on='response_id_user', right_on='id')\n",
    "most_replied_msg = most_replied_msg.merge(users_df, left_on='id_user', right_on='id')\n",
    "\n",
    "most_replied_msg = most_replied_msg.rename({'username_x': \"replied_to\", 'username_y': \"replied_by\"}, axis='columns')\n",
    "most_replied_msg = most_replied_msg[['replied_to', 'replied_by', 'count']]\n",
    "most_replied_msg = most_replied_msg.sort_values(by=['count', 'replied_to', 'replied_by'], ascending=[False, False, False]).reset_index(drop=True)\n",
    "\n",
    "most_replied_msg\n"
   ],
   "metadata": {
    "collapsed": false,
    "ExecuteTime": {
     "end_time": "2024-03-02T01:28:38.814264Z",
     "start_time": "2024-03-02T01:28:38.781629Z"
    }
   },
   "id": "5773da12132b4d87",
   "execution_count": 255
  },
  {
   "cell_type": "code",
   "outputs": [],
   "source": [],
   "metadata": {
    "collapsed": false,
    "ExecuteTime": {
     "end_time": "2024-03-02T00:37:25.882892Z",
     "start_time": "2024-03-02T00:37:25.876369Z"
    }
   },
   "id": "8c231922d3c8cd75",
   "execution_count": 180
  },
  {
   "cell_type": "code",
   "outputs": [],
   "source": [],
   "metadata": {
    "collapsed": false
   },
   "id": "a3f1c5afb7a3b4a1"
  }
 ],
 "metadata": {
  "kernelspec": {
   "display_name": "Python 3",
   "language": "python",
   "name": "python3"
  },
  "language_info": {
   "codemirror_mode": {
    "name": "ipython",
    "version": 2
   },
   "file_extension": ".py",
   "mimetype": "text/x-python",
   "name": "python",
   "nbconvert_exporter": "python",
   "pygments_lexer": "ipython2",
   "version": "2.7.6"
  }
 },
 "nbformat": 4,
 "nbformat_minor": 5
}
