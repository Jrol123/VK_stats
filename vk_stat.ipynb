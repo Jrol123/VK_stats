{
 "cells": [
  {
   "cell_type": "markdown",
   "id": "41f36efef10fa7fa",
   "metadata": {
    "collapsed": false
   },
   "source": [
    "# Подготовительный этап"
   ]
  },
  {
   "cell_type": "markdown",
   "id": "23cb80cec045b708",
   "metadata": {
    "collapsed": false
   },
   "source": [
    "## Получение чата"
   ]
  },
  {
   "cell_type": "markdown",
   "id": "f7b172afe522750",
   "metadata": {
    "collapsed": false
   },
   "source": [
    "### Подготовительный этап\n",
    "\n",
    "#### Цели:\n",
    "1. Получить ***vk token***\n",
    "2. Получить ***id чата***, состоящий из двух цифр\n",
    "3. Определиться, должна ли будет проводиться загрузка фото и стикеров\n",
    "\n",
    "#### Решение:\n",
    "1. Гугл в помощь + ***.env*** для хранения\n",
    "2. Адресная строка в помощь\n",
    "3. Введена дополнительная переменная для определения того, следует ли пытаться загрузить изображения и стикеры, или нет"
   ]
  },
  {
   "cell_type": "code",
   "execution_count": null,
   "id": "e4b2ceff358d476b",
   "metadata": {
    "ExecuteTime": {
     "end_time": "2024-05-17T01:53:30.187002Z",
     "start_time": "2024-05-17T01:53:11.490793Z"
    }
   },
   "outputs": [],
   "source": [
    "import vk_api\n",
    "import requests as rq\n",
    "import pandas as pd\n",
    "from math import ceil\n",
    "from datetime import datetime\n",
    "\n",
    "from dotenv import dotenv_values\n",
    "\n",
    "secrets = dotenv_values(\".env\")\n",
    "\"\"\"Секреты\"\"\"\n",
    "\n",
    "vk = vk_api.VkApi(\n",
    "    token=secrets['VK_TOKEN'])\n",
    "\"\"\"Модуль ВК\"\"\"\n",
    "\n",
    "id_chat = int(secrets['CHAT_ID'])\n",
    "\"\"\"id чата\"\"\"\n",
    "\n",
    "SHOULD_DOWNLOAD_PHOTO = False\n",
    "\"\"\"Должна ли проводиться загрузка фото\"\"\"\n",
    "SHOULD_DOWNLOAD_STICKER = False\n",
    "\"\"\"Должна ли проводиться загрузка стикеров\"\"\"\n"
   ]
  },
  {
   "cell_type": "markdown",
   "id": "6aa48d8f5fc5156c",
   "metadata": {
    "collapsed": false
   },
   "source": [
    "### Определение функций\n",
    "\n",
    "Необходимо определиться с тем, как будет получаться необходимая информация с vk.\n",
    "Поскольку используется ***vk_api***, то можно использовать официальную документацию по работе с api.\n",
    "\n",
    "**get_chat** — работает с ***vk.method***, поэтому все параметры приходится прописывать в роли dictionary.\n",
    "**download_&** — работает с помощью ***urllib3***. Получается изображение с сайта, затем оно сохраняется и готово.\n",
    "\n",
    "Дополнительную информацию можно прочесть в документации в коде."
   ]
  },
  {
   "cell_type": "code",
   "execution_count": null,
   "id": "713deab9cba6f905",
   "metadata": {
    "ExecuteTime": {
     "end_time": "2024-03-01T21:43:04.507492Z",
     "start_time": "2024-03-01T21:43:04.492463Z"
    }
   },
   "outputs": [],
   "source": [
    "def download_image(url: str) -> None:\n",
    "    \"\"\"\n",
    "\n",
    "    Функция загрузки изображения\n",
    "\n",
    "    :param url: URL адрес картинки\n",
    "    :type url: str\n",
    "\n",
    "    :return: Сохраняет картинку в папку\n",
    "        Каждая картинка появляется лишь 1 раз\n",
    "    :rtype: None\n",
    "\n",
    "    \"\"\"\n",
    "    file_name = (url.split(\"/\")[-1]).split(\"?\")[0]\n",
    "    \"\"\"Имя картинки\"\"\"\n",
    "\n",
    "    result_image = rq.get(url)\n",
    "    \"\"\"Полученное изображение\"\"\"\n",
    "    with open(f'content/visual/images/{file_name}', 'wb') as image:\n",
    "        image.write(result_image.content)\n",
    "\n",
    "\n",
    "def download_sticker(id_sticker: int) -> None:\n",
    "    \"\"\"\n",
    "\n",
    "    Функция загрузки стикера\n",
    "\n",
    "    :param id_sticker: Номер стикера\n",
    "    :type id_sticker: int\n",
    "\n",
    "    :return: Сохраняет стикер в папку\n",
    "        Каждый стикер появляется лишь 1 раз\n",
    "        Стикеры сохраняются в формате .png в разрешении 512x512\n",
    "    :rtype: None\n",
    "\n",
    "    \"\"\"\n",
    "    result_sticker = rq.get(f\"https://vk.com/sticker/1-{id_sticker}-512b\")\n",
    "    \"\"\"Полученный стикер\"\"\"\n",
    "    with open(f'content/visual/stickers/{id_sticker}.png', 'wb') as f:\n",
    "        f.write(result_sticker.content)\n",
    "\n",
    "\n",
    "def get_chat(peer_id: int = id_chat, count: int = 200, offset: int = 0) -> dict:\n",
    "    \"\"\"\n",
    "\n",
    "    Позволяет получить сообщения из чата.\n",
    "\n",
    "    :param peer_id: id чата.\n",
    "        Работает через peer\n",
    "    :type peer_id: int\n",
    "    :param count: Количество получаемых сообщений <= 200\n",
    "    :type count: int\n",
    "    :param offset: Сдвиг от начального сообщения\n",
    "    :type offset: int\n",
    "\n",
    "    :return: Словарь с сообщениями и их параметрами\n",
    "    :rtype: dict\n",
    "\n",
    "    \"\"\"\n",
    "    # Требуется добавлять 2e9 по документации vk api\n",
    "    peer_id += 2e9\n",
    "\n",
    "    return vk.method('messages.getHistory',\n",
    "                     {'peer_id': peer_id,\n",
    "                      'count': count,\n",
    "                      'offset': offset,\n",
    "                      'rev': 1,\n",
    "                      'extended': True}\n",
    "                     )\n"
   ]
  },
  {
   "cell_type": "markdown",
   "id": "e7c838f9fbfc8694",
   "metadata": {
    "collapsed": false
   },
   "source": [
    "### Получение чата\n",
    "\n",
    "Теперь необходимо получить сам чат.\n",
    "\n",
    "Делается это в два этапа:\n",
    "\n",
    "#### Этап 1:\n",
    "##### Получение длины чата.\n",
    "\n",
    "Берётся одно сообщение из чата.\n",
    "В каждый ***response*** закладывается количество сообщений в чате.\n",
    "С его помощью можно завести цикл по количеству сообщений.\n",
    "\n",
    "#### Этап 2:\n",
    "##### Сам цикл.\n",
    "\n",
    "За раз я могу получить лишь 200 сообщений из чата.\n",
    "***delta*** делает отступ от первого сообщения в чате, а также является счётчиком того, сколько сообщений было прочитано.\n",
    "\n",
    "#### Этап 3:\n",
    "##### Получение пользователей.\n",
    "\n",
    "Каждый раз при запуске нового большого цикла производится добавление пользователей, что так или иначе были задействованы в этих сообщениях (пересланные сообщения и реакции тоже считаются), добавляются в **users_mass**, содержащий **id** пользователей и их **Имя** и **Фамилию**.\n",
    "\n",
    "Пользователи с удалённым профилем тоже обрабатываются. В качестве **Имени** ***vk*** даёт им *DELETED*, а в качестве **Фамилии** берётся их **id**.\n",
    "\n",
    "#### Этап 4:\n",
    "##### Разбор сообщений.\n",
    "\n",
    "Сообщения имеют следующие характеристики:\n",
    "1. **id самого сообщения**. id считается относительно всех сообщений в чате\n",
    "2. **id пользователя**\n",
    "3. **Является ли действием** *(добавление/исключение пользователей)*\n",
    "4. **Пересылается ли сообщение в сообщении**\n",
    "5. **Текст сообщения**\n",
    "6. **Приложенный файл**\n",
    "7. **Реакции на сообщение**\n",
    "8. **Информация о сообщении, на которое даётся ответ**. Необходимо брать эту информацию, поскольку может быть ситуация, когда сообщение, на которое был дан ответ, было позже удалено.\n",
    "\n",
    "Более подробно о том, как разбираются сообщения будет лучше посмотреть в коде, но если вкратце — берётся разнообразная информация из оригинального сообщения (**message_data**) и добавляется в финальное сообщение (**message**), которое затем добавляется в **msg_mass**.\n",
    "\n",
    "Удалённые сообщения. Но вместо их **id** берётся константа *404404* и приписывается текущее количество удалённых сообщений.\n"
   ]
  },
  {
   "cell_type": "code",
   "execution_count": null,
   "id": "ebe3d3ba3a1c4624",
   "metadata": {
    "ExecuteTime": {
     "end_time": "2024-03-01T13:19:06.911715Z",
     "start_time": "2024-03-01T13:05:50.883663Z"
    }
   },
   "outputs": [],
   "source": [
    "length_chat = get_chat(count=1)['count']\n",
    "\"\"\"Количество сообщений в чате\"\"\"\n",
    "\n",
    "msg_mass = []\n",
    "\"\"\"Массив сообщений\"\"\"\n",
    "\n",
    "users_mass = {}\n",
    "\"\"\"Список пользователей\"\"\"\n",
    "\n",
    "count_dead_msg = 0\n",
    "\"\"\"Количество удалённых сообщений, на которые был дан ответ\"\"\"\n",
    "\n",
    "start_time = datetime.now()\n",
    "\"\"\"Время начала получения статистики\"\"\"\n",
    "for times_add in range(int(ceil(length_chat / 200))):\n",
    "\n",
    "    delta = 200 * times_add\n",
    "    \"\"\"Отступ от первого сообщения\"\"\"\n",
    "    messages = get_chat(count=min(200, length_chat - delta), offset=delta)\n",
    "    \"\"\"count сообщений после delta\"\"\"\n",
    "\n",
    "    for profile in messages['profiles']:\n",
    "        if users_mass.get(profile['id']):\n",
    "            continue\n",
    "        users_mass[profile['id']] = profile['first_name'] + \" \"\n",
    "        if profile['last_name'] == '':\n",
    "            users_mass[profile['id']] += str(profile['id'])\n",
    "        else:\n",
    "            users_mass[profile['id']] += profile['last_name']\n",
    "\n",
    "    for message_data in messages['items']:\n",
    "        isForwarding = True if message_data.get(\"fwd_messages\") else False\n",
    "        \"\"\"Пересылается ли сообщение\"\"\"\n",
    "\n",
    "        isAction = True if message_data.get('action') else False\n",
    "        \"\"\"Является ли сообщение действием\"\"\"\n",
    "\n",
    "        attachments_type = \"None\"\n",
    "        \"\"\"Тип прикреплённого сообщения\"\"\"\n",
    "        attachments = []\n",
    "        \"\"\"Прикреплённые доп. материалы\"\"\"\n",
    "        if message_data.get('attachments'):\n",
    "\n",
    "            for attachment in message_data['attachments']:\n",
    "                if attachment['type'] == 'photo':\n",
    "                    attachments_type = 'photo'\n",
    "                    attachments.append(\n",
    "                        (((attachment['photo']['sizes'][-1]['url']).split(\"/\")[-1]).split(\"?\"))[0]\n",
    "                    )\n",
    "                elif attachment['type'] == 'sticker':\n",
    "                    attachments_type = 'sticker'\n",
    "                    attachments.append(str(attachment['sticker']['sticker_id']) + \".png\")\n",
    "\n",
    "        reactions = [0] * (16 + 1)\n",
    "        \"\"\"Реакции\"\"\"\n",
    "        if message_data.get('reactions'):\n",
    "            # Почему-то не всегда показывает тех, кто ставил реакции\n",
    "            # #1\n",
    "            for reaction in message_data['reactions']:\n",
    "                reactions[0] += reaction['count']\n",
    "                user_list = [reaction['count']]\n",
    "                for user in reaction['user_ids']:\n",
    "                    user_list.append(user)\n",
    "                reactions[reaction['reaction_id']] = user_list\n",
    "\n",
    "        response = {'id': -1,\n",
    "                    'date': -1,\n",
    "                    'user_id': -1,\n",
    "                    'text': \"None\",\n",
    "                    'attachments': {'type': \"None\",\n",
    "                                    'value': []\n",
    "                                    # Содержит в себе название файла\n",
    "                                    }\n",
    "                    }\n",
    "        \"\"\"Ответ на сообщение\"\"\"\n",
    "        if message_data.get('reply_message'):\n",
    "            reply = message_data['reply_message']\n",
    "            if reply.get('conversation_message_id'):\n",
    "                response['id'] = reply['conversation_message_id']\n",
    "            if not reply.get('conversation_message_id') or response['id'] is None:\n",
    "                response['id'] = int(f'404404{count_dead_msg}')\n",
    "                count_dead_msg += 1\n",
    "            response['date'] = reply['date']\n",
    "            response['user_id'] = reply['from_id']\n",
    "            response['text'] = reply['text']\n",
    "\n",
    "            for attachment in reply['attachments']:\n",
    "                if attachment['type'] == 'photo':\n",
    "                    response['attachments']['type'] = 'photo'\n",
    "                    response['attachments']['value'].append(\n",
    "                        (((attachment['photo']['sizes'][-1]['url']).split(\"/\")[-1]).split(\"?\"))[0]\n",
    "                    )\n",
    "                elif attachment['type'] == 'sticker':\n",
    "                    response['attachments']['type'] = 'sticker'\n",
    "                    response['attachments']['value'].append(str(attachment['sticker']['sticker_id']) + \".png\")\n",
    "\n",
    "        message = {'id': message_data['conversation_message_id'],\n",
    "                   'date': message_data['date'],\n",
    "                   'isAction': isAction,\n",
    "                   'isForwarding': isForwarding,\n",
    "                   'id_user': message_data['from_id'],\n",
    "                   'text': message_data['text'],\n",
    "                   'attachments_type': attachments_type,\n",
    "                   'attachments': attachments,\n",
    "                   'reactions': reactions,\n",
    "                   'response_id': response['id'],\n",
    "                   'response_date': response['date'],\n",
    "                   'response_id_user': response['user_id'],\n",
    "                   'response_text': response['text'],\n",
    "                   'response_attachments_type': response['attachments']['type'],\n",
    "                   'response_attachments': response['attachments']['value']\n",
    "                   }\n",
    "        \"\"\"Сообщение\"\"\"\n",
    "\n",
    "        msg_mass.append(message)\n",
    "\n",
    "        # Загрузка доп данных\n",
    "        if any((SHOULD_DOWNLOAD_PHOTO, SHOULD_DOWNLOAD_STICKER)) and message_data.get('attachments'):\n",
    "            for attachment in message_data['attachments']:\n",
    "                if attachment['type'] == 'photo' and SHOULD_DOWNLOAD_PHOTO:\n",
    "                    download_image(attachment['photo']['sizes'][-1]['url'])\n",
    "                elif attachment['type'] == 'sticker' and SHOULD_DOWNLOAD_STICKER:\n",
    "                    download_sticker(attachment['sticker']['sticker_id'])\n",
    "\n",
    "end_time = datetime.now()\n",
    "\"\"\"Время завершения программы получения статистики\"\"\"\n",
    "print(end_time - start_time)\n",
    "\n",
    "users_df = pd.DataFrame(users_mass.items(), columns=['id', 'username'])\n",
    "chat_df = pd.DataFrame(msg_mass)\n",
    "\n",
    "users_df"
   ]
  },
  {
   "cell_type": "code",
   "execution_count": null,
   "id": "21a0be51692d44d2",
   "metadata": {
    "ExecuteTime": {
     "end_time": "2024-03-01T13:19:06.942922Z",
     "start_time": "2024-03-01T13:19:06.912855Z"
    }
   },
   "outputs": [],
   "source": [
    "chat_df"
   ]
  },
  {
   "cell_type": "markdown",
   "id": "748cd799183a7ce3",
   "metadata": {
    "collapsed": false
   },
   "source": [
    "Проверка на правильность вводимых типов данных.\n",
    "\n",
    "Некоторые из них помечены как *object*. Это *str*, *dict*, *list* и им подобные структуры данных."
   ]
  },
  {
   "cell_type": "code",
   "execution_count": null,
   "id": "792ca86fc3a3c4f6",
   "metadata": {
    "ExecuteTime": {
     "end_time": "2024-03-01T13:19:06.958554Z",
     "start_time": "2024-03-01T13:19:06.943970Z"
    }
   },
   "outputs": [],
   "source": [
    "chat_df.dtypes.sort_values()"
   ]
  },
  {
   "cell_type": "markdown",
   "id": "3f644b6b7b0d1118",
   "metadata": {
    "collapsed": false
   },
   "source": [
    "## Сохранение\n",
    "Сохраним данные, чтобы, при получении статистики в несколько этапов, не приходилось каждый раз её генерировать."
   ]
  },
  {
   "cell_type": "code",
   "execution_count": null,
   "id": "23ecd93120e54491",
   "metadata": {
    "ExecuteTime": {
     "end_time": "2024-03-01T21:43:52.594249Z",
     "start_time": "2024-03-01T21:43:52.179138Z"
    }
   },
   "outputs": [],
   "source": [
    "chat_df.to_csv(\"content/History.csv\")\n",
    "users_df.to_csv(\"content/Users.csv\")"
   ]
  },
  {
   "cell_type": "markdown",
   "id": "17a6206b",
   "metadata": {},
   "source": [
    "# Статистика"
   ]
  },
  {
   "cell_type": "markdown",
   "id": "7cc5b6be0295ea79",
   "metadata": {
    "collapsed": false
   },
   "source": [
    "## Загрузка\n",
    "Процесс, обратный сохранению."
   ]
  },
  {
   "cell_type": "code",
   "execution_count": null,
   "id": "deddb2f5",
   "metadata": {},
   "outputs": [],
   "source": [
    "import pandas as pd\n",
    "import numpy as np"
   ]
  },
  {
   "cell_type": "code",
   "execution_count": null,
   "id": "7044758dfdd16e65",
   "metadata": {
    "ExecuteTime": {
     "end_time": "2024-05-17T01:53:45.930753Z",
     "start_time": "2024-05-17T01:53:45.074612Z"
    }
   },
   "outputs": [],
   "source": [
    "chat_df = pd.read_csv(\"content/History.csv\", index_col=\"Unnamed: 0\")\n",
    "users_df = pd.read_csv(\"content/Users.csv\", index_col=\"Unnamed: 0\")"
   ]
  },
  {
   "cell_type": "code",
   "execution_count": null,
   "id": "763a58d6",
   "metadata": {},
   "outputs": [],
   "source": [
    "to_transform_columns = ['attachments', 'reactions', 'response_attachments']\n",
    "\"\"\"Колонки, которые необходимо привести к нормальному виду\"\"\"\n",
    "for column in to_transform_columns:\n",
    "    chat_df[column] = chat_df[column].apply(lambda x: eval(x))"
   ]
  },
  {
   "cell_type": "code",
   "execution_count": null,
   "id": "f0acb5ecf9d41187",
   "metadata": {
    "ExecuteTime": {
     "end_time": "2024-05-17T01:53:47.339203Z",
     "start_time": "2024-05-17T01:53:47.291677Z"
    }
   },
   "outputs": [],
   "source": [
    "chat_df"
   ]
  },
  {
   "cell_type": "code",
   "execution_count": null,
   "id": "79ab7e202b563658",
   "metadata": {
    "ExecuteTime": {
     "end_time": "2024-05-17T01:56:36.038908Z",
     "start_time": "2024-05-17T01:56:36.023911Z"
    }
   },
   "outputs": [],
   "source": [
    "users_df"
   ]
  },
  {
   "cell_type": "markdown",
   "id": "61a0716ae48bf756",
   "metadata": {
    "collapsed": false
   },
   "source": [
    "## Статистика"
   ]
  },
  {
   "cell_type": "code",
   "execution_count": null,
   "id": "6e5333c7",
   "metadata": {},
   "outputs": [],
   "source": [
    "import matplotlib.pyplot as plt\n",
    "import pytz\n",
    "from datetime import datetime\n",
    "import matplotlib.image as mpimg"
   ]
  },
  {
   "cell_type": "markdown",
   "id": "923c0abe3e8495c7",
   "metadata": {
    "collapsed": false
   },
   "source": [
    "Введём дополнительную функцию, позволяющую перевести время из *UTC* в *YYYY-MM-DD HH:MM:SS*"
   ]
  },
  {
   "cell_type": "code",
   "execution_count": null,
   "id": "b33b5e4532d352ff",
   "metadata": {
    "ExecuteTime": {
     "end_time": "2024-05-17T02:22:11.583017Z",
     "start_time": "2024-05-17T02:22:11.568385Z"
    }
   },
   "outputs": [],
   "source": [
    "def get_date(utc_date: int, ymd: bool = True, h: bool = True) -> str:\n",
    "    \"\"\"\n",
    "\n",
    "    Перевод даты из UTC формата в нормальный формат\n",
    "\n",
    "    :param h: Должны ли быть выведены Часы?\n",
    "    :type h: bool\n",
    "    :param ymd: Должны ли быть выведены Год Месяц День?\n",
    "    :type ymd: bool\n",
    "    :param utc_date: Дата в формате utc\n",
    "    :type utc_date: int\n",
    "    \n",
    "    :exception: Можно или запросить всё целиком, или только год-месяц-день, или только часы.\n",
    "        Нельзя запросить ничего!\n",
    "\n",
    "    :return: Дата в формате YYYY-MM-DD HH:MM:SS\n",
    "    :rtype: str\n",
    "\n",
    "    \"\"\"\n",
    "    timezone = pytz.timezone(\"Asia/Vladivostok\")\n",
    "    \"\"\"Ваша временная зона\"\"\"\n",
    "    date = datetime.fromtimestamp(utc_date, tz=timezone)\n",
    "    \"\"\"Дата без форматирования\"\"\"\n",
    "    if ymd and h:\n",
    "        return date.strftime('%Y-%m-%d %H:%M:%S')\n",
    "    elif ymd:\n",
    "        return date.strftime('%Y-%m-%d')\n",
    "    elif h:\n",
    "        return date.strftime('%H')\n",
    "    else:\n",
    "        raise Exception(\"Неправильный запрос!\")"
   ]
  },
  {
   "cell_type": "markdown",
   "id": "dea61cc2c23df3f5",
   "metadata": {
    "collapsed": false
   },
   "source": [
    "\n",
    "### Получение информации из самих сообщений"
   ]
  },
  {
   "cell_type": "markdown",
   "id": "f4cb64451b92cc13",
   "metadata": {
    "collapsed": false
   },
   "source": [
    "#### Количество сообщений"
   ]
  },
  {
   "cell_type": "code",
   "execution_count": null,
   "id": "ea3bad602651f811",
   "metadata": {
    "ExecuteTime": {
     "end_time": "2024-05-17T02:22:20.110566Z",
     "start_time": "2024-05-17T02:22:19.867486Z"
    }
   },
   "outputs": [],
   "source": [
    "messages_count = (chat_df.groupby(['id_user'])[['id']].count().merge(users_df, left_on='id_user', right_on='id')[\n",
    "                      ['username', 'id_x']].rename({'id_x': 'count'}, axis='columns')\n",
    "                  .sort_values(by='count', ascending=False).reset_index(drop=True))\n",
    "\n",
    "messages_count.head(26)"
   ]
  },
  {
   "cell_type": "code",
   "execution_count": null,
   "id": "44b77a60c8fb0560",
   "metadata": {
    "ExecuteTime": {
     "end_time": "2024-05-17T02:22:31.692192Z",
     "start_time": "2024-05-17T02:22:25.540270Z"
    }
   },
   "outputs": [],
   "source": [
    "date_df = chat_df['date'].map(lambda x: get_date(x, h=False))\n",
    "date_df = date_df.groupby(date_df).count().rename('count')\n",
    "\n",
    "date_df"
   ]
  },
  {
   "cell_type": "code",
   "execution_count": null,
   "id": "6736563c0fd1dd6b",
   "metadata": {
    "ExecuteTime": {
     "end_time": "2024-03-01T22:38:02.293592Z",
     "start_time": "2024-03-01T22:37:59.300128Z"
    }
   },
   "outputs": [],
   "source": [
    "date_time_df = chat_df['date'].map(lambda x: get_date(x, ymd=False))\n",
    "date_time_df = date_time_df.groupby(date_time_df).count().rename('count')\n",
    "\n",
    "date_time_df"
   ]
  },
  {
   "cell_type": "code",
   "execution_count": null,
   "id": "97a431eafa300468",
   "metadata": {
    "ExecuteTime": {
     "end_time": "2024-03-02T02:06:59.991592Z",
     "start_time": "2024-03-02T02:06:59.869213Z"
    }
   },
   "outputs": [],
   "source": [
    "pairs_msg = (chat_df.loc[0:,\n",
    "             ['id', 'id_user', 'text', 'response_id', 'response_id_user', 'response_text', 'response_attachments_type',\n",
    "              'response_attachments']])\n",
    "pairs_msg = pairs_msg[pairs_msg['response_id'] != -1]\n",
    "pairs_msg['count'] = pairs_msg.groupby(['response_id', 'text'])['response_id'].transform('count')\n",
    "pairs_msg = pairs_msg.groupby(['response_id']).head(1)\n",
    "\n",
    "pairs_msg = pairs_msg.merge(users_df, left_on='response_id_user', right_on='id')\n",
    "\n",
    "pairs_msg = pairs_msg[pairs_msg['count'] > 1]\n",
    "\n",
    "# TODO: Проблема с парами сообщений\n",
    "pairs_msg = pairs_msg[['username', 'response_text', 'text', 'response_attachments_type', 'response_attachments', 'count']]\n",
    "pairs_msg = (pairs_msg.sort_values(by=['count', 'response_attachments', 'text'], ascending=[False, True, False])).reset_index(drop=True)\n",
    "\n",
    "pairs_msg = pairs_msg.rename({'text': 'response', 'response_text': 'text',\n",
    "                              'response_attachments': 'attachments', 'response_attachments_type': 'attachments_type'}, axis='columns')\n",
    "\n",
    "pairs_msg = pairs_msg.astype({'count': int})\n",
    "pairs_msg"
   ]
  },
  {
   "cell_type": "code",
   "execution_count": null,
   "id": "5773da12132b4d87",
   "metadata": {
    "ExecuteTime": {
     "end_time": "2024-03-02T01:28:38.814264Z",
     "start_time": "2024-03-02T01:28:38.781629Z"
    }
   },
   "outputs": [],
   "source": [
    "most_replied_msg = chat_df.loc[0:, ['id_user', 'response_id', 'response_id_user']]\n",
    "most_replied_msg = most_replied_msg[most_replied_msg['response_id'] != -1]\n",
    "\n",
    "most_replied_msg['count'] = most_replied_msg.groupby(['response_id_user', 'id_user'])[['response_id_user']].transform(\n",
    "    'count')\n",
    "most_replied_msg = most_replied_msg.groupby(['response_id_user']).head(1)\n",
    "most_replied_msg = most_replied_msg[most_replied_msg['count'] > 1]\n",
    "\n",
    "most_replied_msg = most_replied_msg.merge(users_df, left_on='response_id_user', right_on='id')\n",
    "most_replied_msg = most_replied_msg.merge(users_df, left_on='id_user', right_on='id')\n",
    "\n",
    "most_replied_msg = most_replied_msg.rename({'username_x': \"replied_to\", 'username_y': \"replied_by\"}, axis='columns')\n",
    "most_replied_msg = most_replied_msg[['replied_to', 'replied_by', 'count']]\n",
    "most_replied_msg = most_replied_msg.sort_values(by=['count', 'replied_to', 'replied_by'],\n",
    "                                                ascending=[False, False, False]).reset_index(drop=True)\n",
    "\n",
    "most_replied_msg\n"
   ]
  },
  {
   "cell_type": "code",
   "execution_count": null,
   "id": "d41db05c",
   "metadata": {},
   "outputs": [],
   "source": [
    "stickers_df = chat_df[chat_df['attachments_type'] == 'sticker'].copy()\n",
    "stickers_df['attachments'] = stickers_df['attachments'].apply(lambda x: x[0])\n",
    "stickers_df"
   ]
  },
  {
   "cell_type": "code",
   "execution_count": null,
   "id": "905d1cd9",
   "metadata": {},
   "outputs": [],
   "source": [
    "stickers_df['global_count'] = stickers_df.groupby('attachments')['id'].transform('size')\n",
    "stickers_df.sort_values('global_count', ascending=False)"
   ]
  },
  {
   "cell_type": "code",
   "execution_count": null,
   "id": "481a5889",
   "metadata": {},
   "outputs": [],
   "source": [
    "stickers_df.groupby('attachments')['id'].count().sort_values(ascending=False)"
   ]
  },
  {
   "cell_type": "code",
   "execution_count": null,
   "id": "8c231922d3c8cd75",
   "metadata": {
    "ExecuteTime": {
     "end_time": "2024-03-02T00:37:25.882892Z",
     "start_time": "2024-03-02T00:37:25.876369Z"
    }
   },
   "outputs": [],
   "source": [
    "plt.figure(figsize=(20, 10))\n",
    "ct_img = 10\n",
    "columns_count = 5\n",
    "\n",
    "for i, img_name in enumerate(stickers_df.groupby('attachments')['id'].count().sort_values(ascending=False).head(ct_img).items()):\n",
    "    # print(img_name)\n",
    "    plt.subplot(ct_img // columns_count, columns_count, i + 1)\n",
    "    img = mpimg.imread(f\"content/visual/stickers/{img_name[0]}\")\n",
    "    plt.yticks([])\n",
    "    plt.xticks([])\n",
    "    plt.title(f'{img_name[1]}')\n",
    "    plt.imshow(img)"
   ]
  },
  {
   "cell_type": "code",
   "execution_count": null,
   "id": "1dd728aa",
   "metadata": {},
   "outputs": [],
   "source": [
    "stickers_df = stickers_df.merge(users_df, left_on='id_user', right_on='id', suffixes=('', '_y')).drop(['id_y', 'text'], axis=1)\n",
    "stickers_df"
   ]
  },
  {
   "cell_type": "code",
   "execution_count": null,
   "id": "8beaa353",
   "metadata": {},
   "outputs": [],
   "source": [
    "# Самые частопишущие люди\n",
    "stickers_df.groupby(['username'])['id'].count().sort_values(ascending=False)"
   ]
  },
  {
   "cell_type": "code",
   "execution_count": null,
   "id": "578322d5",
   "metadata": {},
   "outputs": [],
   "source": [
    "ct_img = 10\n",
    "columns_count = 5\n",
    "\n",
    "for name in stickers_df.groupby(['username'])['id'].count().sort_values(ascending=False).keys()[:]:\n",
    "    # print(name)\n",
    "    plt.figure(figsize=(20, 10))\n",
    "    plt.yticks([])\n",
    "    plt.xticks([])\n",
    "    plt.title(name)\n",
    "    for i, img_info in enumerate(stickers_df[stickers_df['username'] == name].groupby('attachments')['id'].count().sort_values(ascending=False).head(ct_img).items()):\n",
    "        # print(img_info)\n",
    "        plt.subplot(ct_img // columns_count, columns_count, i + 1)\n",
    "        img = mpimg.imread(f\"content/visual/stickers/{img_info[0]}\")\n",
    "        plt.yticks([])\n",
    "        plt.xticks([])\n",
    "        plt.title(f'{img_info[1]}')\n",
    "        plt.imshow(img)\n",
    "    # print()"
   ]
  },
  {
   "cell_type": "code",
   "execution_count": null,
   "id": "9807c19a",
   "metadata": {},
   "outputs": [],
   "source": []
  }
 ],
 "metadata": {
  "kernelspec": {
   "display_name": ".venv",
   "language": "python",
   "name": "python3"
  },
  "language_info": {
   "codemirror_mode": {
    "name": "ipython",
    "version": 3
   },
   "file_extension": ".py",
   "mimetype": "text/x-python",
   "name": "python",
   "nbconvert_exporter": "python",
   "pygments_lexer": "ipython3",
   "version": "3.10.2"
  }
 },
 "nbformat": 4,
 "nbformat_minor": 5
}
