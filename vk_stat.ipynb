{
 "cells": [
  {
   "cell_type": "markdown",
   "source": [
    "# Подготовительный этап"
   ],
   "metadata": {
    "collapsed": false
   },
   "id": "41f36efef10fa7fa"
  },
  {
   "cell_type": "markdown",
   "source": [
    "## Получение чата"
   ],
   "metadata": {
    "collapsed": false
   },
   "id": "23cb80cec045b708"
  },
  {
   "cell_type": "markdown",
   "source": [
    "### Подготовительный этап\n",
    "\n",
    "#### Цели:\n",
    "1. Получить ***vk token***\n",
    "2. Получить ***id чата***, состоящий из двух цифр\n",
    "3. Определиться, должна ли будет проводиться загрузка фото и стикеров\n",
    "\n",
    "#### Решение:\n",
    "1. Гугл в помощь + ***.env*** для хранения\n",
    "2. Адресная строка в помощь\n",
    "3. Введена дополнительная переменная для определения того, следует ли пытаться загрузить изображения и стикеры, или нет"
   ],
   "metadata": {
    "collapsed": false
   },
   "id": "f7b172afe522750"
  },
  {
   "cell_type": "code",
   "outputs": [
    {
     "data": {
      "text/plain": "'Должна ли проводиться загрузка фото/стикеров'"
     },
     "execution_count": 14,
     "metadata": {},
     "output_type": "execute_result"
    }
   ],
   "source": [
    "import vk_api\n",
    "import urllib3\n",
    "import pandas as pd\n",
    "from math import ceil\n",
    "from datetime import datetime\n",
    "\n",
    "from dotenv import dotenv_values\n",
    "\n",
    "secrets = dotenv_values(\".env\")\n",
    "\"\"\"Секреты\"\"\"\n",
    "\n",
    "vk = vk_api.VkApi(\n",
    "    token=secrets['VK_TOKEN'])\n",
    "\"\"\"Модуль ВК\"\"\"\n",
    "\n",
    "id_chat = int(secrets['CHAT_ID'])\n",
    "\"\"\"id чата\"\"\"\n",
    "\n",
    "SHOULD_DOWNLOAD = False\n",
    "\"\"\"Должна ли проводиться загрузка фото/стикеров\"\"\"\n"
   ],
   "metadata": {
    "collapsed": false,
    "ExecuteTime": {
     "end_time": "2024-03-01T04:37:46.611795Z",
     "start_time": "2024-03-01T04:37:46.574796Z"
    }
   },
   "id": "e4b2ceff358d476b",
   "execution_count": 14
  },
  {
   "cell_type": "markdown",
   "source": [
    "### Определение функций\n",
    "\n",
    "Необходимо определиться с тем, как будет получаться необходимая информация с vk.\n",
    "Поскольку используется ***vk_api***, то можно использовать официальную документацию по работе с api.\n",
    "\n",
    "**get_chat** — работает с ***vk.method***, поэтому все параметры приходится прописывать в роли dictionary.\n",
    "**download_&** — работает с помощью ***urllib3***. Получается изображение с сайта, затем оно сохраняется и готово.\n",
    "\n",
    "Дополнительную информацию можно прочесть в документации в коде."
   ],
   "metadata": {
    "collapsed": false
   },
   "id": "6aa48d8f5fc5156c"
  },
  {
   "cell_type": "code",
   "outputs": [],
   "source": [
    "def download_image(url: str) -> None:\n",
    "    \"\"\"\n",
    "\n",
    "    Функция загрузки изображения\n",
    "\n",
    "    :param url: URL адрес картинки\n",
    "    :type url: str\n",
    "\n",
    "    :return: Сохраняет картинку в папку\n",
    "        Каждая картинка появляется лишь 1 раз\n",
    "    :rtype: None\n",
    "\n",
    "    \"\"\"\n",
    "    file_name = (url.split(\"/\")[-1]).split(\"?\")[0]\n",
    "    \"\"\"Имя картинки\"\"\"\n",
    "\n",
    "    result_image = urllib3.request('GET', url)\n",
    "    \"\"\"Полученное изображение\"\"\"\n",
    "    with open(f'content/visual/images/{file_name}', 'wb') as image:\n",
    "        image.write(result_image.data)\n",
    "\n",
    "\n",
    "def download_sticker(id_sticker: int) -> None:\n",
    "    \"\"\"\n",
    "\n",
    "    Функция загрузки стикера\n",
    "\n",
    "    :param id_sticker: Номер стикера\n",
    "    :type id_sticker: int\n",
    "\n",
    "    :return: Сохраняет стикер в папку\n",
    "        Каждый стикер появляется лишь 1 раз\n",
    "        Стикеры сохраняются в формате .png в разрешении 512x512\n",
    "    :rtype: None\n",
    "\n",
    "    \"\"\"\n",
    "    result_sticker = urllib3.request('GET', f\"https://vk.com/sticker/1-{id_sticker}-512b\")\n",
    "    \"\"\"Полученный стикер\"\"\"\n",
    "    with open(f'content/visual/stickers/{id_sticker}.png', 'wb') as f:\n",
    "        f.write(result_sticker.data)\n",
    "\n",
    "\n",
    "def get_chat(peer_id: int = id_chat, count: int = 200, offset: int = 0) -> dict:\n",
    "    \"\"\"\n",
    "\n",
    "    Позволяет получить сообщения из чата.\n",
    "\n",
    "    :param peer_id: id чата.\n",
    "        Работает через peer\n",
    "    :type peer_id: int\n",
    "    :param count: Количество получаемых сообщений <= 200\n",
    "    :type count: int\n",
    "    :param offset: Сдвиг от начального сообщения\n",
    "    :type offset: int\n",
    "\n",
    "    :return: Словарь с сообщениями и их параметрами\n",
    "    :rtype: dict\n",
    "\n",
    "    \"\"\"\n",
    "    # Требуется добавлять 2e9 по документации vk api\n",
    "    peer_id += 2e9\n",
    "\n",
    "    return vk.method('messages.getHistory',\n",
    "                     {'peer_id': peer_id,\n",
    "                      'count': count,\n",
    "                      'offset': offset,\n",
    "                      'rev': 1,\n",
    "                      'extended': True}\n",
    "                     )\n"
   ],
   "metadata": {
    "collapsed": false,
    "ExecuteTime": {
     "end_time": "2024-03-01T04:37:46.689796Z",
     "start_time": "2024-03-01T04:37:46.671796Z"
    }
   },
   "id": "713deab9cba6f905",
   "execution_count": 15
  },
  {
   "cell_type": "markdown",
   "source": [
    "### Получение чата\n",
    "\n",
    "Теперь необходимо получить сам чат.\n",
    "\n",
    "Делается это в два этапа:\n",
    "\n",
    "#### Этап 1:\n",
    "##### Получение длины чата.\n",
    "\n",
    "Берётся одно сообщение из чата.\n",
    "В каждый ***response*** закладывается количество сообщений в чате.\n",
    "С его помощью можно завести цикл по количеству сообщений.\n",
    "\n",
    "#### Этап 2:\n",
    "##### Сам цикл.\n",
    "\n",
    "За раз я могу получить лишь 200 сообщений из чата.\n",
    "***delta*** делает отступ от первого сообщения в чате, а также является счётчиком того, сколько сообщений было прочитано.\n",
    "\n",
    "#### Этап 3:\n",
    "##### Получение пользователей.\n",
    "\n",
    "Каждый раз при запуске нового большого цикла производится добавление пользователей, что так или иначе были задействованы в этих сообщениях (пересланные сообщения и реакции тоже считаются), добавляются в **users_mass**, содержащий **id** пользователей и их **Имя** и **Фамилию**.\n",
    "\n",
    "Пользователи с удалённым профилем тоже обрабатываются. В качестве **Имени** ***vk*** даёт им *DELETED*, а в качестве **Фамилии** берётся их **id**.\n",
    "\n",
    "#### Этап 4:\n",
    "##### Разбор сообщений.\n",
    "\n",
    "Сообщения имеют следующие характеристики:\n",
    "**id**\n",
    "**id пользователя**\n",
    "**Является ли действием** *(добавление/исключение пользователей)*\n",
    "**Пересылается ли сообщение в сообщении**\n",
    "**Текст сообщения**\n",
    "**Приложенный файл**\n",
    "**Реакции на сообщение**\n",
    "**Информация о сообщении, на которое даётся ответ**. Необходимо брать эту информацию, поскольку может быть ситуация, когда сообщение, на которое был дан ответ, было позже удалено.\n",
    "\n",
    "Более подробно о том, как разбираются сообщения будет лучше посмотреть в коде, но если вкратце — берётся разнообразная информация из оригинального сообщения (**message_data**) и добавляется в финальное сообщение (**message**), которое затем добавляется в **msg_mass**.\n",
    "\n",
    "Удалённые сообщения. Но вместо их **id** берётся константа *404404* и приписывается текущее количество удалённых сообщений.\n"
   ],
   "metadata": {
    "collapsed": false
   },
   "id": "e7c838f9fbfc8694"
  },
  {
   "cell_type": "code",
   "outputs": [
    {
     "name": "stdout",
     "output_type": "stream",
     "text": [
      "0:13:46.276262\n"
     ]
    },
    {
     "data": {
      "text/plain": "            id             username\n0    205170325      Дарья Белоусова\n1    228579277         Яна Шевелёва\n2    267228976   Александр Пушкарёв\n3    305187037  Максим Завязочников\n4    352169415    Денис Севостьянов\n..         ...                  ...\n334  288927172          Вадим Зотов\n335  284711423       Артём Цеппелев\n336  412777661         Maria Oguzok\n337  690543725         Анишит Йокоп\n338  733644604   Екатерина Каменева\n\n[339 rows x 2 columns]",
      "text/html": "<div>\n<style scoped>\n    .dataframe tbody tr th:only-of-type {\n        vertical-align: middle;\n    }\n\n    .dataframe tbody tr th {\n        vertical-align: top;\n    }\n\n    .dataframe thead th {\n        text-align: right;\n    }\n</style>\n<table border=\"1\" class=\"dataframe\">\n  <thead>\n    <tr style=\"text-align: right;\">\n      <th></th>\n      <th>id</th>\n      <th>username</th>\n    </tr>\n  </thead>\n  <tbody>\n    <tr>\n      <th>0</th>\n      <td>205170325</td>\n      <td>Дарья Белоусова</td>\n    </tr>\n    <tr>\n      <th>1</th>\n      <td>228579277</td>\n      <td>Яна Шевелёва</td>\n    </tr>\n    <tr>\n      <th>2</th>\n      <td>267228976</td>\n      <td>Александр Пушкарёв</td>\n    </tr>\n    <tr>\n      <th>3</th>\n      <td>305187037</td>\n      <td>Максим Завязочников</td>\n    </tr>\n    <tr>\n      <th>4</th>\n      <td>352169415</td>\n      <td>Денис Севостьянов</td>\n    </tr>\n    <tr>\n      <th>...</th>\n      <td>...</td>\n      <td>...</td>\n    </tr>\n    <tr>\n      <th>334</th>\n      <td>288927172</td>\n      <td>Вадим Зотов</td>\n    </tr>\n    <tr>\n      <th>335</th>\n      <td>284711423</td>\n      <td>Артём Цеппелев</td>\n    </tr>\n    <tr>\n      <th>336</th>\n      <td>412777661</td>\n      <td>Maria Oguzok</td>\n    </tr>\n    <tr>\n      <th>337</th>\n      <td>690543725</td>\n      <td>Анишит Йокоп</td>\n    </tr>\n    <tr>\n      <th>338</th>\n      <td>733644604</td>\n      <td>Екатерина Каменева</td>\n    </tr>\n  </tbody>\n</table>\n<p>339 rows × 2 columns</p>\n</div>"
     },
     "execution_count": 16,
     "metadata": {},
     "output_type": "execute_result"
    }
   ],
   "source": [
    "length_chat = get_chat(count=1)['count']\n",
    "\"\"\"Количество сообщений в чате\"\"\"\n",
    "\n",
    "msg_mass = []\n",
    "\"\"\"Массив сообщений\"\"\"\n",
    "\n",
    "users_mass = {}\n",
    "\"\"\"Список пользователей\"\"\"\n",
    "\n",
    "count_dead_msg = 0\n",
    "\"\"\"Количество удалённых сообщений, на которые был дан ответ\"\"\"\n",
    "\n",
    "start_time = datetime.now()\n",
    "\"\"\"Время начала получения статистики\"\"\"\n",
    "for times_add in range(int(ceil(length_chat / 200))):\n",
    "\n",
    "    delta = 200 * times_add\n",
    "    \"\"\"Отступ от первого сообщения\"\"\"\n",
    "    messages = get_chat(count=min(200, length_chat - delta), offset=delta)\n",
    "    \"\"\"count сообщений после delta\"\"\"\n",
    "\n",
    "    for profile in messages['profiles']:\n",
    "        if users_mass.get(profile['id']):\n",
    "            continue\n",
    "        users_mass[profile['id']] = profile['first_name'] + \" \"\n",
    "        if profile.get('deactivated') and profile['deactivated'] == 'deleted':\n",
    "            users_mass[profile['id']] += str(profile['id'])\n",
    "        else:\n",
    "            users_mass[profile['id']] += profile['last_name']\n",
    "\n",
    "    for message_data in messages['items']:\n",
    "        isForwarding = True if message_data.get(\"fwd_messages\") else False\n",
    "        \"\"\"Пересылается ли сообщение\"\"\"\n",
    "\n",
    "        isAction = True if message_data.get('action') else False\n",
    "        \"\"\"Является ли сообщение действием\"\"\"\n",
    "\n",
    "        attachments_type = \"None\"\n",
    "        \"\"\"Тип прикреплённого сообщения\"\"\"\n",
    "        attachments = []\n",
    "        \"\"\"Прикреплённые доп. материалы\"\"\"\n",
    "        if message_data.get('attachments'):\n",
    "\n",
    "            for attachment in message_data['attachments']:\n",
    "                if attachment['type'] == 'photo':\n",
    "                    attachments_type = 'photo'\n",
    "                    attachments.append(\n",
    "                        (((attachment['photo']['sizes'][-1]['url']).split(\"/\")[-1]).split(\"?\"))[0]\n",
    "                    )\n",
    "                elif attachment['type'] == 'sticker':\n",
    "                    attachments_type = 'sticker'\n",
    "                    attachments.append(str(attachment['sticker']['sticker_id']) + \".png\")\n",
    "\n",
    "        reactions = [0] * (16 + 1)\n",
    "        \"\"\"Реакции\"\"\"\n",
    "        if message_data.get('reactions'):\n",
    "            # Почему-то не всегда показывает тех, кто ставил реакции\n",
    "            # #1\n",
    "            for reaction in message_data['reactions']:\n",
    "                reactions[0] += reaction['count']\n",
    "                user_list = [reaction['count']]\n",
    "                for user in reaction['user_ids']:\n",
    "                    user_list.append(user)\n",
    "                reactions[reaction['reaction_id']] = user_list\n",
    "\n",
    "        response = {'id': -1,\n",
    "                    'date': -1,\n",
    "                    'user_id': -1,\n",
    "                    'text': \"None\",\n",
    "                    'attachments': {'type': \"None\",\n",
    "                                    'value': []\n",
    "                                    # Содержит в себе название файла\n",
    "                                    }\n",
    "                    }\n",
    "        \"\"\"Ответ на сообщение\"\"\"\n",
    "        if message_data.get('reply_message'):\n",
    "            reply = message_data['reply_message']\n",
    "            if reply.get('conversation_message_id'):\n",
    "                response['id'] = reply['conversation_message_id']\n",
    "            if not reply.get('conversation_message_id') or response['id'] is None:\n",
    "                response['id'] = int(f'404404{count_dead_msg}')\n",
    "                count_dead_msg += 1\n",
    "            response['date'] = reply['date']\n",
    "            response['user_id'] = reply['from_id']\n",
    "            response['text'] = reply['text']\n",
    "\n",
    "            for attachment in reply['attachments']:\n",
    "                if attachment['type'] == 'photo':\n",
    "                    response['attachments']['type'] = 'photo'\n",
    "                    response['attachments']['value'].append(\n",
    "                        (((attachment['photo']['sizes'][-1]['url']).split(\"/\")[-1]).split(\"?\"))[0]\n",
    "                    )\n",
    "                elif attachment['type'] == 'sticker':\n",
    "                    response['attachments']['type'] = 'sticker'\n",
    "                    response['attachments']['value'].append(str(attachment['sticker']['sticker_id']) + \".png\")\n",
    "\n",
    "        message = {'id': message_data['id'],\n",
    "                   'date': message_data['date'],\n",
    "                   'isAction': isAction,\n",
    "                   'isForwarding': isForwarding,\n",
    "                   'id_user': message_data['from_id'],\n",
    "                   'text': message_data['text'],\n",
    "                   'attachments_type': attachments_type,\n",
    "                   'attachments': attachments,\n",
    "                   'reactions': reactions,\n",
    "                   'response_id': response['id'],\n",
    "                   'response_date': response['date'],\n",
    "                   'response_id_user': response['user_id'],\n",
    "                   'response_text': response['text'],\n",
    "                   'response_attachments_type': response['attachments']['type'],\n",
    "                   'response_attachments': response['attachments']['value']\n",
    "                   }\n",
    "        \"\"\"Сообщение\"\"\"\n",
    "\n",
    "        msg_mass.append(message)\n",
    "\n",
    "        # Загрузка доп данных\n",
    "        if SHOULD_DOWNLOAD and message_data.get('attachments'):\n",
    "            for attachment in message_data['attachments']:\n",
    "                if attachment['type'] == 'photo':\n",
    "                    download_image(attachment['photo']['sizes'][-1]['url'])\n",
    "                elif attachment['type'] == 'sticker':\n",
    "                    download_sticker(attachment['sticker']['sticker_id'])\n",
    "\n",
    "end_time = datetime.now()\n",
    "\"\"\"Время завершения программы получения статистики\"\"\"\n",
    "print(end_time - start_time)\n",
    "\n",
    "users_df = pd.DataFrame(users_mass.items(), columns=['id', 'username'])\n",
    "chat_df = pd.DataFrame(msg_mass)\n",
    "\n",
    "users_df"
   ],
   "metadata": {
    "collapsed": false,
    "ExecuteTime": {
     "end_time": "2024-03-01T04:51:35.270083Z",
     "start_time": "2024-03-01T04:37:46.919775Z"
    }
   },
   "id": "ebe3d3ba3a1c4624",
   "execution_count": 16
  },
  {
   "cell_type": "code",
   "outputs": [
    {
     "data": {
      "text/plain": "            id        date  isAction  isForwarding    id_user  \\\n0       243689  1660100832     False         False  352169415   \n1       243690  1660100835     False         False  657900781   \n2       243691  1660100838     False         False  352169415   \n3       243692  1660100842     False         False  657900781   \n4       243693  1660100850     False         False  267228976   \n...        ...         ...       ...           ...        ...   \n175629  614379  1700312261      True         False  267228976   \n175630  614380  1701352697     False         False  529577677   \n175631  614381  1701352787     False         False  529577677   \n175632  614382  1701352798      True         False  529577677   \n175633  614383  1708771406      True         False  453792061   \n\n                                                     text attachments_type  \\\n0                                  Ну, теперь на егэ поху             None   \n1       у меня потом такой тильт из-за резов был ахвхв...             None   \n2                                      Поступил и отлично             None   \n3                      сейчас главное что поступила и все             None   \n4                                       это самое главное             None   \n...                                                   ...              ...   \n175629                                                                None   \n175630                                    Очень интересно             None   \n175631                                           Прощайте             None   \n175632                                                                None   \n175633                                                                None   \n\n       attachments                                          reactions  \\\n0               []  [0, 0, 0, 0, 0, 0, 0, 0, 0, 0, 0, 0, 0, 0, 0, ...   \n1               []  [0, 0, 0, 0, 0, 0, 0, 0, 0, 0, 0, 0, 0, 0, 0, ...   \n2               []  [0, 0, 0, 0, 0, 0, 0, 0, 0, 0, 0, 0, 0, 0, 0, ...   \n3               []  [0, 0, 0, 0, 0, 0, 0, 0, 0, 0, 0, 0, 0, 0, 0, ...   \n4               []  [0, 0, 0, 0, 0, 0, 0, 0, 0, 0, 0, 0, 0, 0, 0, ...   \n...            ...                                                ...   \n175629          []  [0, 0, 0, 0, 0, 0, 0, 0, 0, 0, 0, 0, 0, 0, 0, ...   \n175630          []  [0, 0, 0, 0, 0, 0, 0, 0, 0, 0, 0, 0, 0, 0, 0, ...   \n175631          []  [0, 0, 0, 0, 0, 0, 0, 0, 0, 0, 0, 0, 0, 0, 0, ...   \n175632          []  [0, 0, 0, 0, 0, 0, 0, 0, 0, 0, 0, 0, 0, 0, 0, ...   \n175633          []  [0, 0, 0, 0, 0, 0, 0, 0, 0, 0, 0, 0, 0, 0, 0, ...   \n\n        response_id  response_date  response_id_user  \\\n0                -1             -1                -1   \n1                -1             -1                -1   \n2                -1             -1                -1   \n3               848     1660100835         657900781   \n4               849     1660100838         352169415   \n...             ...            ...               ...   \n175629           -1             -1                -1   \n175630           -1             -1                -1   \n175631           -1             -1                -1   \n175632           -1             -1                -1   \n175633           -1             -1                -1   \n\n                                            response_text  \\\n0                                                    None   \n1                                                    None   \n2                                                    None   \n3       у меня потом такой тильт из-за резов был ахвхв...   \n4                                      Поступил и отлично   \n...                                                   ...   \n175629                                               None   \n175630                                               None   \n175631                                               None   \n175632                                               None   \n175633                                               None   \n\n       response_attachments_type response_attachments  \n0                           None                   []  \n1                           None                   []  \n2                           None                   []  \n3                           None                   []  \n4                           None                   []  \n...                          ...                  ...  \n175629                      None                   []  \n175630                      None                   []  \n175631                      None                   []  \n175632                      None                   []  \n175633                      None                   []  \n\n[175634 rows x 15 columns]",
      "text/html": "<div>\n<style scoped>\n    .dataframe tbody tr th:only-of-type {\n        vertical-align: middle;\n    }\n\n    .dataframe tbody tr th {\n        vertical-align: top;\n    }\n\n    .dataframe thead th {\n        text-align: right;\n    }\n</style>\n<table border=\"1\" class=\"dataframe\">\n  <thead>\n    <tr style=\"text-align: right;\">\n      <th></th>\n      <th>id</th>\n      <th>date</th>\n      <th>isAction</th>\n      <th>isForwarding</th>\n      <th>id_user</th>\n      <th>text</th>\n      <th>attachments_type</th>\n      <th>attachments</th>\n      <th>reactions</th>\n      <th>response_id</th>\n      <th>response_date</th>\n      <th>response_id_user</th>\n      <th>response_text</th>\n      <th>response_attachments_type</th>\n      <th>response_attachments</th>\n    </tr>\n  </thead>\n  <tbody>\n    <tr>\n      <th>0</th>\n      <td>243689</td>\n      <td>1660100832</td>\n      <td>False</td>\n      <td>False</td>\n      <td>352169415</td>\n      <td>Ну, теперь на егэ поху</td>\n      <td>None</td>\n      <td>[]</td>\n      <td>[0, 0, 0, 0, 0, 0, 0, 0, 0, 0, 0, 0, 0, 0, 0, ...</td>\n      <td>-1</td>\n      <td>-1</td>\n      <td>-1</td>\n      <td>None</td>\n      <td>None</td>\n      <td>[]</td>\n    </tr>\n    <tr>\n      <th>1</th>\n      <td>243690</td>\n      <td>1660100835</td>\n      <td>False</td>\n      <td>False</td>\n      <td>657900781</td>\n      <td>у меня потом такой тильт из-за резов был ахвхв...</td>\n      <td>None</td>\n      <td>[]</td>\n      <td>[0, 0, 0, 0, 0, 0, 0, 0, 0, 0, 0, 0, 0, 0, 0, ...</td>\n      <td>-1</td>\n      <td>-1</td>\n      <td>-1</td>\n      <td>None</td>\n      <td>None</td>\n      <td>[]</td>\n    </tr>\n    <tr>\n      <th>2</th>\n      <td>243691</td>\n      <td>1660100838</td>\n      <td>False</td>\n      <td>False</td>\n      <td>352169415</td>\n      <td>Поступил и отлично</td>\n      <td>None</td>\n      <td>[]</td>\n      <td>[0, 0, 0, 0, 0, 0, 0, 0, 0, 0, 0, 0, 0, 0, 0, ...</td>\n      <td>-1</td>\n      <td>-1</td>\n      <td>-1</td>\n      <td>None</td>\n      <td>None</td>\n      <td>[]</td>\n    </tr>\n    <tr>\n      <th>3</th>\n      <td>243692</td>\n      <td>1660100842</td>\n      <td>False</td>\n      <td>False</td>\n      <td>657900781</td>\n      <td>сейчас главное что поступила и все</td>\n      <td>None</td>\n      <td>[]</td>\n      <td>[0, 0, 0, 0, 0, 0, 0, 0, 0, 0, 0, 0, 0, 0, 0, ...</td>\n      <td>848</td>\n      <td>1660100835</td>\n      <td>657900781</td>\n      <td>у меня потом такой тильт из-за резов был ахвхв...</td>\n      <td>None</td>\n      <td>[]</td>\n    </tr>\n    <tr>\n      <th>4</th>\n      <td>243693</td>\n      <td>1660100850</td>\n      <td>False</td>\n      <td>False</td>\n      <td>267228976</td>\n      <td>это самое главное</td>\n      <td>None</td>\n      <td>[]</td>\n      <td>[0, 0, 0, 0, 0, 0, 0, 0, 0, 0, 0, 0, 0, 0, 0, ...</td>\n      <td>849</td>\n      <td>1660100838</td>\n      <td>352169415</td>\n      <td>Поступил и отлично</td>\n      <td>None</td>\n      <td>[]</td>\n    </tr>\n    <tr>\n      <th>...</th>\n      <td>...</td>\n      <td>...</td>\n      <td>...</td>\n      <td>...</td>\n      <td>...</td>\n      <td>...</td>\n      <td>...</td>\n      <td>...</td>\n      <td>...</td>\n      <td>...</td>\n      <td>...</td>\n      <td>...</td>\n      <td>...</td>\n      <td>...</td>\n      <td>...</td>\n    </tr>\n    <tr>\n      <th>175629</th>\n      <td>614379</td>\n      <td>1700312261</td>\n      <td>True</td>\n      <td>False</td>\n      <td>267228976</td>\n      <td></td>\n      <td>None</td>\n      <td>[]</td>\n      <td>[0, 0, 0, 0, 0, 0, 0, 0, 0, 0, 0, 0, 0, 0, 0, ...</td>\n      <td>-1</td>\n      <td>-1</td>\n      <td>-1</td>\n      <td>None</td>\n      <td>None</td>\n      <td>[]</td>\n    </tr>\n    <tr>\n      <th>175630</th>\n      <td>614380</td>\n      <td>1701352697</td>\n      <td>False</td>\n      <td>False</td>\n      <td>529577677</td>\n      <td>Очень интересно</td>\n      <td>None</td>\n      <td>[]</td>\n      <td>[0, 0, 0, 0, 0, 0, 0, 0, 0, 0, 0, 0, 0, 0, 0, ...</td>\n      <td>-1</td>\n      <td>-1</td>\n      <td>-1</td>\n      <td>None</td>\n      <td>None</td>\n      <td>[]</td>\n    </tr>\n    <tr>\n      <th>175631</th>\n      <td>614381</td>\n      <td>1701352787</td>\n      <td>False</td>\n      <td>False</td>\n      <td>529577677</td>\n      <td>Прощайте</td>\n      <td>None</td>\n      <td>[]</td>\n      <td>[0, 0, 0, 0, 0, 0, 0, 0, 0, 0, 0, 0, 0, 0, 0, ...</td>\n      <td>-1</td>\n      <td>-1</td>\n      <td>-1</td>\n      <td>None</td>\n      <td>None</td>\n      <td>[]</td>\n    </tr>\n    <tr>\n      <th>175632</th>\n      <td>614382</td>\n      <td>1701352798</td>\n      <td>True</td>\n      <td>False</td>\n      <td>529577677</td>\n      <td></td>\n      <td>None</td>\n      <td>[]</td>\n      <td>[0, 0, 0, 0, 0, 0, 0, 0, 0, 0, 0, 0, 0, 0, 0, ...</td>\n      <td>-1</td>\n      <td>-1</td>\n      <td>-1</td>\n      <td>None</td>\n      <td>None</td>\n      <td>[]</td>\n    </tr>\n    <tr>\n      <th>175633</th>\n      <td>614383</td>\n      <td>1708771406</td>\n      <td>True</td>\n      <td>False</td>\n      <td>453792061</td>\n      <td></td>\n      <td>None</td>\n      <td>[]</td>\n      <td>[0, 0, 0, 0, 0, 0, 0, 0, 0, 0, 0, 0, 0, 0, 0, ...</td>\n      <td>-1</td>\n      <td>-1</td>\n      <td>-1</td>\n      <td>None</td>\n      <td>None</td>\n      <td>[]</td>\n    </tr>\n  </tbody>\n</table>\n<p>175634 rows × 15 columns</p>\n</div>"
     },
     "execution_count": 17,
     "metadata": {},
     "output_type": "execute_result"
    }
   ],
   "source": [
    "chat_df"
   ],
   "metadata": {
    "collapsed": false,
    "ExecuteTime": {
     "end_time": "2024-03-01T04:51:35.395940Z",
     "start_time": "2024-03-01T04:51:35.276553Z"
    }
   },
   "id": "21a0be51692d44d2",
   "execution_count": 17
  },
  {
   "cell_type": "markdown",
   "source": [
    "Проверка на правильность вводимых типов данных.\n",
    "\n",
    "Некоторые из них помечены как *object*. Это *str*, *dict*, *list* и им подобные структуры данных."
   ],
   "metadata": {
    "collapsed": false
   },
   "id": "748cd799183a7ce3"
  },
  {
   "cell_type": "code",
   "outputs": [
    {
     "data": {
      "text/plain": "id                            int64\ndate                          int64\nisAction                       bool\nisForwarding                   bool\nid_user                       int64\ntext                         object\nattachments_type             object\nattachments                  object\nreactions                    object\nresponse_id                   int64\nresponse_date                 int64\nresponse_id_user              int64\nresponse_text                object\nresponse_attachments_type    object\nresponse_attachments         object\ndtype: object"
     },
     "execution_count": 18,
     "metadata": {},
     "output_type": "execute_result"
    }
   ],
   "source": [
    "chat_df.dtypes"
   ],
   "metadata": {
    "collapsed": false,
    "ExecuteTime": {
     "end_time": "2024-03-01T04:51:35.427005Z",
     "start_time": "2024-03-01T04:51:35.400739Z"
    }
   },
   "id": "792ca86fc3a3c4f6",
   "execution_count": 18
  },
  {
   "cell_type": "markdown",
   "source": [
    "Перевод в .csv"
   ],
   "metadata": {
    "collapsed": false
   },
   "id": "61a0716ae48bf756"
  },
  {
   "cell_type": "code",
   "outputs": [],
   "source": [
    "import csv\n",
    "\n",
    "chat_df.to_csv()"
   ],
   "metadata": {
    "collapsed": false
   },
   "id": "be2aa8bd689bb61e"
  },
  {
   "cell_type": "markdown",
   "source": [
    "# Статистика"
   ],
   "metadata": {
    "collapsed": false
   },
   "id": "2df6bccdcba5ae8b"
  },
  {
   "cell_type": "markdown",
   "source": [
    "Введём дополнительную функцию, позволяющую перевести время из *UTC* в *YYYY-MM-DD HH:MM:SS*"
   ],
   "metadata": {
    "collapsed": false
   },
   "id": "fddc462dcea9e6d9"
  },
  {
   "cell_type": "code",
   "outputs": [],
   "source": [
    "def get_date(utc_date: int) -> str:\n",
    "    \"\"\"\n",
    "\n",
    "    Перевод даты из UTC формата в нормальный формат\n",
    "\n",
    "    :param utc_date: Дата в формате utc\n",
    "    :type utc_date: int\n",
    "\n",
    "    :return: Дата в формате YYYY-MM-DD HH:MM:SS\n",
    "    :rtype: str\n",
    "\n",
    "    \"\"\"\n",
    "    return datetime.utcfromtimestamp(utc_date).strftime('%Y-%m-%d %H:%M:%S')"
   ],
   "metadata": {
    "collapsed": false,
    "ExecuteTime": {
     "end_time": "2024-03-01T04:51:35.443185Z",
     "start_time": "2024-03-01T04:51:35.433712Z"
    }
   },
   "id": "44b77a60c8fb0560",
   "execution_count": 19
  },
  {
   "cell_type": "code",
   "outputs": [
    {
     "data": {
      "text/plain": "             username  count\n0     Даниил Плешанов  24631\n1   Александр Каменев  24115\n2          Аля Знаток  15244\n3        Яна Шевелёва  13730\n4   Денис Севостьянов  11244\n..                ...    ...\n73      Бек Нуриллоев      1\n74        Норбу Ондар      1\n75        Цзэхэн Цзун      1\n76      Татьяна Детер      1\n77  Максим Копытлянка      1\n\n[78 rows x 2 columns]",
      "text/html": "<div>\n<style scoped>\n    .dataframe tbody tr th:only-of-type {\n        vertical-align: middle;\n    }\n\n    .dataframe tbody tr th {\n        vertical-align: top;\n    }\n\n    .dataframe thead th {\n        text-align: right;\n    }\n</style>\n<table border=\"1\" class=\"dataframe\">\n  <thead>\n    <tr style=\"text-align: right;\">\n      <th></th>\n      <th>username</th>\n      <th>count</th>\n    </tr>\n  </thead>\n  <tbody>\n    <tr>\n      <th>0</th>\n      <td>Даниил Плешанов</td>\n      <td>24631</td>\n    </tr>\n    <tr>\n      <th>1</th>\n      <td>Александр Каменев</td>\n      <td>24115</td>\n    </tr>\n    <tr>\n      <th>2</th>\n      <td>Аля Знаток</td>\n      <td>15244</td>\n    </tr>\n    <tr>\n      <th>3</th>\n      <td>Яна Шевелёва</td>\n      <td>13730</td>\n    </tr>\n    <tr>\n      <th>4</th>\n      <td>Денис Севостьянов</td>\n      <td>11244</td>\n    </tr>\n    <tr>\n      <th>...</th>\n      <td>...</td>\n      <td>...</td>\n    </tr>\n    <tr>\n      <th>73</th>\n      <td>Бек Нуриллоев</td>\n      <td>1</td>\n    </tr>\n    <tr>\n      <th>74</th>\n      <td>Норбу Ондар</td>\n      <td>1</td>\n    </tr>\n    <tr>\n      <th>75</th>\n      <td>Цзэхэн Цзун</td>\n      <td>1</td>\n    </tr>\n    <tr>\n      <th>76</th>\n      <td>Татьяна Детер</td>\n      <td>1</td>\n    </tr>\n    <tr>\n      <th>77</th>\n      <td>Максим Копытлянка</td>\n      <td>1</td>\n    </tr>\n  </tbody>\n</table>\n<p>78 rows × 2 columns</p>\n</div>"
     },
     "execution_count": 20,
     "metadata": {},
     "output_type": "execute_result"
    }
   ],
   "source": [
    "# Количество сообщений, отправленных участниками чата\n",
    "chat_df.groupby(['id_user'])[['id']].count().merge(users_df, left_on='id_user', right_on='id')[['username', 'id_x']].rename({'id_x': 'count'}, axis='columns').sort_values(by='count', ascending=False).reset_index(drop=True)"
   ],
   "metadata": {
    "collapsed": false,
    "ExecuteTime": {
     "end_time": "2024-03-01T04:51:35.522561Z",
     "start_time": "2024-03-01T04:51:35.447188Z"
    }
   },
   "id": "aacf1f613e1cf7be",
   "execution_count": 20
  },
  {
   "cell_type": "code",
   "outputs": [],
   "source": [],
   "metadata": {
    "collapsed": false,
    "ExecuteTime": {
     "end_time": "2024-03-01T04:51:35.538849Z",
     "start_time": "2024-03-01T04:51:35.527435Z"
    }
   },
   "id": "97a431eafa300468",
   "execution_count": 20
  },
  {
   "cell_type": "code",
   "outputs": [],
   "source": [],
   "metadata": {
    "collapsed": false,
    "ExecuteTime": {
     "end_time": "2024-03-01T04:51:35.554912Z",
     "start_time": "2024-03-01T04:51:35.542882Z"
    }
   },
   "id": "6d2c46f99313b629",
   "execution_count": 20
  }
 ],
 "metadata": {
  "kernelspec": {
   "display_name": "Python 3",
   "language": "python",
   "name": "python3"
  },
  "language_info": {
   "codemirror_mode": {
    "name": "ipython",
    "version": 2
   },
   "file_extension": ".py",
   "mimetype": "text/x-python",
   "name": "python",
   "nbconvert_exporter": "python",
   "pygments_lexer": "ipython2",
   "version": "2.7.6"
  }
 },
 "nbformat": 4,
 "nbformat_minor": 5
}
